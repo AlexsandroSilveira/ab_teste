{
 "cells": [
  {
   "attachments": {},
   "cell_type": "markdown",
   "metadata": {},
   "source": [
    "# 0.1 Imports"
   ]
  },
  {
   "cell_type": "code",
   "execution_count": 1,
   "metadata": {},
   "outputs": [],
   "source": [
    "import numpy as np\n",
    "import pylab as py\n",
    "import pandas as pd\n",
    "import seaborn as sns\n",
    "import scipy.stats as stats\n",
    "import statsmodels.api as sm\n",
    "\n",
    "from scipy.stats import f_oneway\n",
    "from itertools import combinations\n",
    "from statsmodels.stats.weightstats import ztest\n",
    "from scipy.stats import bartlett, shapiro, kruskal\n",
    "from statsmodels.stats.gof import chisquare_effectsize\n",
    "from statsmodels.stats.proportion import proportions_ztest\n",
    "from statsmodels.sandbox.stats.multicomp import multipletests\n",
    "from statsmodels.stats.power import GofChisquarePower, TTestIndPower"
   ]
  },
  {
   "attachments": {},
   "cell_type": "markdown",
   "metadata": {},
   "source": [
    "# 1.0 Load Data"
   ]
  },
  {
   "cell_type": "code",
   "execution_count": 2,
   "metadata": {},
   "outputs": [
    {
     "data": {
      "text/html": [
       "<div>\n",
       "<style scoped>\n",
       "    .dataframe tbody tr th:only-of-type {\n",
       "        vertical-align: middle;\n",
       "    }\n",
       "\n",
       "    .dataframe tbody tr th {\n",
       "        vertical-align: top;\n",
       "    }\n",
       "\n",
       "    .dataframe thead th {\n",
       "        text-align: right;\n",
       "    }\n",
       "</style>\n",
       "<table border=\"1\" class=\"dataframe\">\n",
       "  <thead>\n",
       "    <tr style=\"text-align: right;\">\n",
       "      <th></th>\n",
       "      <th>variant</th>\n",
       "      <th>visits</th>\n",
       "      <th>clicks_all</th>\n",
       "      <th>clicks_link</th>\n",
       "      <th>conversion</th>\n",
       "    </tr>\n",
       "  </thead>\n",
       "  <tbody>\n",
       "    <tr>\n",
       "      <th>0</th>\n",
       "      <td>interact</td>\n",
       "      <td>10283</td>\n",
       "      <td>3714</td>\n",
       "      <td>42</td>\n",
       "      <td>0.011309</td>\n",
       "    </tr>\n",
       "    <tr>\n",
       "      <th>1</th>\n",
       "      <td>connect</td>\n",
       "      <td>2742</td>\n",
       "      <td>1587</td>\n",
       "      <td>53</td>\n",
       "      <td>0.033396</td>\n",
       "    </tr>\n",
       "    <tr>\n",
       "      <th>2</th>\n",
       "      <td>learn</td>\n",
       "      <td>2747</td>\n",
       "      <td>1652</td>\n",
       "      <td>21</td>\n",
       "      <td>0.012712</td>\n",
       "    </tr>\n",
       "    <tr>\n",
       "      <th>3</th>\n",
       "      <td>help</td>\n",
       "      <td>3180</td>\n",
       "      <td>1717</td>\n",
       "      <td>38</td>\n",
       "      <td>0.022132</td>\n",
       "    </tr>\n",
       "    <tr>\n",
       "      <th>4</th>\n",
       "      <td>services</td>\n",
       "      <td>2064</td>\n",
       "      <td>1348</td>\n",
       "      <td>45</td>\n",
       "      <td>0.033383</td>\n",
       "    </tr>\n",
       "  </tbody>\n",
       "</table>\n",
       "</div>"
      ],
      "text/plain": [
       "    variant  visits  clicks_all  clicks_link  conversion\n",
       "0  interact   10283        3714           42    0.011309\n",
       "1   connect    2742        1587           53    0.033396\n",
       "2     learn    2747        1652           21    0.012712\n",
       "3      help    3180        1717           38    0.022132\n",
       "4  services    2064        1348           45    0.033383"
      ]
     },
     "execution_count": 2,
     "metadata": {},
     "output_type": "execute_result"
    }
   ],
   "source": [
    "data = {'variant' : ['interact', 'connect', 'learn', 'help', 'services'],\n",
    "        'visits' : [10283, 2742, 2747, 3180, 2064],\n",
    "        'clicks_all' : [3714, 1587, 1652, 1717, 1348],\n",
    "        'clicks_link' : [42, 53, 21, 38, 45]}\n",
    "\n",
    "df = pd.DataFrame( data )\n",
    "df['conversion'] = df['clicks_link'] / df['clicks_all']\n",
    "df"
   ]
  },
  {
   "attachments": {},
   "cell_type": "markdown",
   "metadata": {},
   "source": [
    "# 2.0 Design de Experimentos"
   ]
  },
  {
   "cell_type": "markdown",
   "metadata": {},
   "source": [
    "## 2.1 Formulação da Hipótese"
   ]
  },
  {
   "cell_type": "code",
   "execution_count": 3,
   "metadata": {},
   "outputs": [],
   "source": [
    "# H0: Não há nenhuma diferença entre o CTR das variantes da página\n",
    "# H1: Há nenhuma diferença entre o CTR das variantes da página\n",
    "\n",
    "# Teste Bi-Caudal"
   ]
  },
  {
   "cell_type": "markdown",
   "metadata": {},
   "source": [
    "## 2.2 Parâmetros do Experimento"
   ]
  },
  {
   "cell_type": "code",
   "execution_count": 4,
   "metadata": {},
   "outputs": [],
   "source": [
    "k = len( df['clicks_all'])\n",
    "dist_atual = df['clicks_link'] / df['clicks_link'].sum()\n",
    "dist_esperada = [ 1/k ] * k"
   ]
  },
  {
   "cell_type": "code",
   "execution_count": 5,
   "metadata": {},
   "outputs": [
    {
     "name": "stdout",
     "output_type": "stream",
     "text": [
      "Tamanho de amostra mínimo por variante: 222\n",
      "Tamanho de amostra total: 1110\n"
     ]
    }
   ],
   "source": [
    "alpha = 0.05\n",
    "power = 0.8\n",
    "effect_size = chisquare_effectsize( dist_esperada, dist_atual )\n",
    "\n",
    "\"\"\" sample_size = GofChisquarePower().solve_power(\n",
    "                                effect_size=effect_size,\n",
    "                                alpha=alpha,\n",
    "                                power=power,\n",
    "                                n_bins= (2 - 1)*( 5 - 1 )\n",
    ")\n",
    "\n",
    "sample_size = np.ceil(sample_size).astype( int )\n",
    " \"\"\"\n",
    "\n",
    "sample_size = TTestIndPower().solve_power(\n",
    "                                effect_size=effect_size,\n",
    "                                alpha=alpha,\n",
    "                                power=power\n",
    ")\n",
    "\n",
    "sample_size = np.ceil(sample_size).astype( int )\n",
    "\n",
    "print(f'Tamanho de amostra mínimo por variante: {sample_size}')\n",
    "print(f'Tamanho de amostra total: {k*sample_size}')"
   ]
  },
  {
   "cell_type": "markdown",
   "metadata": {},
   "source": [
    "# 3.0 Aplicação do Teste Chi Squared"
   ]
  },
  {
   "cell_type": "code",
   "execution_count": 6,
   "metadata": {},
   "outputs": [],
   "source": [
    "df['noclicks_link'] = df['clicks_all'] - df['clicks_link']"
   ]
  },
  {
   "cell_type": "code",
   "execution_count": 7,
   "metadata": {},
   "outputs": [
    {
     "data": {
      "text/html": [
       "<div>\n",
       "<style scoped>\n",
       "    .dataframe tbody tr th:only-of-type {\n",
       "        vertical-align: middle;\n",
       "    }\n",
       "\n",
       "    .dataframe tbody tr th {\n",
       "        vertical-align: top;\n",
       "    }\n",
       "\n",
       "    .dataframe thead th {\n",
       "        text-align: right;\n",
       "    }\n",
       "</style>\n",
       "<table border=\"1\" class=\"dataframe\">\n",
       "  <thead>\n",
       "    <tr style=\"text-align: right;\">\n",
       "      <th></th>\n",
       "      <th>clicks_link</th>\n",
       "      <th>noclicks_link</th>\n",
       "    </tr>\n",
       "    <tr>\n",
       "      <th>variant</th>\n",
       "      <th></th>\n",
       "      <th></th>\n",
       "    </tr>\n",
       "  </thead>\n",
       "  <tbody>\n",
       "    <tr>\n",
       "      <th>interact</th>\n",
       "      <td>42</td>\n",
       "      <td>3672</td>\n",
       "    </tr>\n",
       "    <tr>\n",
       "      <th>connect</th>\n",
       "      <td>53</td>\n",
       "      <td>1534</td>\n",
       "    </tr>\n",
       "    <tr>\n",
       "      <th>learn</th>\n",
       "      <td>21</td>\n",
       "      <td>1631</td>\n",
       "    </tr>\n",
       "    <tr>\n",
       "      <th>help</th>\n",
       "      <td>38</td>\n",
       "      <td>1679</td>\n",
       "    </tr>\n",
       "    <tr>\n",
       "      <th>services</th>\n",
       "      <td>45</td>\n",
       "      <td>1303</td>\n",
       "    </tr>\n",
       "  </tbody>\n",
       "</table>\n",
       "</div>"
      ],
      "text/plain": [
       "          clicks_link  noclicks_link\n",
       "variant                             \n",
       "interact           42           3672\n",
       "connect            53           1534\n",
       "learn              21           1631\n",
       "help               38           1679\n",
       "services           45           1303"
      ]
     },
     "execution_count": 7,
     "metadata": {},
     "output_type": "execute_result"
    }
   ],
   "source": [
    "data = df[['variant', 'clicks_link', 'noclicks_link']].head()\n",
    "data = data.set_index( 'variant' )\n",
    "data"
   ]
  },
  {
   "cell_type": "code",
   "execution_count": 8,
   "metadata": {},
   "outputs": [
    {
     "name": "stdout",
     "output_type": "stream",
     "text": [
      "Chi2: 46.33660181942126 -- p-value: 2.0959498129984563e-09\n"
     ]
    }
   ],
   "source": [
    "chi2, p_value, dof, ex = stats.chi2_contingency(data)\n",
    "print(f'Chi2: {chi2} -- p-value: {p_value}')"
   ]
  },
  {
   "cell_type": "markdown",
   "metadata": {},
   "source": [
    "# 4.0 Post-hoc"
   ]
  },
  {
   "cell_type": "code",
   "execution_count": 9,
   "metadata": {},
   "outputs": [
    {
     "name": "stdout",
     "output_type": "stream",
     "text": [
      "('interact', 'connect')\n",
      "('interact', 'learn')\n",
      "('interact', 'help')\n",
      "('interact', 'services')\n",
      "('connect', 'learn')\n",
      "('connect', 'help')\n",
      "('connect', 'services')\n",
      "('learn', 'help')\n",
      "('learn', 'services')\n",
      "('help', 'services')\n"
     ]
    }
   ],
   "source": [
    "all_combinations = list ( combinations ( data.index, 2 ) ) \n",
    "p_values = []\n",
    "\n",
    "for comb in all_combinations:\n",
    "    df_comb = data[ (data.index == comb[0]) | (data.index == comb[1]) ]\n",
    "    chi2, p_value, dof, ex = stats.chi2_contingency(df_comb)\n",
    "    \n",
    "    p_values.append( p_value )\n",
    "    print(comb)\n",
    "\n",
    "# correção de Bonferroni\n",
    "reject_list, correct_p_value, _, _ = multipletests( p_values, method = 'bonferroni')"
   ]
  },
  {
   "cell_type": "code",
   "execution_count": 10,
   "metadata": {},
   "outputs": [
    {
     "name": "stdout",
     "output_type": "stream",
     "text": [
      "\n",
      "('interact', 'connect'): p_value:5.3676772349808135e-08; correct_p_value:5.367677234980813e-07; Reject:True\n",
      "\n",
      "('interact', 'learn'): p_value:0.7616980743361713; correct_p_value:1.0; Reject:False\n",
      "\n",
      "('interact', 'help'): p_value:0.0031030587017400212; correct_p_value:0.03103058701740021; Reject:True\n",
      "\n",
      "('interact', 'services'): p_value:1.798089447385411e-07; correct_p_value:1.7980894473854111e-06; Reject:True\n",
      "\n",
      "('connect', 'learn'): p_value:0.00013292868361715983; correct_p_value:0.0013292868361715984; Reject:True\n",
      "\n",
      "('connect', 'help'): p_value:0.06144184057612575; correct_p_value:0.6144184057612575; Reject:False\n",
      "\n",
      "('connect', 'services'): p_value:1.0; correct_p_value:1.0; Reject:False\n",
      "\n",
      "('learn', 'help'): p_value:0.0508958228881819; correct_p_value:0.5089582288818191; Reject:False\n",
      "\n",
      "('learn', 'services'): p_value:0.00020374035733741825; correct_p_value:0.0020374035733741825; Reject:True\n",
      "\n",
      "('help', 'services'): p_value:0.07301998638337415; correct_p_value:0.7301998638337415; Reject:False\n"
     ]
    }
   ],
   "source": [
    "for comb , p_val, corr_p_val, reject in zip (all_combinations, p_values, correct_p_value, reject_list):\n",
    "    print(f'\\n{comb}: p_value:{p_val}; correct_p_value:{corr_p_val}; Reject:{reject}')\n",
    "    "
   ]
  },
  {
   "attachments": {},
   "cell_type": "markdown",
   "metadata": {},
   "source": [
    "# 5.0 Recomendações"
   ]
  },
  {
   "attachments": {},
   "cell_type": "markdown",
   "metadata": {},
   "source": [
    "Utilizamos como variável de controle a opção 'interact', em relação a ela conseguimos ter segurança estatística que 3 das 4 opções testatdas perfomam melhor('connect', 'help', 'services').\n",
    "\n",
    "Sugerimos a troca para qualquer uma das opções selecionadas, a performance nos testes estatísticos tem a seguinte ordem.\n",
    "1. Connect\n",
    "2. Services\n",
    "3. Help"
   ]
  },
  {
   "attachments": {},
   "cell_type": "markdown",
   "metadata": {},
   "source": [
    "# 6.0 Exercícios"
   ]
  },
  {
   "attachments": {},
   "cell_type": "markdown",
   "metadata": {},
   "source": [
    "## Testes"
   ]
  },
  {
   "attachments": {},
   "cell_type": "markdown",
   "metadata": {},
   "source": [
    "### Z-test"
   ]
  },
  {
   "attachments": {},
   "cell_type": "markdown",
   "metadata": {},
   "source": [
    "É um teste estatístico usado para inferência, capaz de determinar se a diferença entre a média da amostra e da população é grande o suficiente para ser significativa estatisticamente.\n",
    "\n",
    "Muitos testes estatísticos podem ser realizados como testes Z aproximados se: o tamanho da amostra é grande ou a variância da população é conhecida. Se a variância da população é desconhecida\n",
    "tendo que ser estimada a partir da amostra e o tamanho da amostra é pequeno (n < 30), o teste T de Student pode ser mais apropriado."
   ]
  },
  {
   "attachments": {},
   "cell_type": "markdown",
   "metadata": {},
   "source": [
    "#### One proportion z-test"
   ]
  },
  {
   "cell_type": "markdown",
   "metadata": {},
   "source": [
    "É usado para comparar uma proporção observada com uma teórica."
   ]
  },
  {
   "attachments": {},
   "cell_type": "markdown",
   "metadata": {},
   "source": [
    "#### Two proportion z-test"
   ]
  },
  {
   "attachments": {},
   "cell_type": "markdown",
   "metadata": {},
   "source": [
    "É um método usado para determinar se duas amostras são extraídas da mesma população. Este teste é usado quando a proporção da população é desconhecida e não há informações suficientes para usar a distribuição do qui-quadrado."
   ]
  },
  {
   "attachments": {},
   "cell_type": "markdown",
   "metadata": {},
   "source": [
    "### Anova"
   ]
  },
  {
   "cell_type": "markdown",
   "metadata": {},
   "source": [
    "A análise de variância compara médias de diferentes populações para verificar se essas populações possuem médias iguais ou não. Assim, essa técnica permite que vários grupos sejam comparados a um só tempo.\n",
    "\n",
    "Em outras palavras, a análise de variância é utilizada quando se quer decidir se as diferenças amostrais observadas são reais (causadas por diferenças significativas nas populações observadas) ou casuais (decorrentes da mera variabilidade amostral)"
   ]
  },
  {
   "attachments": {},
   "cell_type": "markdown",
   "metadata": {},
   "source": [
    "#### One-Way ANOVA"
   ]
  },
  {
   "cell_type": "markdown",
   "metadata": {},
   "source": [
    "A One-Way ANOVA deve ser utilizada quando a sua variável resposta é contínua (Y) e a sua variável explanatória é categórica (X). Além disso, normalmente, a One-Way ANOVA é usada para testar diferenças entre pelo menos três grupos, uma vez que a comparação entre dois grupos pode ser obtida através do teste t."
   ]
  },
  {
   "attachments": {},
   "cell_type": "markdown",
   "metadata": {},
   "source": [
    "#### Two-Way ANOVA"
   ]
  },
  {
   "attachments": {},
   "cell_type": "markdown",
   "metadata": {},
   "source": [
    "É usada para estimar como a média de uma variável quantitativa muda de acordo com os níveis de duas variáveis ​​categóricas. Use uma ANOVA bidirecional quando quiser saber como duas variáveis ​​independentes, em combinação, afetam uma variável dependente."
   ]
  },
  {
   "attachments": {},
   "cell_type": "markdown",
   "metadata": {},
   "source": [
    "### Chi-Squared Test"
   ]
  },
  {
   "attachments": {},
   "cell_type": "markdown",
   "metadata": {},
   "source": [
    "Este teste é usado principalmente para examinar se duas variáveis ​​categóricas são independentes para influenciar a estatística do teste. \n",
    "\n",
    "O teste do qui-quadrado de Pearson é usado para determinar se existe uma diferença estatisticamente significativa entre as frequências esperadas e as frequências observadas em uma ou mais categorias de uma tabela de contingência."
   ]
  },
  {
   "attachments": {},
   "cell_type": "markdown",
   "metadata": {},
   "source": [
    "#### Chi-Squared Goodness of Fit"
   ]
  },
  {
   "attachments": {},
   "cell_type": "markdown",
   "metadata": {},
   "source": [
    "É um teste de qualidade de ajuste para uma variável categórica. A qualidade do ajuste é uma medida de quão bem um modelo estatístico se ajusta a um conjunto de observações.\n",
    "\n",
    "Quando a qualidade do ajuste é alta, os valores esperados com base no modelo estão próximos dos valores observados.\n",
    "\n",
    "Quando a qualidade do ajuste é baixa, os valores esperados com base no modelo estão longe dos valores observados."
   ]
  },
  {
   "attachments": {},
   "cell_type": "markdown",
   "metadata": {},
   "source": [
    "#### Chi-Squared Test of Independence"
   ]
  },
  {
   "attachments": {},
   "cell_type": "markdown",
   "metadata": {},
   "source": [
    "Usado ​​para determinar se seus dados são significativamente diferentes do que você esperava.\n",
    "\n",
    "Também conhecido como teste qui-quadrado de associação, para determinar se duas variáveis ​​categóricas estão relacionadas. Se duas variáveis ​​estão relacionadas, a probabilidade de uma variável ter um certo valor depende do valor da outra variável."
   ]
  },
  {
   "attachments": {},
   "cell_type": "markdown",
   "metadata": {},
   "source": [
    "## Exercício 1\n",
    "\n",
    "Dois anúncios. Anúncio #1 tem 1000 impressões e 20 cliques. Enquanto o Anúncio #2 tem 900 impressões e 30 cliques.\n",
    "Teste se há diferença entre o CTR do Anúncio #01 e #02."
   ]
  },
  {
   "attachments": {},
   "cell_type": "markdown",
   "metadata": {},
   "source": [
    "H0 - O anúncio 1 tem o mesmo valor de CTR do que o anúncio 2\n",
    "\n",
    "HA - O anúncio 1 não tem o mesmo valor de CTR do que o anúncio 2 "
   ]
  },
  {
   "cell_type": "code",
   "execution_count": 12,
   "metadata": {},
   "outputs": [],
   "source": [
    "success_A, sample_A = 20, 1000\n",
    "success_B, sample_B = 30, 900"
   ]
  },
  {
   "cell_type": "code",
   "execution_count": 13,
   "metadata": {},
   "outputs": [],
   "source": [
    "success = np.array( [success_A, success_B] )\n",
    "sample = np.array( [sample_A, sample_B] )"
   ]
  },
  {
   "cell_type": "code",
   "execution_count": 14,
   "metadata": {},
   "outputs": [
    {
     "name": "stdout",
     "output_type": "stream",
     "text": [
      "p-value: 0.06985234871449321\n"
     ]
    }
   ],
   "source": [
    "zscore, p_value = proportions_ztest( count = success, nobs = sample, alternative = 'two-sided')\n",
    "print(f'p-value: {p_value}')"
   ]
  },
  {
   "cell_type": "code",
   "execution_count": 15,
   "metadata": {},
   "outputs": [
    {
     "name": "stdout",
     "output_type": "stream",
     "text": [
      "Falha em rejeitar a hipótese nula: Não existe evidências o suficiente que o anúncio 1 não tem o mesmo CTR do anúncio 2\n"
     ]
    }
   ],
   "source": [
    "if p_value < 0.05:\n",
    "    print('Rejeita a hipótese nula: O anúncio 1 não tem o mesmo CTR do anúncio 2')\n",
    "else:\n",
    "    print('Falha em rejeitar a hipótese nula: Não existe evidências o suficiente que o anúncio 1 não tem o mesmo CTR do anúncio 2')"
   ]
  },
  {
   "cell_type": "markdown",
   "metadata": {},
   "source": [
    "## Exercício 2\n",
    "\n",
    "Enunciado - A empresa Acme Toy imprime cartas de baseball. A empresa afirma que 30% das\n",
    "cartas são de novatos, 60% são de veteranos e 10% são All-Stars.\n",
    "Uma amostra aleatória de 100 cartas tem 50 cartas de novatos, 45 de veteranos e 5\n",
    "All-Starts.\n",
    "A distribuição das cartas é consistente com a afirmação da empresa? Use um nível"
   ]
  },
  {
   "attachments": {},
   "cell_type": "markdown",
   "metadata": {},
   "source": [
    "H0 - A proporção de novatos, veteranos e al-stars é de 30%, 60% e 10%, respectivamente\n",
    "\n",
    "HA - Pelo menos uma das proporções é falsa"
   ]
  },
  {
   "cell_type": "code",
   "execution_count": 17,
   "metadata": {},
   "outputs": [],
   "source": [
    "observed = [50, 45, 5]\n",
    "expected = [30, 60, 10]"
   ]
  },
  {
   "cell_type": "code",
   "execution_count": 18,
   "metadata": {},
   "outputs": [
    {
     "name": "stdout",
     "output_type": "stream",
     "text": [
      "P-value: 5.5915626856371765e-05\n"
     ]
    }
   ],
   "source": [
    "chiscore, p_value = stats.chisquare(f_obs = observed, f_exp = expected)\n",
    "print(f'P-value: {p_value}')"
   ]
  },
  {
   "cell_type": "code",
   "execution_count": 19,
   "metadata": {},
   "outputs": [
    {
     "name": "stdout",
     "output_type": "stream",
     "text": [
      "Rejeita a hipótese nula: As proporções são diferentes de 30%, 60% e 10%\n"
     ]
    }
   ],
   "source": [
    "if p_value < 0.05:\n",
    "    print('Rejeita a hipótese nula: As proporções são diferentes de 30%, 60% e 10%')\n",
    "else:\n",
    "    print('Falha em rejeitar a hipótese nula: Não há evidências que uma das proporções é falsa.')"
   ]
  },
  {
   "cell_type": "markdown",
   "metadata": {},
   "source": [
    "## Exercício 3\n",
    "Enunciado - Uma empresa de pesquisa perguntou a preferência de votos entre 1000 eleitores\n",
    "aleatórios, dividido entre homens e mulheres.\n",
    "O resultado é mostrado na tabela de contingência abaixo.<br>\n",
    "![ex3.jpg](data:image/jpeg;base64,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)\n",
    "\n",
    "Existe uma diferença entre o eleitores de diferente gênero? As preferências dos\n",
    "homens se diferem significativamente das preferências das mulheres? Use um nível\n",
    "de significância de 0.05"
   ]
  },
  {
   "attachments": {},
   "cell_type": "markdown",
   "metadata": {},
   "source": [
    "H0 - Não há relação entre gênero e preferência eleitoral\n",
    "\n",
    "HA - Há relação entre gênero e preferência eleitoral"
   ]
  },
  {
   "cell_type": "code",
   "execution_count": 20,
   "metadata": {},
   "outputs": [],
   "source": [
    "table = [[200, 150, 50],\n",
    "         [250, 300, 50]]"
   ]
  },
  {
   "cell_type": "code",
   "execution_count": 21,
   "metadata": {},
   "outputs": [
    {
     "name": "stdout",
     "output_type": "stream",
     "text": [
      "P-valor: 0.0003029775487145488\n"
     ]
    }
   ],
   "source": [
    "chi2, p_value, dof, expected = stats.chi2_contingency(observed = table)\n",
    "print(f'P-valor: {p_value}')"
   ]
  },
  {
   "cell_type": "code",
   "execution_count": 22,
   "metadata": {},
   "outputs": [
    {
     "name": "stdout",
     "output_type": "stream",
     "text": [
      "Rejeita a hipótese nula:  Há relação entre gênero e preferência eleitoral\n"
     ]
    }
   ],
   "source": [
    "if p_value < 0.05:\n",
    "    print('Rejeita a hipótese nula:  Há relação entre gênero e preferência eleitoral')\n",
    "else:\n",
    "    print('Falha em rejeitar a hipótese nula: Não há evidências que exista relação entre gênero e preferência eleitoral')"
   ]
  },
  {
   "cell_type": "markdown",
   "metadata": {},
   "source": [
    "## Exercício 4\n",
    "Enunciado - Precisamos determinar se as meninas, na média, tiram uma nota maior do que 600\n",
    "na prova. Nós temos a informação de que as meninas tem um desvio padrão de\n",
    "nota igual a 100.\n",
    "Então, nós coletamos dados de 20 meninas usando uma amostragem aleatória e\n",
    "armazenamos na lista abaixo.\n",
    "Podemos dizer que as meninas, em média, tiram notas maiores que 600?\n",
    "Assumindo um nível de significância de 0.05."
   ]
  },
  {
   "cell_type": "markdown",
   "metadata": {},
   "source": [
    "H0 - Média das notas = 600\n",
    "\n",
    "HA - Média das notas > 600"
   ]
  },
  {
   "cell_type": "code",
   "execution_count": 24,
   "metadata": {},
   "outputs": [],
   "source": [
    "data = [650, 730, 510, 670, 480, 800, 690, 530, 590, 620, 710, 670, 640, 780, 650, 490, 800, 600, 510, 700]\n",
    "\n",
    "#amostra\n",
    "alpha = 0.05\n",
    "sample_avg = np.round( data )\n",
    "sample_size = len( data )\n",
    "\n",
    "#população\n",
    "pop_avg = 600\n",
    "pop_std = 100"
   ]
  },
  {
   "cell_type": "code",
   "execution_count": 25,
   "metadata": {},
   "outputs": [
    {
     "name": "stdout",
     "output_type": "stream",
     "text": [
      "P-value: 0.03349471703839336\n"
     ]
    }
   ],
   "source": [
    "zscore, p_value = ztest(data, value = 600, alternative = 'larger')\n",
    "\n",
    "print(f'P-value: {p_value}')"
   ]
  },
  {
   "cell_type": "code",
   "execution_count": 26,
   "metadata": {},
   "outputs": [
    {
     "name": "stdout",
     "output_type": "stream",
     "text": [
      "Rejeita a hipótese nula:  A média é maior que 600\n"
     ]
    }
   ],
   "source": [
    "if p_value < 0.05:\n",
    "    print('Rejeita a hipótese nula:  A média é maior que 600')\n",
    "else:\n",
    "    print('Falha em rejeitar a hipótese nula: Não há evidências suficientes que indique que a média seja maior que 600')"
   ]
  },
  {
   "cell_type": "markdown",
   "metadata": {},
   "source": [
    "## Exercício 5\n",
    "\n",
    "Um farmácia afirma que a média do tempo de entrega dos medicamentos é menor\n",
    "do que 120 minutos com desvio padrão de 30 minutos.\n",
    "Foram selecionadas 49 entregas aleatória e o tempo médio essas entregas foi de\n",
    "100 minutos.\n",
    "Há evidências suficientes para confirmar a afirmação da farmácia com 0.05 de nível\n",
    "de significância?"
   ]
  },
  {
   "attachments": {},
   "cell_type": "markdown",
   "metadata": {},
   "source": [
    "H0 - O tempo médio de entrega é igual a 120\n",
    "\n",
    "HA - O tempo médio de entrega é menor de 120"
   ]
  },
  {
   "cell_type": "code",
   "execution_count": 27,
   "metadata": {},
   "outputs": [],
   "source": [
    "alpha = 0.05\n",
    "\n",
    "sample_mean = 100\n",
    "sample_size = 49\n",
    "\n",
    "pop_mean = 120\n",
    "pop_std = 30"
   ]
  },
  {
   "cell_type": "code",
   "execution_count": 28,
   "metadata": {},
   "outputs": [],
   "source": [
    "df = np.random.normal(loc=sample_mean, size=sample_size, scale=pop_std)"
   ]
  },
  {
   "cell_type": "code",
   "execution_count": 29,
   "metadata": {},
   "outputs": [],
   "source": [
    "z_score, p_value = ztest( df, value=120, alternative='smaller')"
   ]
  },
  {
   "cell_type": "code",
   "execution_count": 30,
   "metadata": {},
   "outputs": [
    {
     "name": "stdout",
     "output_type": "stream",
     "text": [
      "Rejeita a hipótese nula: O tempo médi de entrega é menor que 120\n"
     ]
    }
   ],
   "source": [
    "if p_value < 0.05:\n",
    "    print('Rejeita a hipótese nula: O tempo médi de entrega é menor que 120')\n",
    "else:\n",
    "    print('Falha em rejeitar a hipótese nula: Não há evidências suficientes que indique que o tempo médio seja menor que 120')"
   ]
  },
  {
   "cell_type": "markdown",
   "metadata": {},
   "source": [
    "## Exercício 6\n",
    "\n",
    "Enunciado - Uma empresa quer melhorar a qualidade dos produtos reduzindo os defeitos e\n",
    "monitorando a eficiência das linhas de montagem. A linha de montagem A, havia 18\n",
    "defeitos relatados de 200 amostras selecionadas aleatoriamente, enquanto 25\n",
    "defeitos de 600 amostras foram relatadas na linha de montagem B.\n",
    "Há uma diferença entre as linhas de produção em um nível de significância de 0.05?"
   ]
  },
  {
   "cell_type": "markdown",
   "metadata": {},
   "source": [
    "H0 - A proporção do erro é igual para as duas linhas de montagem\n",
    "\n",
    "HA - A proporção do erro não é igual para as duas linhas de montagem"
   ]
  },
  {
   "cell_type": "code",
   "execution_count": 31,
   "metadata": {},
   "outputs": [],
   "source": [
    "# two-tailed two proportion Z-test\n",
    "success_A = 18\n",
    "sample_A = 200\n",
    "\n",
    "success_B = 25\n",
    "sample_B = 600"
   ]
  },
  {
   "cell_type": "code",
   "execution_count": 32,
   "metadata": {},
   "outputs": [],
   "source": [
    "success = [success_A, success_B]\n",
    "samples = [sample_A, sample_B]"
   ]
  },
  {
   "cell_type": "code",
   "execution_count": 33,
   "metadata": {},
   "outputs": [
    {
     "name": "stdout",
     "output_type": "stream",
     "text": [
      "P-value0.008669375420073044\n"
     ]
    }
   ],
   "source": [
    "z_score, p_value = proportions_ztest(count=success, nobs=samples, alternative='two-sided')\n",
    "print(f'P-value{p_value}')"
   ]
  },
  {
   "cell_type": "code",
   "execution_count": 34,
   "metadata": {},
   "outputs": [
    {
     "name": "stdout",
     "output_type": "stream",
     "text": [
      "Rejeita a hipótese nula: A proorção do erro não é igual para as duas linhas de montagem\n"
     ]
    }
   ],
   "source": [
    "if p_value < 0.05:\n",
    "    print('Rejeita a hipótese nula: A proorção do erro não é igual para as duas linhas de montagem')\n",
    "else:\n",
    "    print('Falha em rejeitar a hipótese nula: Não há evidências suficientes que indique que a proporção do erro não é igual nas duas linhas de montagem')"
   ]
  },
  {
   "cell_type": "markdown",
   "metadata": {},
   "source": [
    "## Exercício 7\n",
    "Enunciado - Pesquisadores gostariam de saber se o estado civil está associado com o nível de\n",
    "educação. Para isso, eles entrevistaram 300 pessoas aleatoriamente e obtiveram os\n",
    "seguintes resultados: <br>![Captura de tela 2022-08-10 090115.png](data:image/png;base64,iVBORw0KGgoAAAANSUhEUgAAAm8AAACeCAYAAABkZ+0dAAAAAXNSR0IArs4c6QAAAARnQU1BAACxjwv8YQUAAAAJcEhZcwAADsMAAA7DAcdvqGQAADw6SURBVHhe7d0HXFPXHgfwH0FWlCXIkIqgCAiIA1DqXijW3boLqK84qpVqxdb1cBf3QK2C2opVHLVWO0RfrbtKW6yKyLBgFWXIEJAAAZKcdwOXZS3RgjWJ/+/73L6ccy5JzD/n3P+9ufdcDcYBIYQQQghRCQL+/wkhhBBCiAqg5I0QQgghRIVQ8kYIIYQQokIoeSOEEEIIUSGUvBFCCCGEqBBK3gghhBBCVAglb4QQQgghKoSSN0IIIYQQFULJGyGEEEKIClF4h4WkpD9gbNyULxF1c+/eXdjYtOJLRJ3k5j5Gfn4exVdNUd9VbxRf9SYfn+3s2vClF6cwecvJyYGJiQlfIuqG4qveKL7qi2Kr3ii+6q2+8aWfTQkhhBBCVAglb4QQQgghKoSSN0IIIYQQFULJGyGEEEKICqHkjRBCCCFEhVDyRgghhBCiQih5I4QQQghRIZS8EUKIWpLizoF5mOQ3DduixHxdDSW/Ycf7fpi04DDuSvm6f0yEB/F/IlfGF1+ULBM/LP8PZn8Ry1cQQupCyRshhKglKTKvfYvDh8Px6bYfkMfXVhL9uBPBew/j8Hc3kF3f5C33GAK8FuLMM3LE5yNFYUoUzkQ/4suEkLpQ8kYIIWpM6NYFFj/ux4lHNQ+L5eKH/adh5t4BOnxNufxYHFs/D1N8J8DHPxDrTySgkG+CLBc3DgXjI38fTPDxx5zgQ7jxWAbZ4yjsW/Ulfs37A5Ehm3EiXsKtXIq0S3uwZOYk+PhNxcebv0OiqOJpgAJcO7QFEVFxOL3uA/iviEQWLNGvbwfYtmxRvoYs9wYOBX8Efx/5+5iD4EM3wL3Us5Xcx087FmPGJB/4+n+E1YdrrFtwDYe2RCAq7jTWfeCPFZFZ+KcHBwlRJpS8EUKIGpNZemGIzXl8+dWDqsRFlvENDpyzxbAB5qg66CZNxLZRvTHtWCFcvIbCyzEXByf1w+SIdO7vpEj6bAz6z78MocdgjPDuCJ2LC9D/nc2ILy1DUdZjPJGVobhQBLFEhrQj/ug+fAuSW/TFiLfaQ3JiOnqODEGcPK+TiRC1eyGWBQZg1c8MzUyF0IQYaToDMdfXjnsfSfhsTH/MvyyEx+AR8O6og4sL+uOdzfHV77WS9B7CJ3TDmN2psO03AkM8tHE2sA8GBF0pTzploijsXrgMgQGr8DNrBlOhZsXfEaLq5Pc2rUt2djb/iKgjiq96o/iqL8WxLWGX5tgzw3f2s9ub+jAjz09ZnEReL2X3QvoxM69tLP6LYayx83z2SwlXXXyDHVi6lB2IKZOvxBGxr981ZYajDnKPitnXE0yY5aQT3GNeXgK7fC6WZUq5Pz3ux5oZjWVHCrn6sussqIMe6xR0g1U+kzQ1jL1lZMNmnBFzpWwW6q3DtNyWsqqXqqn4azbBxJJNOlH1StxLXWbnYjO5d15b2W+LWDvdDizoRtUrsfTdg5mh6QR2tIArZocybx0t5rY0puq9qArqu+qtvvGlI2+EEKLWBGg5zgc9/jiI/dclgPQODh6KxZsTRsFKg19FTrc9xs4YDr1Lq7Fg9kxMnxqAz6+LUVJUiDJow3PoQGgdmY4+Y+dg9ec/4EaxDbr1dkazp7ciBb/jWqI2hHmXsGvHDuzgltBvHkDQJAM3f39YvooG957MOnWBfaPyYm3anhg6UAtHpvfB2Dmr8fkPN1Bs0w29nZv95aeigpvXkWzUCR4OlU8kgGmHDmgpSsCtu/LDfNw/UGCGTl3s8ayXIkRVUfJGCCFqTsNiJHy8svDVvssQxUTgyP1+8BlhLk9tqsjSj2By516YF1kAi/bd0W/AQHSx0ePXEaD5uHBE/bQWw00f4OTaSfC0bY3+yy/85QpTmbgYYpkUj5Ov49q1axXL9TSYD/SDl70Wv5YGdPWEtV6/iqA5xoVH4ae1w2H64CTWTvKEbev+WH4h96nz1WQQF4vBdHQhrPFEGnq6XKop5tr4tTV0oVdzBULUACVvhBCi9owxeOJQlH0fgZ37vkHuIB8MMuKbeLkn9+FY8XCsP7gGH04ej9Gj+sFaqwSMbwcawdLTB4u2H8XFhIdI2NMLSWuWIjyldkolMLSERZNGcBy/Ebt3766xhGLJcGt+LQUaWcLTZxG2H72IhIcJ2NMrCWuWhqP2SwlgYGkOvbwMpNe4ylXyKAPZGs1gYUHH2oj6ouSNEEJeA437TMTbOsex5kApRvj1RWO+vpKgkSYEkmIUlchLMmSeWYvwaO5haSlKyhIR5tMHU/an8BcN6MDS3gZGAg1oyLciAgH3t2IUl3GPdXthaH8dXAgPR3z5cwHi25sxvMNo7EpWPCeJNDEMPn2mYH8Kv66OJextjCDQkP/YWptej8Hoq3MJh4/cq3hfshz8dPA0sjsMhNcbtHkj6ou+3aRhlBYiX8SP1IrI1y0Q//XKsZektDAfBeKX9Grl/+5/PLmV2qvfZ1+KwnwRXlboXjs6XeA3pgWKLEfD581aE4SUMxwyDZMsT2OGR2f09HSFV4gpPlk+APpRG/Fu0C24Dm6D6DmdYO/eE316uMHxrS/RdG4QfLkkScvZAx0ancK8Lp3htycfo9bthG9BMHo4dUaf3u5o22s98gf7Y5it4qs9Ne0GYGibaMzpZA/3nn3Qw80Rb33ZFHODfPF0PiYwG4d1W99G6n890a5nf/Tp1B4TL3TA6s8C4EwXljYYeT8WUUdUKhryqxb4x8+Uk5MDExMTvkTUjaL4Su8cwPw1d9B9xRIMb15z5BTj0saZOKA3HTvfd0Pq1v6w39UVhTEr+fa/l7NrEKzX2CMybgt6avOVdZIg9XwoNoSeQFRiOp5IdWD8hjN6jZuNue92hHGduyA52DXIGmvsIxG3pSee6+Wem6zi373DA4Vxa/g65VJ3fOUz8M/Hp6cyyhNpDQ0BNHUMYNGmC4b6jEHX5vX9tOr32ctSt6K//Q54nL2BNV1e/L3IMn/Ayvk/osVH6zHZRf1+QnspY3NJJhJuJqPAsDVcHcygg0I8iInFI6EdXO1MoF30CAlxScguFaK5ozNaNa2OS1FqDG6la8Pa0R6WTeSdsgSZCTFIytGAiX07ODT7a8JYl6JHCYhLykapsDkcnVuhxkv9VVE64mL/xBPdN+DsbA19NUjc6o5vES5u+AC7bsgPdT6DoBn6f7IWE53+7nsvvyNGFpo42CoYPzmyVGztb48dHmcRt6YLX0nqq779V1HYyGtOmnkN30acxK28p3P8MiSfj8CRyyncYwEsfMNx87s5FU0NrOCnueg/dD3utPFB0LYvEB66BjN7lODYDC9MCE3+147gqZ+KGfgPXsyBRVsntG3rgFYWGvjj0Gz06eyHiNSnzkRXNdJCpESdQfQj+oY8Nx0zOHZ+Ex7liZtcY7Rw7QJ3eeImLwrN4ejeDd27dqyVuMkJrVzRxd2RT9zkdGDm6IGu3dxfOHGTE5o7wr1bd3TtqCBxkxNawqlzV3i6qkfippgmDK3awN7evnyxLvwVh7//A9qtK8r29rYwq+sijXrfEYO8apS8kQZR/OcVfH8uni9JkXEpFAunTcSk95cg/LdHuH18C/acS+XbORoaKLlzAmtm/we+E9/Hkv3XkffMXKEEv33zLe65fYjPlvrBu6s73Dz7Ydz8cHy5ZSrcmzxB5fgjvvcjti+YBj+fyQj49Ahi8vkGjoZGCe6cWIPZ//HFRO497b+eV+PKtRLc/2kHFs+YBB9ff3y0+nD5zPFV6prBXQ0IzLpi8icLsGDBQvx3RQiORAajX973+Ops1dz6yI89hvXzpsB3gg/8A9fjREJ1m/wo7L0ft2PBND/4TA7Ap0diUOOjV/DZ1zUT/1NecCZ9WPZD3w62aNlCfvRBhtwbhxD8kT985P+GOcE4dONxjfdBiCrRQftxC/Df//6XWxbhwwE2aNTYFaMXyMvcsmgWBlk+fGZ/efYdMRT1caJsKHkjDUCG/MuhWLTxVHmpNHoFhgxehiiDrvDubojLn4zH5PnzsfF0dfLGCi9g1fzvIHXuhW4t07B/yjAERj5rq62JZmYmYHfO4tvYAr5OTgdu//kUK3w7lp94Lb3/JXx7+mJ/rh169m4HWWQAeg9bh5jycYmh8MIqzP9OCude3dAybT+mDAtExctJcS98ArqN2Y1U234YMcQD2mcD0WdAEK7Ixy4FM7irJXERillTmFtUHO6QJm7DqN7TcKzQBV5DveCYexCT+k1GRLo89ZHi/pe+6Om7H7l2PdG7nQyRAb0xbF0MKjYJdX32Cmbir+mfzKQvToPOwLnwtdOENOkzjOk/H5eFHhg8whsddS5iQf93sDmejsoRNVRXf5E+fUcMRX2cKKXyqXrrQLM8qzdF8S25NIfZa7dgA2cvY8uXL6+xBLHRbbWY8YSj3FpS9jCkDxO2WyT/C3YhoDXT67aWJZXP5s6YJGkj6y3UYi4Lfi0vZ4d5Mx29XmxDcuUKCSzYU4+1W/RbRfkp0uwzbFF3M6alZcTsuo5g/vPXsb2nYll21ZTpZSx6sSsTegazhKrX3M3eGziV7U16xMK8dZherw2s+uWCmadeO7boN+4Jyn5ji9rpsg41Z4NP380GG5qyCUcLFMzgzv+7237MtymfuuNbMQO/douBbPayirgu+WQaG9LRkfWcfYzd5z+v4hsH2NKlB6pnwxd9zd41NWSjDoq4zy+aLXYVMs/gBFaxuoQl7X6PDZy6l4t/toLPvu6Z+KUPQ1gfYVv2cVRJvWfSL/56AjOxnMSqJ+3PYwmXz7FY+e0BVBSNzert+eMrZY92DGB6VlNYpPwGFhxF/aXWHTE4dfZx6UMW0kfI2n4cxTeShlDf/ktH3ohirBiZSXGIi6u5xCO14FnXuoiQ+EcaTJxd8QZ/7olmy/7o3bb2iSiaFu3Q0Yqv0zCGkb4GSoqefQKGwKQfVl64g1uRWzClmzEyL+7C3GGuaOnwFpafk99ougA3ryfBiHtNm8rXbP0edp8KxcTW8gpNWLTriOqXM4K+RgmKxNxeZcFNXE82QicPh6oZ2AWmHdChpQgJt+4+xwzuqo+V5uNRaipSuSU9WwTNxo2Qc/1/uJBYEQ/d9mMxY7geLq1egNkzp2NqwOe4LuY+v8Kyis8vyQjOrjbcpyynidbv7cap0Iko/+jr/OwVz8Rfqb4z6Wt7DsVArSOY3mcs5qz+HD/cKIZNt95w/svtAQhRfS86btXZx4lSopGLKKZpg7fXHMDBgwdrLHswpeMzNpOyYoi5bb6uXuXM7ByBAQwaP/VVEwigWfN8WkUToAsM4dDPDx+v/Rwnfk5ExoOfscIpBiunB+MK94JFxQxaOrr8yn8lEGjWeonKx+WzwTMd6Naeoh262uD+HYXPN4O7itNsMRiLP9uJnTt3InT3fhy/cB4rbU9i5swdSJbKkH5kMjr3mofIAgu0794PAwZ2gY1exQciK/+JVQt1fPR1f/YKZ+KXq/9M+oLm4xAe9RPWDjfFg5NrMcnTFq37L8eFp28PQIjKe87+UqXuPk6UEyVvpGFxiZqRoSbyH9c4GVxyH/fT/uG5RbI0XI0Iw7e3S/mKCo3MPDHNpyv0Ht7DPakBLMz1kJeehmK+HbJc/BnLJXkKTkwTGFjCXC8PGbWnaEdGtgaaWTR/PWdwFxjBsY0lyu4lI0WSi5P7jqF4+HocXPMhJo8fjVH9rKFVUnHUVWBgUf75padVffLcR/8nYhMzFJ4T+Pwz8TfMTPqNLD3hs2g7jl5MwMOEPeiVtAZLw1Oqv6eEqIUX7S9193GinCh5Iw1MiE5ubSG6choX8uRlKVKP7cF3D//hJpIV4GrYPEyctgw/plYncLLcawjbdwmyjp7opKuHHoN6QeviARy4U7FO3vkgDOrig11/KvhpU68HBvfVwaXDR7gkUF4hQ85PB3E6uwMGer3xeszgzspQmJ+HvDxuyUlD3E+fYckXN9C0ex+01xGgkaYAkuIiVEy8n4kza8NRMfF+CWTc5zeolxYuHjiAio8+D+eDBqGLzy4o+uhfZCb++sVBisQwH/SZsh/Vk/bbw8ZIAPncdoSoG4X9peYdMbg0oM4+Lq8jSodGLtLANNF2ahCmNDmEMR07o28vT4z61gHDO2tBPj3IC9N0QMAXezFF7xDesTNHC4d2cHVuDQvrPthcNAa7Pv8QTtzAYz5+HUJGpGOJpwM6ujnAYeRxWC/ahFmKJmcVmGHcuq14O/W/8GzXE/37dEL7iRfQYfVnCHDWfC1mcJdcW47OJsYwNm6Kpua2eNMvDHkDtuLE1nfQFIYYMm0SLE/PgEfnnvB09UKI6SdYPkAfURvfxaITEoxfF4IR6Uvg6dARbg4OGHncGos2zYLCeXEFJs89E3/94qAJuwFD0SZ6DjrZu6Nnnx5wc3wLXzadiyDfN2gQJGpHUX+pdUeMXTl19/Fv0vlnJcqE7rDwmnsp8ZUWISstHVmZWSjSbw3XVhkI7uKJMxNicWmuLb/SixNnJiEhOQMi6KFZq7ZoYy58asMrgyj1Nm7fF8PQzhWOZi8yMWgR0uNi8ecTXbzh7Azrp2f6VNEZ3BsqviWZCbiZXADD1q5wkH+uhQ8QE/sIQu5ztjPR5j56EVJv38Z9sSHsXB3xQh/9i8zEX684FOFRQhySskshbO4I51ZNX/iuD8qkIfuu/PZHpY300URHcSorX7dEswn0dVWkE6ioBolvHf3l6TtiKOzjpEHVN76UvL3mXkZ8RZFT4TL6CvqF7ERgTyOkfR8E/2WZmH75PD5xVtPzxJQU9V/1pTi2Fbc/W3OnO1YsGY7ad7e7hI0zD0Bvegjed8sqv/3Rrq4XELPSnV/h77zM282Rmqjvqrf6xpd+MSANrsmgdfg6xAu5X3yAt4eOx8JTRph2KAJzKXEj5F9UcfuziJO38Ne72yXjfMQRXE6RcVsBC/iG38R3c9rxjYQQZUfJG3kJDOH2n004dukG4uNv4ZdTn2P+QOtnzr9FCHnVivHnle9xLr78CiMu58vApdCFmDZxEt5fEo7fHt3G8S17cK7GvW7rvOVZaRou7VmCmZN84Df1Y2z+LhGV904puHYIWyKiEHd6HT7wX4HILDodnpB/gpI3Qgh5ncnycTl0ETaeesAVShG9YggGL4uCQVdvdDe8jE/GT8b8+RtxOrXy8uE6bnkmS8MR/+4YviUZLfqOwFvtJTgxvSdGhsRBIj8nNWo3Fi4LRMCqn8GamUJ+FzNCyIuj5I0QQtSY7NFl7Fq1AitW1FjWn0RS7dlYKpRG4cv9cXCdswurp43Dux/txK6hjfFAKoCgaloVGfIMhyEkdCGmTJyOJWunoEPOr7iaIIEkJhTBR40x68u9mO83CuNmrseBpe6I3rQdF0oE0NbSgvRPMXpsP4rtwe+jV1PaBBHyT1DPIYQQNcaKM5FU69Z23BKfimff3S4Rf6SZwNn1jarbnbXs3xu1727397c8K/j9GhK1hci7tKv8dmc7doTimwcCNMm4id8fctmiBrfRMeuELvZ0EgUh9UHJGyGEqDFNm7ex5kDNW9txy54pePbd7cQQQxd6NW6NJDAwwF/vbvesW55V3JZJJn2M5Ov87c645XqaOQb6eaHyjmcaunq1bttECHlxlLwRQggpJzAwgqFmPh4/rr6QQHL/Pp7v7nYCGFpaoEkjR4zfWPN2Z9wSugTDrekEN0IaCiVvhBBCKgg7wa2tCFdOX0DF3e1ScWzPd3jeu9vp9hqK/joXEB4eX3GrJYhxe/NwdBi9C0/d8YwQUg+UvBFCCKmg2RZTg6agyaEx6Ni5L3p5jsK3DsPxvHe3E5iMwrqdvigI7gGnzn3Q270teq3Px2D/YXjqjmeEkHqgOyy85ii+6o3iq75eVmylRVlIS89CZlYR9Fu7olVGMLp4nsGE2POY+7wZWEkmEmKSkKNhAvt2Dqjrjmfk2ajvqrf6xpeOvBFCCOGJ8L/ZHmg7fANuShpD8OgSti3Zi7sdh8C7xQscOtMxg6NHV3Rzp8SNkJeBkjdCCCG8Jhi07muEeOXiiw/extDxC3HKaBoORcwF3d2OEOVBP5u+5ii+6o3iq74otuqN4qve6htfOvJGCCGEEKJCKHkjhBBCCFEhlLwRQgghhKgQSt4IIYQQQlQIJW+EEEIIISpE4dWm1679BhubVnyJqJuYmBtwde3Al4g6yc19jAcPUii+aor6rnqj+Kq3e/fuws3Ngy+9OJoq5DVH8VVvFF/1RbFVbxRf9Vbf+NLPpoQQQgghKoSSN0IIIYQQFULJGyGEEEKICqHkjRBCCCFEhVDyRgghhBCiQih5I4QQQghRIaqZvJUWIl9UwhdeVCkK80UokfFFQgghhBAVUu/kTXrnAOZN8sO0bVEQ83XVSvDbjvfhN2kBDt+V8nX1JUNq6FA077qCL78YWVoYhjV/E8uuSfgaUjcpMi6GYOaIHnBzbY/Ofcdh/v6bKOBbgXzcCJ+HUX3c0cGtO4ZO34ILGZQZq5YCxB4MwpT/rERk1tOxUxDf/BsInzcKfdw7wK37UEzfcgEUfiVSeg+Rq/0xuGtHuHboAi+fIHwVX1jRJk3EgXmT4OvrW2PhxvLPfuN2cYnKKIjFwaAp+M/KSNTsvtJE+ba5Zmy5xW8aPvutIrqK2olyq3/ylnkN3x4+jPBPt+GHPL6ykuhH7Azei8OHv8ON7IZK3gSw8A3Hze/m8GXyMpX8uhxDhgTjdms/LAvZhE+8y3B06lB8eCKXa+US6QPchiHwMpr7rsK29QFwT9mAkWM3IJZyY5UgSz2NZcPc4b0wHEcj/oc4Uc05uxXEV5aKA/6DEXi5OXxXbcP6AHekbBiJsRtiQeFXBgU4EzgQY3ZlovOM1di64SP0fLIPfoM/QqR870tyF+cPHkeitgOcnJyqFkcrAzqfRiVw/fP0Mgxz98bC8KOI+F8canZfyd3zOHg8EdoO1bF1cnKElUFFdBW1EyUnv8NCXbKzs/lHz1ZyaQ6zb/om69nRjI3Ym8GkfL3c40NjmZVbd9bZ0JnN/6WEr81jt75exwL9fdj4d99jc9cdZ/Eivok9YdEHN7MDV2+zU2tnsveWn2SZedHs4OYD7OrtU2ztzPfY8pOZLP/3Q2zTF5f4v+HeQ+pFtjtoBpv4ri+bMm8T+zahgG/hSNLZxZ3zmb+vH5sy/zN27vfNrK/QhS34tYxf4fVWd3wlLG6nD+vpG8aSJXyVNIVt6aPHWs74iWuOZ8GeQtZpyU1W+WlKU3cyb8NW7INzYr6GvEqK+m/hsUA2aulJlhS1mLkKe7D1dysDzVEQX0l8MPMUdmJLbla1stSd3syw1QeMwv/yKYotK/udhYz3ZnOPP+YruJD+sYZ11W3D5lzixuPCQ2yMkS2beZaCpYwUxpcVsmOBo9jSk0ksarErE/ZYz2p238JDY5iR7Uz2d+FV1E5eLsXxrVvDpNgyS3gNscH5L7/Cg8rDtrIMfHPgHGyHDYB51UE3KRK3jULvacdQ6OKFoV6OyD04Cf0mRyBd/ncyEaJ2L8SywACs+pmhmakQGqIo7F64DIEBq/AzawZToQbyL4di0cZT5c8oSzsC/+7DsSW5BfqOeAvtJScwvedIhMTJ9/1Lcf3T4Riy7BcYd38L/VqlYuvcUNxpqIOAak8Tbad9iQv7pqCVJl8ly0NuPmDSrBkgisavcabo3N0BjfhmgVlXeNplIDrqHl9DlJlw5Dp8tWQQWmrzFTUpiK8o+lfEmXZGd4eqVph19YRdRjSi7lEne+UadcSsiEisH27MVwAlGRnI0TSDpRnXoYuf4EmZPowMNFCSm460rEJuhCaqQ4iR677CkkEt8azuW/zkCcr0jWCgUYLc9DRkFdaOrqJ2otwaJnljGrAdNx4drx1ARGLFF0D24CtE/NIe48a0gEbVodwyiJt2x6wtoQj50A/jJwYiZNFglP7vG1wo5poF2tDSkuJPcQ9sP7odwe/3gqmuFrSkf0LcYzuObg/G+72a1njTEsSEBuOo8Sx8uXc+/EaNw8z1B7DUPRqbtl/gcrdfsO/LW3CZHYbgqWMxdspK7JrWDmI6J+cfKkF82AKEPnoLs99zhjQnA5kSU5jLNwSVGlnAwgTISn/EVxBVVXd805CTkQmJqTlqN1vABFlIf0QbAqXB7UifD1uJ/86ZgAFTz6Hdyg2Yaq8JaV4eCqQZOObfBhY2znCyNoF5+wnYHl19RitRVVLk5RVAmnEM/m0sYOPsBGsTc7SfsB0V4VXUTpRdg/24LWg5Dj49/sDB/de5lEqKOwcPIfbNCRhlpcGvIaeL9mNnYLjeJaxeMBszp09FwOfXIS4pQmFZxRoa8r33Tl1gX7kzz9Vwu/vo1MW+au+/WgF+v5YIbWEeLu3agR07uCX0GzwQNEHGzd8BUSISHxqjrUsLVG5fDN06oc1fn4goIsvB5TUj4b1KhGkRYXi3BffVKZNHWgOaNTbe8qN18rJUSmc9qTwF8S2TcAmaBlfmW8pxjVxaAKmk5rlz5JViYmTdu4M7d9NRpNEI0twciOSh03XAgIljMGFRJFJyH+Nxxi9Y2foy5vosxaV/ejE/URIa0HUYgIljJmBRZApyHz9Gxi8r0fryXPgsvfQc7UTZNVjyBg0LjPTxQtZX+3BZFIOII/fRz2cEzGvmbrJ0HJncGb3mRaLAoj269xuAgV1soFdzHfmXSk/I/bcGDV3oCWvVVJCJUSyWQfo4GdevXcO18uU60swHws/Lnmsuhhja0NXl1+doaOtA5xlPReogScbBqb3xzt6mCDr1A5b0rDj6qWlsDEMNEfLza17ilAduhw6GTat/qiGqqe74msLY2BAaonzUbs7jdqkM0dS4VkpHXiVNG4z+dB8OnziHqBOTUbx9Ej766jEEVsMQtHMrFo9ygj7XoQWG7eG/0A/298/iTDztfKk2AayGBWHn1sUY5aTPlQQwbO+PhX72uH/2zHO0E2XXcMkbx3jwRAwt+x4RO/fhm9xB8BlkxLfwck9i37FiDF9/EGs+nIzxo0ehn7UWSv7pTrrAEJYWTdDIcTw27t6N3TWW0CXDIdBvCqNGecjOqR6IJA9TkU6/6Dw/LuH+9oNhmHPLG/vO7cN77RrzDRwjZzhZpSPudi6qtt/iGNxKEsLRxY6vICpLQXyNnJ1glR6H27nV2Zs45haShI5wsaPD269cfjQi1m7DqZTqAU/bpju6tBQhKTEVUlEaEuJTIOLbKjDuf5oQUO6t4qQQpSUgPqV2dMG4ja2mfLOvqJ0ou4aNUuM+mPi2Do6vOYDSEX7oW2M7X07QiPteSFBcVHFMXpZ5BmvDo7lHpSj9R7Pm6qLX0P7QuRCO8Hj+OL/4NjYP74DRu5IBoQfedC3Fzyci8Uj+9LIsnPnyW9z9Jy/1WpIh82ggZhy3xZLPF6KL7hPk5eWVL/mFpdyWwANjRlrjSlgIrpZPEyNGbNh2nNQagvFe+uXPQJSbpKgA+Xw8ZUyKkkJ5jPNRWMp1EgXx1fYYg5HWVxAWchUVzbEI234SWkPGg8KvBHQKcDVsHuZ8eorfYZUh95dD+CHRCC7tbSC+GAQvtyFY/FNWRXIuScHxbYeRZNsXXlUXoRDlJUFRQX5Vf2XSEhQ+4cbn/EKUysS4GOQFtyGL8RM/+Zsk5Ti2HU6CbV8vrqSonSg9/qrTv6XoctbyqUIM32ERhRXlshtBrJPQlS2K5qcPKNjLhjXmpwqRZrMfZrkwfUNb5tGjC3N2HcrWntrDRjVrwuz6zWfHHmayMG8hax1wgVVOLMKyw5i3sDULuFBZI2UPQ/owYbtFFUVJCvtmtiezMGnFPHr3Ym42Jsyq10J2KqNi0pLHZxeyLk2FzLytB/Nwbsv6zJvJ+jZ2YIFXql7htVZ3fAvZV+ONmIZ8d/ypRbvnxopV8q6w1d7WzMC0NXO2t2CGFt3YxyfTa00ZQ16duuNbzI77NZNfcv5UfLVYt7VJFasoiG/eldXM29qAmbZ2ZvYWhsyi28fsZDpF/9+geKoBKcs8u4wNbNmE6VvaM2fHN5ihnjnzDPia3ZNPKSFNZd/P68Es9QyYlWM75thcnxnaj2SbfnlS8efklVIY3+LjzK+Z4Km+yy1a3djaJAkX3u/ZvB6WTM/Aijm2c2TN9Q2Z/chNrDK8itrJy6W4/9ZNQ/4fLuB/KycnByYmJnypIZQgM+EmkgsM0drVAWY6QOGDGMQ+EsLO1Q4mz7rm+TmUZCYgJikHGib2aOfQDNzTVpEV3EdMbAY033CGc4smDXy4UbU1THxLkXUnBkl5Qti4OMFSyFeTV+5fiW9pFu7EJCFPaAMXJ0tQ+P8dzx1baT7u347HQ5EWzNu4wK5ZzdGRC19OMm4nZqDUwAbOTlZoQgOkUmiovpuTfBuJGaUwkF9RbPX09k9RO3lZ6hvfV5C8EWVC8VVvFF/1RbFVbxRf9Vbf+FKSTQghhBCiQih5I4QQQghRIZS8EUIIIYSoEEreCCGEEEJUCCVvhBBCCCEqhJI3QgghhBAVQskbIYQQQogKoeSNEEIIIUSFKJyk99q132Bj04ovEXUTE3MDrq4d+BJRJ7m5j/HgQQrFV01R31VvFF/1du/eXbi5efClF0d3WHjNUXzVG8VXfVFs1RvFV73VN770sykhhBBCiAqh5I0QQgghRIVQ8kYIIYQQokIoeSOEEEIIUSGUvBFCCCGEqBBK3gghhBBCVMi/lLyVojBfhBIZX6yP0kLki8R8gRBCCCHk9dIg87xJUs8jdEMoTkQlIv2JFDrGb8C51zjMnvsuOhoLIEvdiv72u9D1wu9Y6d6I/6t/QobUrf1hv8MDhXFr+DpSH4riK008gPnBp5Ah5SvkNIR4c9ZWzPDQ5gr5uBG+Eiv3nkPSE1208BiNwKWz0MuCDuoqA4X9V5KC0xtXYOuJa0gp1IK5y0BMXfgJRjs15leg+Cqr558nqgCxB9dhy4/aeHvNQgxqxsdOmogD84NxqnbnhvDNWdg6wwPy3k1eneeOb0EsDq7bgh+138aahYNQGd5apPdwNGgZTjadjM/m9oSuvErh2E5epufvv89W/xG44CfM7T8U6++0gU/QNnwRHoo1M3ug5NgMeE0IRTL3xRBY+CL85neY064+iRt5FSR3z+Pg8URoOzjByalycYSVgfyrwyXTB/wxOPAymvuuwrb1AXBP2YCRYzcgVlLx90SZleBq0FCM2VOEIZ/uxzeHNmOiwQ+Y8lYAvs2Vt1N8VZ0s9TSWDXOH98JwHI34H+JENfbVJXdx/uBxJGo71OjbTnC0MqDzaVQC1z9PL8Mwd28sDD+KiP/FoWZ4q0nx5+ezMGvdfkScT+Z6fYW6x3ai9ORH3uqSnZ3NP3o28U8zmY1uL7bpvpSvqSCO3sMWLN7HfhdxhYLf2aFNX7BLGfJ1CtjvhzezA1FpLP74avbhZB/mNz2I7Yt+zCqfQZJ+ke1cMJX5TZzOgvb+yjJiv2Gbd59lD6VS9jCkDxO2/Zhfk1OSyi7uDmIzJr7LfKfMY5u+TeBegTwvRfEtPDSGGdnOZGfFfEVNkngW7ClknZbcZGV8lTR1J/M2bMU+OPesPyD/tjrjW3aDBXXQY27LblXHL+Mz1l/Pmr1/hosfxVepKeq7coXHAtmopSdZUtRi5irswdbflfAtnMJDbIyRLZv5zM5NXjXF8S1kxwJHsaUnk1jUYlcm7LGe1QxvJUlyGBvSsjPzHevCmgz5nOXx9XWO7eSle57+W5d6p9iazcxgwu7g7LexKODr5HTc/oNPV/iiY2Nu/yD/MkIXbcSpB/KT3orx6+cLsejDSZj3nRTOvbrBJm0/poyYh5Mirrk0GiuGDMayKAN09e4Ow8ufYPzk+Zi/8TRSn97bl6XhiH93DN+SjBZ9R+Ct9hKcmN4TI0PiQAcGGkbxkyco0zeCgUYJctPTkFVY4xi7KBq/xpmic3cHVB5TFZh1haddBqKj7vE1RGkJmqG5hTZy0tOr9sZlmZnI1TCDpYUmxVcNCEeuw1dLBqHls34FK36CJ2X6MDLQQEluOtKyClHzFzSi7IQYue4rLBnU8u9/4pbexZ4PVyFr0hZ84KDFV1aoc2wnSq/eyVsj55lYE9gav3zkDus23TByygKsDz+N2zl/lz4JINCQIkN7ADaHLsSUidMRtNYfHXN+xdUECUqjvsT+OFfM2bUa08a9i4927sLQxg8gFQig8dS7lcSEIvioMWZ9uRfz/UZh3Mz1OLDUHdGbtuNC5daI1IMUeXkFkGYcg38bC9g4O8HaxBztJ2xHNJepS3MykCkxhbkZt6Gv1MgCFiZAVvojvoIoLUFz+KxYho4XAzD0vflYsvgDvDPpMIwC12BG20YUXzUnzctDgTQDx/zbwMLGGU7WJjBvPwHb5Z2bqAEp7u4JwKrMSdg63x06fG2Fusd2ovzq/+O2wAT9Vl7AnVuR2DKlG4wzL2LX3GFwbemAt5afQ9YzrzAVwMK1E97gtwkaxsbQ57L/YrEMosQ/kGbiDNfKRs2W6N+7LWpsPqoU/H4NidpC5F3ahR07dnBLKL55IECTjJv4/SHtRdSfBnQdBmDimAlYFJmC3MePkfHLSrS+PBc+Sy8BZRJuCNCAZq3gaJaXpVI69qn8ZCh8kg+pbmPocjtUEokMjbQEKEp7iCx5+Ci+ak1D1wEDJo7BhEWRSMl9jMcZv2Bl68uY67MUl2jnV+VJk3dj1qosTNo2Hx7yKxRqUTC2E6XXQGcmCmDo0A9+H6/F5yd+RmLGA/y8wgkxK6cj+Eopv05N8g2CJvffahWPZVwCJwZ09aBX1SiAgUHjZ7xRGcTFYsikj5F8/RquXatYrqeZY6CfF+xrHyEm/4gAVsOCsHPrYoxy0udKXJzb+2Ohnz3unz0DTS7pNtQQIT+/RoYuzQO3QwfDpsZ8BVFaJeex3H8DCicdxXe712HV6s/wdeQK2EXOxicRjyi+ak5gNQxBO7di8Sgn6HMDrMCwPfwX+sH+/lmciafkXKVJk7ErYBUejfsUU20KkJWVjSdiCVhZIXJzClCiYGwnyq+eyZsMaVcjEPbtbdRK0RqZwXOaD7rqPcS9e2V85fPgEjUjQ2jmc3uBVdsLCe7fT8Nfj6NxXzZLCzRp5IjxG3dj9+4aS+gSDLd+1rE68mKkEKUlID5FfjJiDfLZZTS5r46RM5ys0hF3O5f7JvDEMbiVJISjix1fQZTWkz+QlGEIO0fL6iPb+nZobS7G/eQ0iq+ak4rSkBCfgtq9m3H/04SAhk/VJo7GlRgxUr4Yj47OznB2dsWIzxJQfH4xPNpPxVd5CsZ2ovTqGSWGgqthmDdxGpb9mFqdwMlycS1sHy7JOsKz01+O19ZJ2MkNbUVXcPpCXnlZmnoMe757WL3xqEG311D017mA8PB4/oRrMW5vHo4Oo3eVT1FC6kuMi0FecBuyGD/xv39LUo5j2+Ek2Pb1ArQ9MGakNa6EheBqebjEiA3bjpNaQzDeS798faLEDNuhnXUWLv1wFRW9DSi5cxrnkgzg3N6W4qsGJEUFyM/LQ35hKWRMipLCJ8jLy0dhqQzii0HwchuCxT9lVYyvkhQc33YYSbZ94eVA0zopPwmKCvKr4smkJSh8koe8/EKU6o3FvgeZyMysXNJw9iMXCL02IenhQfgYKRjbifKruOj07ym8nLXsLjs2rz9rpa/LjN6wZy7tnFirZk2YfsveLOBgIpNfhSx9GML6CNuxRb/JJxzIZmHeQtY64AIrKX8Crv3RDjZAaM/mXOJqpI/YdwHtmZGBDfPo05O5e45nq+b0ZEKXhey3sqenCpGwlG9mM08LE9bKozfr5WbDTKx6sYWnMqqmHSF1UxRfaer3bF4PS6ZnYMUc2zmy5vqGzH7kJvbLE36FvCtstbc1MzBtzZztLZihRTf28cl0+vyVRN3xlbLsc8vZQBtjZunSjfXp7c5sTSyZ56yj7M/KKQcovkpL8VQDxey4XzP5lALy2b9qLFqs29okeedm38/rwSz1DJiVYzvm2FyfGdqPZJuqOjd5lRTGt/g482smeCq23KLVja1NenrOkDJ2I6hjralCFI7t5KVS3H/r1iB3WCgnzkRSQjIyRIBes1Zo28Ycwn90XE+Koqw0pGdlIqtIH61dWyEjuAs8z0xA7Pm5sH3W4fySTCTEJCFHwwT27RzQrPZlNaQOzxffUuQk30ZiRikM5FelWTV56pBtKbLuxCApTwgbFydYCvlq8so9V3yl+bh/Ox4PRVowb+MCu790IIqvMqrvDO2VSnOScTsxA6UGNnB2skIT+tVMKTRUfOumaGwnL0t949twyVtDEUViqstoXOkXgp2BPWGU9j2C/Jchc/plnP/EuWq+KdIw/vX4kn8VxVd9UWzVG8VXvdU3vsqXZDcZhHVfh8Ar9wt88PZQjF94CkbTDiFiLiVuhBBCCCHKd+SN/KsovuqN4qu+KLbqjeKr3uobX/p5mxBCCCFEhVDyRgghhBCiQih5I4QQQghRIZS8EUIIIYSoEEreCCGEEEJUCCVvhBBCCCEqROFUIdeu/QYbm1Z8iaibmJgbcHXtwJeIOsnNfYwHD1IovmqK+q56o/iqt3v37sLNzYMvvTia5+01R/FVbxRf9UWxVW8UX/VW3/jSz6aEEEIIISqEkjdCCCGEEBVCyRshhBBCiAqh5I0QQgghRIVQ8kYIIYQQokIoeSOEEEIIUSEqlbyVFuZDJJbyJUIIIYSQ10/95nkruogNH+zCjTK+/BRBs/4I3ziRLz2LCA/is9DEwRbGitJIWSq29rfHDo+ziFvTha8k9VX3XDOliN75IUJ+FuHpL0kjh3fxxWJv7lE+boSvxMq955D0RBctPEYjcOks9LKgg7rK4PnmEipA7MF12PKjNt5esxCDmtWInSQFpzeuwNYT15BSqAVzl4GYuvATjHZqXNGefwPhK1di77kkPNFtAY/RgVg6qxco/C+f4thKkXhgPoJPZXCPqmkI38SsrTPgoc0VKH5K63n6bum9SGxcuQ3fXnuAIm1zuAycikWfjEbbqu4ZjpUr9+Jc0hPotvDA6MClmNXLouqojaJ28vI839j89+oXI01DWLWxh729fLFG4a+H8f0f2mhdXuYWWzN+xb+RewwBXgtxRsyXiZLRhIGVA5ycnGosrSGI+xan4gu4dhlSD/hjcOBlNPddhW3rA+CesgEjx25ArKTiGYhyk6WexrJh7vBeGI6jEf9DnKhmml6Cq0FDMWZPEYZ8uh/fHNqMiQY/YMpbAfg2l2vmdqgO+A9G4OXm8F21DesD3JGyYSTGbogFhV8ZSHD3/EEcT9SGQ80+7GgFA/nIT/FTbQVnEDhwDHZldsaM1Vux4aOeeLLPD4M/iuR2x+ThPQD/wYG43NwXq7atR4B7CjaMHIsN/OCsqJ0oOfmRt7pkZ2fzjxSQPmI7BugxqymRTMxXyYnvnWGfLXqfTXzXh703J5gdup7DpFy9NOcqC5/bnzVv7MYmB29ix+PKuNo8duvrdSzQ34eNf/c9NnfdcRYvKn8a7g8espA+Qtb24yi+gjSE544vr/iX/zJ3q7fYjmQJY5J4FuwpZJ2W3GTy6MlJU3cyb8NW7INzNb8F5FVRFN/CY4Fs1NKTLClqMXMV9mDr73JxrVR2gwV10GNuy25VxzfjM9Zfz5q9f0bMhT+YeQo7sSU3q1pZ6k5vZtjqA0bhf/kU991CdmiMEbOdebbWmFyJ4qfcFMW37PcQNt57Ljv+mK9gEvbHmq5Mt80cdqlEwuKDPZmw0xJWHd5UttPbkLX64BxXUNROXrYX3fY+7aUeHZXeC8eEbmOwO9UW/UYMgYf2WQT2GYCgK4VcYxmKsh7jiawMxYUiiCVSJG4bhd7TjqHQxQtDvRyRe3AS+k2OQLqMf0LyakluIyRwF/QC1sK/lSYgisavcabo3N0BjfhVBGZd4WmXgeioe3wNUWbCkevw1ZJBaCn/Ce1pgmZobqGNnPR0lPBVssxM5GqYwdJCkwv/r4gz7YzuDlXRh1lXT9hlRCPqHp2b+uoV48mTMugbGUCjJBfpaVkorBEWip9qa9RxFiIi12O4MV/B9dKMjBxomlnCTFOE6F/jYNq5O6rDa4aunnbIiI7iCoraibJ7icmbBNd3b8DJZh/g813z4DtqLKZ9ug9LuyUhdPspbrvQA5PedoGeTlu8vWAxxrZjEDftjllbQhHyoR/GTwxEyKLBKP3fN7hQzD8leYVkeHRkGbZkjsWKmc7lyZo0JwOZElOYm3GJXKVGFrAwAbLSH/EVRGUJmsNnxTJ0vBiAoe/Nx5LFH+CdSYdhFLgGM9pqICcjExJTc25Dwa/PaWRhARNkIf0RbfxfOWke8gqkyDjmjzYWNnB2soaJeXtM2B6NAkgpfmpClnEeYSv/izkTBmDquXZYuWEq7JGDjEwJTM3NUB3eRrCoGJzlg3fd7UTpvcTkrQA3ryfDqJNHjczeFB06tIQo4RZfUZMu2o+dgeF6l7B6wWzMnD4VAZ9fh7ikCIV/c0EE+RdJYrFz449oM20WuvMnw6JMwm0CNKBZY/CXnycnL0uldN6E6pOh8Ek+pLqNoashhUQiQyMtAYrSHiKLC2+ZhNvAa3Dx5tcuxwVfk/tWSCV1XgdF/g0aunAYMBFjJixCZEouHj/OwC8rW+PyXB8svVRC8VMTTJyFe3fu4G56ETQaSZGbI+IiWIaK8NaKLhfe8sGZe6SonSi7l5e8ycQoFjPo6Aq5zXslDejpagPiZ1yhIEvHkcmd0WteJAos2qN7vwEY2MUGetV/TF6h0qi9iEjqinfH21YN9prGxjDUECE/v8bv2uV7+4Bh06pj+URVlZzHcv8NKJx0FN/tXodVqz/D15ErYBc5G59EZMPY2BAaonzUDn8et9tmiKbGtTcK5BUQWGFY0E5sXTwKTvrcUC8wRHv/hfCzv4+zZ+5Q/NSEps1ofLrvME6ci8KJycXYPukjfJVvDGNDDYjy87ldsEpS5FUMzvLBu+52ovReXvImMICluR7yMtJRnapJ8CgjGxrNLPhyDbknse9YMYavP4g1H07G+NGj0M9aCyW0A6gESnHj+9N42L4/vMxqfGWMnOFklY6427nVA4A4BreShHB0seMriMp68geSMgxh52hZfXRG3w6tzcW4n5zGhd8JVulxuJ1bPfyLY24hSegIF7vKw+3klZGKkJYQjxQRX+bJJ4fSFGhS/FRcfnQE1m47hZSqA2XasOneBS1FSUhMbQJnJyukx91GdXjFiLmVBKGjC/fYSEE7UXYv8WdTPfQY3Bc6lw7jCH/yqyznJxw8nY0OA73KyxAIIJCIUSz/WVTQiBtQJCguqjg1WpZ5BmvDo7lHpSgtqR5cyCsge4xr1/6EqVM7WNb8xmh7YMxIa1wJC8HVPHmFGLFh23FSawjGe+mXr0KUm6SoAPl5ecgvLIWMSVFS+ITb+85HYSnX5wzboZ11Fi79cBXl4eWU3DmNc0kGcG5vy4V/DEZaX0FYCN8ujkXY9pPQGjIeFH4lIL6IIC83DFn8E7LKh1AJUo5vw+EkW/T1cqD4qTidgqsImzcHn55KR/kWVpaLXw79gEQjF7S3EcJjzEhYXwlDSMXgzIU3DNtPamHIePn2V1tBO1F6/FWnf+u5L2d91lQhkj/Z4WmdmLl5W9ajX2/W3sqU2Y/axq7z039IkrezgUY6zMzBg/nujGY/zHJh+oa2zKNHF+bsOpStPbWHjWrWhNn1m8+OpaTQVCEvwXPFt+w3tqidLusQdKNqyogqeVfYam9rZmDamjnbWzBDi27s45Pp5dPBkFev7vgWs+N+zeSXnMuPb9dYtFi3tUlcu5Rln1vOBtoYM0uXbqxPb3dma2LJPGcdZX/yM4rkXVnNvK0NmGlrZ2ZvYcgsun3MTqZT9P8NivuulKV+P4/1sNRjBlaOrJ1jc258tWcjN/3CnvBrUPyUl8L4SjPZ2WUDWcsm+szS3pk5vmHI9Mw9WcDX91hF98xjV1Z7M2sDU9ba2Z5ZGFqwbh+fZNXhVdROXqbnzq3+Rv3usPCcitLjEPvnE+i+4Qxna/1aJ8gWpcbgVro2rB3tYdmkDJkJN5FcYIjWrg4w0wEKH8Qg9pEQdq52MHnWdAakXhoivvKjo1l3YpCUJ4SNixMshXw1eeUaJL7SfNy/HY+HIi2Yt3GBXTOuY9ZUmoU7MUnIE9rAxckSFP5/x3PHtjQHybcTkVFqABv5T6VNnvrBheKnlJ43vtL8+7gd/xAiLXO0cbHDX7vnHcQk5UFo4wKnZwzOitrJy1HfsflfSd6I8qL4qjeKr/qi2Ko3iq96q298X+I5b4QQQgghpKFR8kYIIYQQokIoeSOEEEIIUSGUvBFCCCGEqBBK3gghhBBCVAglb4QQQgghKoSSN0IIIYQQFULJGyGEEEKIClE4SW9S0h8wNm7Kl4i6uXfvLmxsWvElok5ycx8jPz+P4qumqO+qN4qvepOPz3Z2bfjSi1OYvBFCCCGEEOVBP5sSQgghhKgQSt4IIYQQQlQIJW+EEEIIISqEkjdCCCGEEBVCyRshhBBCiAqh5I0QQgghRIVQ8kYIIYQQokIoeSOEEEIIUSGUvBFCCCGEqBBK3gghhBBCVAbwfznu50znzX+mAAAAAElFTkSuQmCC)"
   ]
  },
  {
   "cell_type": "markdown",
   "metadata": {},
   "source": [
    "H0 - Não há dependência entre o estado civil e o nível de escolaridade.\n",
    "\n",
    "HA - Há dependência entre o estado civil e o nível de escolaridade."
   ]
  },
  {
   "cell_type": "code",
   "execution_count": 35,
   "metadata": {},
   "outputs": [],
   "source": [
    "#chi-squared test of independence\n",
    "table = [[20, 100, 35],\n",
    "         [50, 80, 15]]"
   ]
  },
  {
   "cell_type": "code",
   "execution_count": 36,
   "metadata": {},
   "outputs": [
    {
     "name": "stdout",
     "output_type": "stream",
     "text": [
      "P-value1.1357109599633353e-05\n"
     ]
    }
   ],
   "source": [
    "chi2, p_value, dof, expect = stats.chi2_contingency( table )\n",
    "print(f'P-value{p_value}')"
   ]
  },
  {
   "cell_type": "code",
   "execution_count": 37,
   "metadata": {},
   "outputs": [
    {
     "name": "stdout",
     "output_type": "stream",
     "text": [
      "Rejeita a hipótese nula: Há dependência entre o estado civil e o nível de escolaridade.\n"
     ]
    }
   ],
   "source": [
    "if p_value < 0.05:\n",
    "    print('Rejeita a hipótese nula: Há dependência entre o estado civil e o nível de escolaridade.')\n",
    "else:\n",
    "    print('Falha em rejeitar a hipótese nula: Não há evidências suficientes que há dependência entre o estado civil e o nível de escolaridade.')"
   ]
  },
  {
   "attachments": {},
   "cell_type": "markdown",
   "metadata": {},
   "source": [
    "## Exercício 8\n",
    "Enunciado - O dono da loja afirma que um número igual de clientes visitam a sua loja cada dia\n",
    "da semana. Para testar essa hipótese, um Cientista de Dados registrou um número\n",
    "de clientes que visitaram a loja em uma determina semana e encontrou os seguinte\n",
    "números:<br>![Captura de tela 2022-08-10 091557.png](data:image/png;base64,iVBORw0KGgoAAAANSUhEUgAAAP4AAADACAYAAAAk5t6MAAAAAXNSR0IArs4c6QAAAARnQU1BAACxjwv8YQUAAAAJcEhZcwAADsMAAA7DAcdvqGQAACaqSURBVHhe7d0JXFTl+gfwH4OsIosIopiiIKDsIMpVFA1R0xDrj3pxJ3FJEy21VIw0Ldc0lzLcClNRb5JLuZSZhlsloYgKBu4sgojKNsDMPP8zi4JKQQgJM8/385kbZ5kz4DvPvO85Z+770yIBGGMaRaT6L2NMg3DhM6aBuPAZ00Bc+IxpIC58xjQQFz5jGogLnzENVOl9/NTUP2Fm1lS1xNTN9etXYWPTTrXE1E1e3j3Y2bVXLVWu0sLPzc2Fubm5aompG25f9Vad9uWhPmMaiAufMQ3Ehc+YBuLCZ0wDceEzpoG48BnTQFz4rOZKC/GgoES1UAX5vvliSFWLda208AHyxXX0aoq/W6xaaJi48NkzpFe2YebYD7A3Q6Za84gYcSvGYuK634WfZUiPCkTLrguUm6qQGx2Mlh7v4WSpakWVJEg/9hneCemDrp4ucHbrhO4DRmPu1wnIe/rXekYuooNbwuO9k6j2y1Wb6u/u/IFquWHiwmfPkGbHY9/2A7hw/+nvdpUh7dh27DpxU/hZBKuR0Ti//23lplqW/9N09A5cjivtRyBy7ZeIjlqCyd1LEDspAMOi0v61kYO64sJnNVZ87RS++/myakmKrLgozJkwGmPe/ADRv9/BxT2rsOnndNV2gZYWSq7sxZJpb2Dk6DfxwdYE3K+09y7B79/uw3Wvqfh83ij069oJXj7++O+saHy9ajw6GT0Uxh5K4us/4rPZEzBqRCjCP96FxAeqDQItrRJc2bsE094YidHC77Q14b7QXz9Sghs/rcPcSWMwYmQY3lm8E+fuVfhlSm7gp3VzMWnMCIwMeweLd55Dxc0NHRc+qyEZHpyIQsSKQ4ql0rML8OqA+Thj3BX9fE1w4r0QhM6ahRWHywufCo/jo1n7IXXyQ7c2Gdg6biBmHCxQba1IGxaW5qArR7EvKV+1Tk4PXm98jAUjPdBYWJLe+Boje4zE1jw79OjpAtnBcPQcuAyJEvm+hMLjH2HWfimc/LqhTcZWjBs4A8qXk+J69DB0G7IR6W39MehVb+genYFefSJxqlC++Tqih3XDkI3paOs/CK966+LojF7oE3kK8s1qQf5d/afdvXtX9RNTR1W1b0nc22Sv+xL1nTafPvzwwwqPSBrcQYfMhn0j7CWl26t7kaFLhPwZdDzclgy6LaVUieIQJEldQT0Ndch59m+K5bvr+5GegR99kvZoh2Ra5GNALhG/K5efIr17hCJ8LUlHx5Tsug6isFnL6KtDSXS3TLUDldHZua5k6LOIkh+/5kYa23c8fZV6h9b30yMDv0+o/OUWkY+BC0X8Lhyg7HeKcNEn98hzwlGUpJkbaYBJMxr2Tb6wOYJc9N0p8tzjrZS5cQCZNBtG3+Sr/u4O76q21T/VqV/u8VnlqBjZqZdw6VLFx2Wk51c2KXMBUv7MgLmTK1ppK9dot+mNnh1UCyraVi7wsFat0zKDaRNh6F9U+dVxkbk/Fh6/ggsHV2FcNzNk/7IB0we6oo1Df3z4c44w3sjH+YRUmAqvafPoNW3HYuOhKIy2la/QhpWLB8pfzhRNhKF/kVgYr+efR0KaKTy9HdBIuRmiZu5wb1OA5AtXhc0JSDP1hLfD461o5u6ONgXJuHBVMZxo8LjwWeW0bfD6km2IiYmp8NiEcR6PiqECWTHEQv3qGxhAS7UKImMYN37q7SUSQfvxDoKKP1dGZAIH/1F4d+lm7D2ZgqxbJ7GgYyIWTlyEU8ILFhUTdPT0VTs/SyTSfuIlHv0sEwu/L+lB37DCVi0D6OtC+DsKIS4Wg4TjPrlZH7oQC9vU40SfC589P6HITU208eDevfKLZ5IbuJFRw2vvsgyc3r4e+y4+eTOukaUPJozoCoPb13Fdagyr5ga4n5mBYtV2yPJwLUn4gKjiRFxk3ALNDe4jK7PCaENyB1l3tWBh1RLGLZrD4H4WntychbtaFrCyquSDrwHiwme1wBCeXh1QcOowjt+XL0uRHrsJ+2/XsHekfJxePxOjJ8zHj+nlxS/Li8f6LXGQefjAU98A3V/xg84v27DtinKf+8ci8UqXEdhwrYrhuEF3DHhZD3E7dwkfIPIVMuT+FIPDd93RN6CVsHkAXtaLw85d15W3DWW5+CnmMO6690VAK/UoGS58Vgu00WF8JMYZ7cAQj8542c8HwfscENRZRxgjVzWer4S2A8K//ArjDHbg/+ya4yUHF7g62cKqdS98WjQEGzZPRUdtEZqHLMPqQZn4wMcBHl4OcHhtD1pHrMQU5yp6ZZEl/rtsDV5Pfx8+Lj3Qu5cn3EYfh/vizxHupC1s/i+WrXkd6e/7wKVHb/TydMPo4+5Y/Hk4hM1qgWfg0UB10r7SIuRkZCInOwdFTWzh2i4Li7r44MiwJMRNb6va6Z8TZ6ciOS0LBTCARbsOaN/c8KneSoaC9Iu4eEMMEztXOFrqqdZXRxEyLyXh2kN9tHJyQusmT1V1USYuJV3DQ/1WcHJqjac311fVaV8ufA1UF+1bcHA8nAefgv/qLzCjhykyvotE2PxsTDxxDO85qcd5cUNRnfbloT6rFUavLMPu1QHI+/ItvB4YgjmHTDFhx3ZM56Kvl7jH10DcvuqNe3zGWKW48BnTQFz4jGkgLnzGNBAXPmMaiAufMQ1U6e28+PjfOVRRjSUmnoOrq7tqiakbeSiql5e3aqlyfB9fA3H7qje+j88YqxQXPmMaiAufMQ3Ehc+YBuLCZ0wDceEzpoE0qPBLUfigACVqlIbCWE3V+D6+JP0Yoj6Jwt4zKch8KIWeWSs4+f0X06YPh4dZ/fs8kWWsRUD7KHQ5loCPvTV7coiq2leasg2zFh1CVsVJcrUM8Z8pazDJW1dYeIBz0Qux8KufkfpQHy95D8aMeVPgZ8UDyPqg7u7j5/+E6b0DsfxKe4yIXIsvo6OwZHJ3lMROQsCwKKTVcFZlVj9Irh5DzJ4U6Dp0RMeOjx6OsDaWv11kSN8WhgEzTqDlyI+wdnk4Ot38BK8N/QRJ6pE1oRFq1OOXHH0LjgOSMDXlKKa1Lv/sKInfjPl7dDB41kh4yMPNSjMQ93UUdsSlIV+3JTwDxyIs0AFGyt0hzYrDxtVbcSpDBJteb2BSp3TsOGOC4NBeaBy/HV9dtsHwEV1hoXiJB/g95ksk2wzHyP8YIGHXJlxuMwSeWVvwxd4k5Om1Q++waRjuZab8NJNmIW7jKmw5mQEtax8MG1KKBb4by3v8B0mI3RCNg+fTUazXEu6BYXgzyFGRyabuqmrfop1DYT3bArGX16LX03NXSpOx2NcL/+t7Gr/Oc1Uk0cgyojCg41LY7bmENT3/yWSXrC7UWY+vbWEJc7qCo/uS8ESkodcb+HiBquhlGdgV5ougVWl46eVB6O8mwd6JPfDa6ktQdAylZ7Hg1QGYf8YYXfv5wuTEewgJnYVZKw4jXSJF7rHPEfHpYTyOaJfm4vjnEVj1Q5awUIzfNs9BxNQxmKkKRbSRhyIOmokDilDEUiR8HIRX5/8KM9/+8G+XjjXTo3Dl0UhEmoK1wT0xIbYQzgGBCHDMQ8wYf4RuzywPhNBgxQ8foqyJKYy1SpCXmYGcwgpDuIKz+O1SM3T2rRA/ZdkVPnZZOHvmumoNq/fkPf7Tqgzdk96lIxG+ZKmjQ6Z2XWlQ2Cxa9tUhSipPNKSyhEhyN/B8IngwfX1/MrWZREfERCXHw8nWoBstLU9ZpBU9DUnHeTb9Viah1KXdyNAjkh4/XZJGy3wNyWteorBwVxGKqN99eXlIY/LHilDEOfJQxJJfaFp7A+q65E9SbabcHUOomY4zzf5N2F58jrbNm0fbEh8dvIB2D29GJsExwk/q7+/bV/lvr2/Zgdxbm5KxmQnp65mTa8ha+v2hvBmWUTdDT/rg/KN/O7ls+qKPIdmGH1ctsxep7kIzRebwX3gcVy4cxKpx3WCW/Qs2TB8I1zYO6P/hz8gRus38P+KRomuI+3EbsG7dOuERhW9viWCUdR5/3JaiIOVPZJg7wbU8ZRG9e3ZA9acuF8HK1fNxSKOWmZkiFLFYHopYkIKU22bo4PzS4+OZeHmi/aMuSt8NQycFwSBuMWZPm4yJ48OxOUGMkqJClKl20Vxa0Hfog9FDhiHi4E3k3buHrF8XwvbEdIyYFweUSSAV9tF+oqG0FctSKZ/kNxQ1K3wFEUwc/DHq3aXYvPckUrJu4eSCjkhcOBGLTsnDBcWQSe8hLSEe8fHKR0JGc/QdFQB7HZlQoIqURRg8DloRwdi48T/4heRvvr8JRYQu9CvkKWrp6kFPtYMscxdCO/th5sF8WLn5wr9PX3SxqRD4qNFEsB4YiS/WzEVwxybCktDObmGYM8oeN44egbbwAWuiVYAHDyqcFEnv475wzmfS1Ey1gtV3NSh8GTJOb8f6fReFM+kKGlnCZ8IIdDW4jevXpTBpYQWjRo4IWbERGzdWeER9gKDWOjA2NYH2g3u49/j9I8GNGxnKrDKBljx6SSorP+emh3hYaUTzs0RNmsK00X3czS3vgSS305GpOnjegS2ILQ7C8pglmBoagsHB/mitU4LqHV3dCaOxjGRcvqm4WFJOfg1YW3i7mDqho3UmLl3MK28bcSIupBrC0dlOtYLVdzUofEL+6fWYOXoC5v+YXl78sjzEr9+COJkHfDz1oe8XiN56xxEdfRklih3EuPhpENwHb1Dc7jP09EKHglM4rExZhDQ9Fpv231a9mbTR1LIZGt2+iMRc+RoZ8uK2Yt+Vag4lDb3xH9dSnNx7EHcUT8/Bka/34arqnSpqpA2RpBhFil9MhuwjSxF9VvixtJS/4CO00y+RAfB6dS5+kp+zCSQ392DtzlS0fTkA0PXGkNda49T61TitaDoxktZ/hgM6ryIkoIlif9YAKE/1n1TlxYGyqxQ7sze1a6JPpq3sydmlI7WzMKImbXpSeEwKiRU7Sejmt9PIx8qc2nn3JD8vGzK39qM5h7JIKt8svUP7w93I1NiGvHv1oE4+IfTR2z3I0HkOya/PSbP30+SORtTY2oV8uriRZ9BCmhlgRO7vJwhPll/cU15MKpEfSyC9s476GNrT23HKNfeOzqEuTQ2peQdv8nbqQL1mTqaXGzvQjFMlJL37PU1xbkImbb2pexcncg1cSoc2BZOFkR35z4ql24pfUH1V1b7S9O9oZvcWZGBsTY4ujtSyiQnZv7aSfn2o2uH+KVrcrzUZN7MlJ3srMrHqRu8eyFS2K3vhqnNx7/lm4BFnIzU5DVnCqNDAoh06tG8Ow6fHECXZSE5MRa6WOexdHGDx+DavFEU5GcjMyUZOURPYurZD1qIu8DkyDEnHpqOt/OJRaQ5Szv+J+4Zt4eLUAobKJ1abLP8GEpOyoN3KCU4vGT05vJH/XufTkG9iC1cHS+ihELcSk3DH0A6uduaQfz9NXVWvfUuRm3YRKVmlMLaRD++f+vcTtudcSUTqfUPYOHdEi3/aOKzOVKd9X9zUWwUHMd55ME75r8YXM3rANOM7RIbNR/bEEzj2ntPje8Ss9v0r7ctemOq0bw3O8WuJ0StYtns1AvK+xFuvByJkziGYTtiB7dO56BmrazzZpgbi9lVv9bvHZ4y9MFz4jGkgLnzGNBAXPmMaiAufMQ3Ehc+YBqr0dh6HZqo3Ds1UbxyaySrF7ave+D4+Y6xSXPiMaSAufMY0EBc+YxqIC58xDcSFz5gG4sJnTAP98/v4Rb/gk7c24NxfTEAvsuiN6BWjVUusPqrWffz88/j6wwXY9POfeKjfFr5jIvDhG94wVXQVHJpZn9XNfXxtE1i3t4e9vfzRGoW/7cR3f+rCVrEsPNpaqnZkDZb0Gr4c1R+z4tsjbPEafDzGCqdmvobwPbnCRg7NVAfP9809WTa+eMUGC9vEIm19PzyaR7M0Iw5fR+1AXFo+dFt6InBsGAIdlFGZ+fE7sDnFBgHmcfj8f2IMWBSBVyxKcf3HTYj65lfcKjVFx1fCMHmIK0wUz3iApNgNiD54HunFemjpHoiwN4PgqAnplnWkqvYtPTUDbgNTMCNxL8a2lPcNJUg7eQy5L/mis/UtDs2s5+qmx6+CLGMXwnyDsCrtJbw8qD/cJHsxscdrWH1J3h3IUHBmI+bMn4Hwj06CLJrBUFuKG1+PRI+RW5Fn1wM9XWQ4GN4TA5clQh7WlLI2GD0nxKLQOQCBAY7IixkD/9DtyNT4+e/rihSpR4/jlmsf9DG8hpP7v8E3B85Dx6MvOrcWPm05NFM9yHv8p1VnXm4F6R1a18eArMcdVM2lX0YJke5k4Fkh7FKaTuv7m5LNpCOKxbtR/UhPx4vmPQqsLDtLc10NyWdRsirgUkKpG8dS3/FfUaqkmM5tm0fztiUKR1Yq2D2cmpkEU4wmpFvWkb9v32L6fmxLMukykAZ4eFGf116nABcLMrYfSVvTJBya2QBUp35rucfPxx/xKdA1vI+4DfKgTOER9S1uiYyQdf4P5S5a8h7CE13sVf1F/nkkpJrCydVGFXCpDduxG3EoajRstfXhNnQSggzisHj2NEyeOB7hmxMgLilCIadb1hmxWIyCNGBQ7Bkcjt2NH37/CbOafYv3Pj7EoZlqonYLXyZWpNVK76UhQRWUGR+fgIzmfTEqwF61k1D7+gYwfBRgKS5CMelAr0LA5WOyTOwK7Qy/mQeRb+UGX/8+6NvFpkLQJqt9Wmhi1Bg6Lv7o21r14azXAYF9HXDvXDyHZqqJ2i18kQlaWBmhkWMIVlQMyhQeUR8EqXZ6ksjYCs0N7iMzo1i1Rqj3vGtISslCYd4BbIktRtDyGCyZGoqQwcHwb62DkmcuR7LaowNHp/ZolJ2JzAoduLi0VJFuzKGZ6qGWh/r68AvsDb3j0Yi+rIzKhPgiPg1yx+ANwtixMgbd8YqfDn7Ztg1XFAmc93Es8hV0GbEB12SNoC2SoFiZbglZ9hEsVaZbopTTLeuIPCZ7CLpnbsey7amKwFNZzhFs/iYN7Xv25NBMdaE6139CzS/uCSQ36dtpPmRl3o68e/qRl405WfvNoUNZykjFu+v7kaFtOB1/lHYpKEvdTmPdzMnMxp087S3JuFUAfRSXJxz/Ln0/xZmamLQl7+5dyMk1kJYe2kTBFkZk5z+LYtU93bKOVN2+ZZS6PYzczE3I2tGFbM2NqU3/JXTqvmozh2bWa9Wp3zqbgackOxmJqbnQMreHi4PF43v8f0l2H0endcNbebOwa91IOCtv+wtKkJ18Hmn5JrB1dYClcKDCW4lIumMIO1c7mKtzumUdqW77ygpuISnpNsqaCW34TJAoh2bWV9Vp33o09ZYE145vxebFH+HswGP4/k3r2v+SAVN4Me3L/i3Vad/6U1uFJ7D7q4M4ffcldHY25aJnrA7Vox6/FIV5xdA2MYE+V32d4h5fvTWsHl84g2xsxkXP2L+By4wxDcSFz5gG4sJnTANx4TOmgbjwGdNAld7O49BM9cahmeqNQzNZpbh91VsDu4/PGPu3cOEzpoG48BnTQFz4jGkgLnzGNBAXPmMaiAufMQ30HIUvQdbpzZj7xkD4ebvD1b0zXv6/SVi8+yIeqPaoKwW3LuNaHk+2+a+QXsc3EaF445NfIFatUoZmzkRwr05w9/JF4MRVOJ7F7dGQ1LDwS5C0Lhid/efgCLwx4t2FWDR/Gl6zzcBXb/wHvm/uRUadvQ/yEBsegDlHyt+GrK5IcW3zFExZthXbj6UpZtwFh2aqB/k3955W1SydksvLqLuRGfVankjFqnVKUrp78E1y0LOmUbH3FGvyfttGK6NPUvbjKVjv02/bV9KWU9mPly/sXkYzwkZQyPCxNH3ZHrr8OB7rIZ2N+ZS2nb5Ih5ZOprHzdtKBL6dT75aNySt0Ea3cc0kRrXX/wm5aNiOMRoQMp7HTl9Ge8gOwSlR3FmVJ2np6tU1nGjnUmYxe3Sy0lHzlZVrkY0ieH5x/HGsmTf+C+pm0o7d+fjzXMnuBqtO+NejxJbi0cwd+MxuMd990wZMBOCKY95mNKd3zsG/r98KyFLnHPkfEp4fLRwDSXBz/PAKrfsiSL/x9KKasAGc2zsH8GeH46CTBopkeZEU5uPdQhrLiQhSIJZCmrEVwzwmILXRGQGAAHPNiMMY/FNs5VfP5SK9i09SPkDNmFd5y0FGtFHBoplqoQeGXIjk5DVodveBd2ZTKoubw8miD4iuXVSv+ThnETX0xZVUUVk8dhZDRM7A6YgBKf/gWx+XBOiJd6OgIw01xd3z2zWdYNDkIA954Hc4Geujw+mzMHeoCEjeF75RViFo9FaNCRmPG6ggMKP0B3yoOwGpGiqubhA/b7DFYM6vTE1OjS3OzkC1phuaWFcLzGlnByhzIybyjWsHquxoUPqGkRDjb09V7ap71R0TQ19eFlkQRi1OFqkMxtYTjWXp2waOMzafpuw3FpCADxC2ejWmTJ2J8+GYkiEtQxKmaNSZN24gpH+VgzNpZ8H4605BDM9VCDQq/EaytrUC3ruJqpe1cihs3MoEWrVXLf6NaoZha0DcwFP63MjJk7gpFZ7+ZOJhvBTdff/Tp2wU2nKpZc9I0bAj/CHf++zHG2+QjJ+cuHgqnVFRWiLzcfEg4NFMt1KDw9dApwA/ml77B1l8LVevKybK/w84fC+DRN0CxrKUlFKFUVh6wSA/xMF/1/wR+7lDMPBzYEovioOWIWTIVoSGDEezfGjqcqllz4rM4lSjGzS9D4OHkBCcnVwz6PBnFx+bC2208/gcOzVQHNSh8oEn/9zC7ZzY+GxOKtWey8ajjL7n5Iz4a+Tb2Nx2PDyc4Cmu00dSyGRrdvojEXMXVOuTFbcW+K6pniGoSiimCSHiOuFg+lBehkbYIkuIi5a0mWTaOLI2G4gilJeVvTFZ9jYdiy61sZGc/emTg6DvOMAxYidTbMRhhyaGZakF1df8J1bkdIL13htaM7kTN9fTI9CV7crBrQcZ6ZtQhKJK+u/7oRo+wX/Z+mtzRiBpbu5BPFzfyDFpIMwOMyP39hGqEYmbT+n6GZBt+nB5nbErS6LO+pqRn6UDeI7+gs/umkHMTE2rr3Z26OLlS4NJDtCnYgozs/GlW7G3Vk1hF1b2dp1RG5yI9ym/nyXFoZr1WnfZ97hl4JHnXcH7/fAwZdwJ9v0/A570r+dQvzUHK+T9x37AtXJxa4MmbATUIxSxKR+KFTOi2doR9CyOUZSfjfFo+TGxd4aA8ABKT7sDQzhV2nKr5jNqZgYdDM+ur6rRv7Uy9JU1F1MBueDvZC29O7A87x5cxLrDj4/u8rH6pncJn9VV12rdG5/jP0LbDuG2HsWmMLfIuJSItV3nOzhirn3iyTQ3E7ave/r0enzHWoHDhM6aBuPAZ00Bc+IxpIC58xjQQFz5jGohDMzUQh2aqNw7NZJXi9lVvfB+fMVYpLnzGNBAXPmMaiAufMQ3Ehc+YBuLCZ0wDvfDCLy18gIK/nF+PMVYXnuM+vjw0cwvWbtiDuAs3kVemi2a2ndBn2GS8+X9OMFHt9bdk6VjT2x4buh5H4sJOqpV/o+AWLucYwaGtGQ9VnsM/uo8vD82MnI8DTUPx+fQe0C89iy+mrsbJgqffNo3gMHw55vbj7we8aHV4H7+WQjNFVhgZfR7733ZRrfh7ebHhCJhzpEJqK6tblYRmahvD2qEjOnas8LAV4dK+Q7icz3kGDYa8x39aVbN01l5oZj79sWMlfRmXpdiS/8dO+nTbGcq4vIcWTw2lEaMmUuSWs3RPKqXc09E0vXdLauwVSotW7qFLyrRM2r1sBoWNCKHhY6fTsj2XieMyq1bdWXYrDc18RjH9+n4nsu6/jtIkqlXshapO+9agx6/F0EzZA5yIisCKQ7cUm4p/24w5EVMxZuZ+SJ380M0mA1vHDcLMAwWQlhUh595DyMqKUVgghkSagrXBPTEhthDOAYEIcMxDzBh/hG7P5Pn0a8NfhWY+RXJxNWZsMED40jC0eyJWi9VnNSj82gzNfJJIpAVpli76fBqFOeNGY2LkUoR55OK301dg0X0MXnc2gF6H1zF77lC4kBhNfadgVdRqTB0VgtEzViNiQCl++PY4OC7zef11aOYTZHewa/4qZA9dgMlOPKdyQ1KDwq/N0Mxniaxc4dlK1XVomcGsiRZKiis5q9d3w9BJQTCIW4zZ0yZj4vhwbE4Qo6SoEByX+Xz+NjSzAknSF1jxY3tMmOKLxqp1rGGoQeHXYmhmJbS0taFd8RrRX1wvkmXuQmhnP8w8mA8rN1/49+mLLjYGf7U7q64qQjPLJ04vxZmvtiO163CEtOUxfkNTg8KvxdDM55B3YAtii4OwPGYJpoaGYHCwP1rrlAjjEfZcqgrNVOTlCUrP4bvDt+HWOwCWNXgXsRerRk1Wa6GZ/5BIJIJEXKwYyosaaUMkKYYyb1OG7CNLoczbLAV/H+g5VBWaaarcTXYvHvHXmqGjS4uavYnYC1WzNmvkiEk7vsPSbtewsGdrWLR2gGP7lrC0H4oYgzDs+H4ZeqveIMavjMVIqx8x2csd//HxRO9VZujjqwepVKrcodp04OTtjkaHZqJL51HY5RyGMS0OY5J3Z/TwcUXA6mZ478M+aHJmBYZHfIt0Lv46JbudjjvUFJYWPMxviJ57Bp7nD838J4qQnngBmbqt4WjfAkZl2Ug+n4Z8E1u4OlgKJyGFuJWYhDuGdnC1M/+Li4/sH31zjzU41Wnf2pl6i0MzGxQufPVWnfatndMzDs1krEHhyTY1ELevevv3enzGWIPChc+YBuLCZ0wDceEzpoG48BnTQFz4jGmgSm/ncWimeuPQTPXGoZmsUty+6o3v4zPGKsWFz5gG4sJnTANx4TOmgbjwGdNAXPiMaSAufMY0UI3v40vSjyHqkyjsPZOCzIdS6Jm1gpPffzFt+nB4mD3/50nBrcvIMXJA21o4FntSVe0rTdmGWYsOIavitIhahvjPlDWY5K0LlF7HwRULsXZfPG4V6aK5c1+Mj3gPgzvw7Pr1Qd3dx8//CdN7B2L5lfYYEbkWX0ZHYcnk7iiJnYSAYVFI+6fzaD4jD7HhAZhzhOMxXwTJ1WOI2ZMC3SfCMR1hbSx/u+TjyIy+GLIhG50nLcaaT95Bj4dbMGrAOziYr3w+awDkPf7TqgrdE/80mWz0/WjljcdJmAris5to9twt9Mej5MqSdPplYyRNGj2cRo6bSSv3JVO+YoOErv2wjlZsPUP3Hh1CmkVxX62gDT8m0ono6dS7ZWPyCl1EK/dcImU+5m5aNiOMRoQMp7HTl9GeyxyPWVNVtW/hjiFk2nYyHRWrVlRU9getDulH0/coQ1HlJH8uoa767entuBLVGvYi1VFoJqBtYQlzuoKj+5KEz/9yel5v4OMFI+EhH/HJMrArzBdBq9Lw0suD0N9Ngr0Te+C11ZcggTZatizEvmmjEPGjPKFBhpx9szDy3cMobWUBWVEO7j2Uoay4EAViiTD0XIvgnhMQW+iMgMAAOObFYIx/KLZn8hzadaH44UOUNTGFsVYJ8jIzkFNYYQjXyANTth/E8iAz1QqgJCsLudqWaGHJU203GKoPgCdU+YkhvUtHInzJUkeHTO260qCwWbTsq0OUdFfeNyuVJUSSu4EnRZ57tE5K6ev7k6nNJDqi6EnK6PLqALLqOI2O3jxAE+ytKWjTVWEsICjeQ6MsTGnorkL5EhWf20bz5m2jxEeHKthNw5uZUHAM9/o18fftK6HUpd1I37IDubc2JWMzE9LXMyfXkLX0+0PVLnLSTPo5agHNnRZC3Tq4U/DKM38Ro83+bXXW40NkDv+Fx3HlwkGsGtcNZtm/YMP0gXBt44D+H/6MHKEjzv8jHim6hrgftwHr1q0THlH49pYIRlnn8cdteQ/SCI6T1mFe2/9hTI/xOOS+FGvGtBXGAs/SdxuKSUEGiFs8G9MmT8T48M1IEJegqJDjMWufFvQd+mD0kGGIOHgTeffuIevXhbA9MR0j5sWp9hGQGDnXr+DK1UwUaTWCNC8XBc99bYf9W57jkrkIJg7+GPXuUmzeexIpWbdwckFHJC6ciEWnxBAXiyGT3kNaQjzi45WPhIzm6DsqAPaP4ta1W8GnizVybj5Am07uaFHpbyND5q5QdPabiYP5VnDz9Uefvl1gY8DxmHVDBOuBkfhizVwEd2wiLAnt7BaGOaPscePoEdU+Am0bDP54C3bu/Rln9oai+LMxeOd/91QbWX1Xg8KXIeP0dqzfdxFPBGE3soTPhBHoanAb169LYdLCCkaNHBGyYiM2bqzwiPoAQa2V/bo4fikmfqaFt9dNQP7yifgksbJo7Twc2BKL4qDliFkyFaEhgxHs3xo6Jc/chWS1QoqCjGRcvlmgWlaR3/XVFt4uD85i+9K1OHSzvHvXtfFFlzYFSE1JV61h9V0NCp+Qf3o9Zo6egPk/ppcXvywP8eu3IE7mAR9Pfej7BaK33nFER19WRSuLcfHTILgP3qC83Vf0KxZNXA3phDV4f/w8rB7zAMvGL8Lvijt4Qj8jkgijBkU8JhoJbzhJcZHyOLJsHFkaDWU+ZonwMcRqlxi/RAbA69W5+El+ziaQ3NyDtTtT0fblAEAvH6fXz8TbHx9CpqL2Zcj7dQe+TzGFs5uNYn/WAChP9Z9U5cWBsqsUO7M3tWuiT6at7MnZpSO1szCiJm16UnhMCinvAkno5rfTyMfKnNp59yQ/Lxsyt/ajOYeySEr5dGKWBzX1ep/OKK/fEeUfo3ecTMlz9knKl6TRZ31NSc/SgbxHfkFn900h5yYm1Na7O3VxcqXApYdoU7AFGdn506zY26oDsOqqqn2l6d/RzO4tyMDYmhxdHKml8G9v/9pK+lVxcU9K2UfnU982Qnu3sCcnx1ZkYtCcfMJ303XFlVn2olXn4t7zzcAjzkZqchqyhFGhgUU7dGjfHIZPjyFKspGcmIpcLXPYuzjAQk+1vipF6Ui8kAnd1o6wb2GEsuxknE/Lh4mtKxwshYMU3kJi0h0Y2rnCzpzjMf+J6rVvKXLTLiIlqxTGNk7oaG305PBQ+gA3Ll7G7QIdNG/vDLtqNyyra9VpX556SwNx+6q36rRvDc7xGWMNHRc+YxqIC58xDcSFz5gG4sJnTANx4TOmgbjwGdNAXPiMaaBKv8CTmvonzMyaqpaYupGHKnIoqvrKy7sHO7v2qqXKVVr4jDH1xkN9xjQQFz5jGogLnzENxIXPmAbiwmdMA3HhM6aBuPAZ00Bc+IxpHOD/AUmOGgJE2fBrAAAAAElFTkSuQmCC)\n",
    "<br>Os dados são consistentes com a afirmação do dono da loja?"
   ]
  },
  {
   "attachments": {},
   "cell_type": "markdown",
   "metadata": {},
   "source": [
    "H0 - O número de visitantes da loja é igual em todos os dias da semana.\n",
    "\n",
    "HA - O número de visitantes da loja não é igual em todos os dias da semana."
   ]
  },
  {
   "cell_type": "code",
   "execution_count": 38,
   "metadata": {},
   "outputs": [],
   "source": [
    "# chi-squared test of independence\n",
    "observed = [50, 60, 40, 47, 53]\n",
    "expect = [50, 50, 50, 50, 50]"
   ]
  },
  {
   "cell_type": "code",
   "execution_count": 39,
   "metadata": {},
   "outputs": [
    {
     "name": "stdout",
     "output_type": "stream",
     "text": [
      "P-value 0.3594720674366307\n"
     ]
    }
   ],
   "source": [
    "chi2, p_value = stats.chisquare( f_obs=observed, f_exp=expect)\n",
    "print(f'P-value {p_value}')"
   ]
  },
  {
   "cell_type": "code",
   "execution_count": 40,
   "metadata": {},
   "outputs": [
    {
     "name": "stdout",
     "output_type": "stream",
     "text": [
      "Falha em rejeitar a hipótese nula: Não há evidências suficientes que o número de visitantes da loja não é igual em todos os dias da semana..\n"
     ]
    }
   ],
   "source": [
    "if p_value < 0.05:\n",
    "    print('Rejeita a hipótese nula: O número de visitantes da loja não é igual em todos os dias da semana.')\n",
    "else:\n",
    "    print('Falha em rejeitar a hipótese nula: Não há evidências suficientes que o número de visitantes da loja não é igual em todos os dias da semana..')"
   ]
  },
  {
   "attachments": {},
   "cell_type": "markdown",
   "metadata": {},
   "source": [
    "## Exercício 9\n",
    "\n",
    "Professores de uma universidade desenvolveram 3 tipos de métodos de aprendizagem: método cíclico, método linear e o método pirâmide, para ajudar a performance dos alunos em um importante exame.\n",
    "Para testar se os três diferentes tipos de aprendizagem impactam na performance dos estudantes, os professores atribuírm aleatoriamente 30 estudantes para aprender um dos métodos de aprendizagem, durante as 3 semanas de preparação todos os estudantes realizaram o mesmo teste e o resultado de suas pontuações são mostrados abaixo.\n",
    "Determine se a pontuação média é a mesma para todos os 3 grupos. "
   ]
  },
  {
   "cell_type": "code",
   "execution_count": 41,
   "metadata": {},
   "outputs": [],
   "source": [
    "ciclico = [85, 86, 88, 75, 78, 94, 98, 79, 71, 80]\n",
    "linear = [91, 92, 93, 85, 87, 84, 82, 88, 95, 96]\n",
    "piramide = [79, 78, 88, 94, 92, 85, 83, 85, 82, 81]"
   ]
  },
  {
   "cell_type": "markdown",
   "metadata": {},
   "source": [
    "H0 - Não há diferença significativa da média dos três grupos.\n",
    "\n",
    "HA - Há diferença significativa da média dos três grupos."
   ]
  },
  {
   "cell_type": "code",
   "execution_count": 43,
   "metadata": {},
   "outputs": [
    {
     "name": "stdout",
     "output_type": "stream",
     "text": [
      "P-value 0.11384795345837218\n"
     ]
    }
   ],
   "source": [
    "statistic, p_value = f_oneway(ciclico, linear, piramide)\n",
    "print(f'P-value {p_value}')"
   ]
  },
  {
   "cell_type": "code",
   "execution_count": 44,
   "metadata": {},
   "outputs": [
    {
     "name": "stdout",
     "output_type": "stream",
     "text": [
      "Falha em rejeitar a hipótese nula: Não há evidências suficientes que há diferença significativa da média dos três grupos.\n"
     ]
    }
   ],
   "source": [
    "if p_value < 0.05:\n",
    "    print('Rejeita a hipótese nula: Há diferença significativa da média dos três grupos')\n",
    "else:\n",
    "    print('Falha em rejeitar a hipótese nula: Não há evidências suficientes que há diferença significativa da média dos três grupos.')"
   ]
  },
  {
   "attachments": {},
   "cell_type": "markdown",
   "metadata": {},
   "source": [
    "# 7.0 Teste das premissas"
   ]
  },
  {
   "attachments": {},
   "cell_type": "markdown",
   "metadata": {},
   "source": [
    "1. Variância: A variância das amostras precisam ser iguais\n",
    "    1. Boxplot\n",
    "    2. Teste\n",
    "\n",
    "\n",
    "2. Normalidade: A população origem das amostras precisam ser normalmente distribuídas\n",
    "    1. Distribuição\n",
    "    2. Q-Q plot\n",
    "    3. Shapiro-Wilk\n",
    "\n",
    "\n",
    "3. Independência entre as amostras\n",
    "    1. Processo de escolha das amostras deve ser aleatório."
   ]
  },
  {
   "attachments": {},
   "cell_type": "markdown",
   "metadata": {},
   "source": [
    "## Premissa 1 - Variância das amostras são iguais"
   ]
  },
  {
   "cell_type": "code",
   "execution_count": 45,
   "metadata": {},
   "outputs": [
    {
     "data": {
      "text/html": [
       "<div>\n",
       "<style scoped>\n",
       "    .dataframe tbody tr th:only-of-type {\n",
       "        vertical-align: middle;\n",
       "    }\n",
       "\n",
       "    .dataframe tbody tr th {\n",
       "        vertical-align: top;\n",
       "    }\n",
       "\n",
       "    .dataframe thead th {\n",
       "        text-align: right;\n",
       "    }\n",
       "</style>\n",
       "<table border=\"1\" class=\"dataframe\">\n",
       "  <thead>\n",
       "    <tr style=\"text-align: right;\">\n",
       "      <th></th>\n",
       "      <th>método</th>\n",
       "      <th>value</th>\n",
       "    </tr>\n",
       "  </thead>\n",
       "  <tbody>\n",
       "    <tr>\n",
       "      <th>0</th>\n",
       "      <td>ciclico</td>\n",
       "      <td>85</td>\n",
       "    </tr>\n",
       "    <tr>\n",
       "      <th>1</th>\n",
       "      <td>ciclico</td>\n",
       "      <td>86</td>\n",
       "    </tr>\n",
       "    <tr>\n",
       "      <th>2</th>\n",
       "      <td>ciclico</td>\n",
       "      <td>88</td>\n",
       "    </tr>\n",
       "    <tr>\n",
       "      <th>3</th>\n",
       "      <td>ciclico</td>\n",
       "      <td>75</td>\n",
       "    </tr>\n",
       "    <tr>\n",
       "      <th>4</th>\n",
       "      <td>ciclico</td>\n",
       "      <td>78</td>\n",
       "    </tr>\n",
       "    <tr>\n",
       "      <th>5</th>\n",
       "      <td>ciclico</td>\n",
       "      <td>94</td>\n",
       "    </tr>\n",
       "    <tr>\n",
       "      <th>6</th>\n",
       "      <td>ciclico</td>\n",
       "      <td>98</td>\n",
       "    </tr>\n",
       "    <tr>\n",
       "      <th>7</th>\n",
       "      <td>ciclico</td>\n",
       "      <td>79</td>\n",
       "    </tr>\n",
       "    <tr>\n",
       "      <th>8</th>\n",
       "      <td>ciclico</td>\n",
       "      <td>71</td>\n",
       "    </tr>\n",
       "    <tr>\n",
       "      <th>9</th>\n",
       "      <td>ciclico</td>\n",
       "      <td>80</td>\n",
       "    </tr>\n",
       "    <tr>\n",
       "      <th>0</th>\n",
       "      <td>linear</td>\n",
       "      <td>91</td>\n",
       "    </tr>\n",
       "    <tr>\n",
       "      <th>1</th>\n",
       "      <td>linear</td>\n",
       "      <td>92</td>\n",
       "    </tr>\n",
       "    <tr>\n",
       "      <th>2</th>\n",
       "      <td>linear</td>\n",
       "      <td>93</td>\n",
       "    </tr>\n",
       "    <tr>\n",
       "      <th>3</th>\n",
       "      <td>linear</td>\n",
       "      <td>85</td>\n",
       "    </tr>\n",
       "    <tr>\n",
       "      <th>4</th>\n",
       "      <td>linear</td>\n",
       "      <td>87</td>\n",
       "    </tr>\n",
       "    <tr>\n",
       "      <th>5</th>\n",
       "      <td>linear</td>\n",
       "      <td>84</td>\n",
       "    </tr>\n",
       "    <tr>\n",
       "      <th>6</th>\n",
       "      <td>linear</td>\n",
       "      <td>82</td>\n",
       "    </tr>\n",
       "    <tr>\n",
       "      <th>7</th>\n",
       "      <td>linear</td>\n",
       "      <td>88</td>\n",
       "    </tr>\n",
       "    <tr>\n",
       "      <th>8</th>\n",
       "      <td>linear</td>\n",
       "      <td>95</td>\n",
       "    </tr>\n",
       "    <tr>\n",
       "      <th>9</th>\n",
       "      <td>linear</td>\n",
       "      <td>96</td>\n",
       "    </tr>\n",
       "    <tr>\n",
       "      <th>0</th>\n",
       "      <td>piramide</td>\n",
       "      <td>79</td>\n",
       "    </tr>\n",
       "    <tr>\n",
       "      <th>1</th>\n",
       "      <td>piramide</td>\n",
       "      <td>78</td>\n",
       "    </tr>\n",
       "    <tr>\n",
       "      <th>2</th>\n",
       "      <td>piramide</td>\n",
       "      <td>88</td>\n",
       "    </tr>\n",
       "    <tr>\n",
       "      <th>3</th>\n",
       "      <td>piramide</td>\n",
       "      <td>94</td>\n",
       "    </tr>\n",
       "    <tr>\n",
       "      <th>4</th>\n",
       "      <td>piramide</td>\n",
       "      <td>92</td>\n",
       "    </tr>\n",
       "    <tr>\n",
       "      <th>5</th>\n",
       "      <td>piramide</td>\n",
       "      <td>85</td>\n",
       "    </tr>\n",
       "    <tr>\n",
       "      <th>6</th>\n",
       "      <td>piramide</td>\n",
       "      <td>83</td>\n",
       "    </tr>\n",
       "    <tr>\n",
       "      <th>7</th>\n",
       "      <td>piramide</td>\n",
       "      <td>85</td>\n",
       "    </tr>\n",
       "    <tr>\n",
       "      <th>8</th>\n",
       "      <td>piramide</td>\n",
       "      <td>82</td>\n",
       "    </tr>\n",
       "    <tr>\n",
       "      <th>9</th>\n",
       "      <td>piramide</td>\n",
       "      <td>81</td>\n",
       "    </tr>\n",
       "  </tbody>\n",
       "</table>\n",
       "</div>"
      ],
      "text/plain": [
       "     método  value\n",
       "0   ciclico     85\n",
       "1   ciclico     86\n",
       "2   ciclico     88\n",
       "3   ciclico     75\n",
       "4   ciclico     78\n",
       "5   ciclico     94\n",
       "6   ciclico     98\n",
       "7   ciclico     79\n",
       "8   ciclico     71\n",
       "9   ciclico     80\n",
       "0    linear     91\n",
       "1    linear     92\n",
       "2    linear     93\n",
       "3    linear     85\n",
       "4    linear     87\n",
       "5    linear     84\n",
       "6    linear     82\n",
       "7    linear     88\n",
       "8    linear     95\n",
       "9    linear     96\n",
       "0  piramide     79\n",
       "1  piramide     78\n",
       "2  piramide     88\n",
       "3  piramide     94\n",
       "4  piramide     92\n",
       "5  piramide     85\n",
       "6  piramide     83\n",
       "7  piramide     85\n",
       "8  piramide     82\n",
       "9  piramide     81"
      ]
     },
     "execution_count": 45,
     "metadata": {},
     "output_type": "execute_result"
    }
   ],
   "source": [
    "df_ciclico = pd.DataFrame({'método': ['ciclico' for i in range( len(ciclico))], 'value': ciclico})\n",
    "df_linear = pd.DataFrame({'método': ['linear' for i in range( len(linear))], 'value': linear})\n",
    "df_piramide = pd.DataFrame({'método': ['piramide' for i in range( len(piramide))], 'value': piramide})\n",
    "\n",
    "df = pd.concat([df_ciclico, df_linear, df_piramide])\n",
    "df"
   ]
  },
  {
   "attachments": {},
   "cell_type": "markdown",
   "metadata": {},
   "source": [
    "### boxplot"
   ]
  },
  {
   "cell_type": "code",
   "execution_count": 46,
   "metadata": {},
   "outputs": [
    {
     "data": {
      "text/plain": [
       "<AxesSubplot:xlabel='método', ylabel='value'>"
      ]
     },
     "execution_count": 46,
     "metadata": {},
     "output_type": "execute_result"
    },
    {
     "data": {
      "image/png": "[encoded data removed]",
      "text/plain": [
       "<Figure size 640x480 with 1 Axes>"
      ]
     },
     "metadata": {},
     "output_type": "display_data"
    }
   ],
   "source": [
    "sns.boxplot( x='método', y='value', data=df )"
   ]
  },
  {
   "attachments": {},
   "cell_type": "markdown",
   "metadata": {},
   "source": [
    "### Bartlett's test"
   ]
  },
  {
   "cell_type": "code",
   "execution_count": 47,
   "metadata": {},
   "outputs": [
    {
     "name": "stdout",
     "output_type": "stream",
     "text": [
      "P-value 0.19181598314035977\n"
     ]
    }
   ],
   "source": [
    "#H0: A variância é igual para todas as amostras\n",
    "#HA: A variância não é igual para um par ou mais de amostras\n",
    "static, p_value = bartlett( ciclico, linear, piramide )\n",
    "print(f'P-value {p_value}')"
   ]
  },
  {
   "cell_type": "code",
   "execution_count": 48,
   "metadata": {},
   "outputs": [
    {
     "name": "stdout",
     "output_type": "stream",
     "text": [
      "Falha em rejeitar a hipótese nula: Há evidências suficientes que a variância é igual para todas as amostras.\n"
     ]
    }
   ],
   "source": [
    "if p_value < 0.05:\n",
    "    print('Rejeita a hipótese nula: A variância não é igual para um par ou mais de amostras')\n",
    "else:\n",
    "    print('Falha em rejeitar a hipótese nula: Há evidências suficientes que a variância é igual para todas as amostras.')"
   ]
  },
  {
   "attachments": {},
   "cell_type": "markdown",
   "metadata": {},
   "source": [
    "## Premissa 2 - Normalidade"
   ]
  },
  {
   "cell_type": "code",
   "execution_count": 49,
   "metadata": {},
   "outputs": [
    {
     "name": "stdout",
     "output_type": "stream",
     "text": [
      "P-value: 0.8451867699623108\n"
     ]
    }
   ],
   "source": [
    "#H0: População normalmente distribuída\n",
    "#HA: População não é normamlmente distribuída\n",
    "static, p_value = shapiro( df['value'])\n",
    "print(f'P-value: {p_value}')"
   ]
  },
  {
   "cell_type": "code",
   "execution_count": 50,
   "metadata": {},
   "outputs": [
    {
     "name": "stdout",
     "output_type": "stream",
     "text": [
      "Falha em rejeitar a hipótese nula: Há evidências suficientes que a população é normalmente distribuída.\n"
     ]
    }
   ],
   "source": [
    "if p_value < 0.05:\n",
    "    print('Rejeita a hipótese nula: A população não é normalmente distribuída')\n",
    "else:\n",
    "    print('Falha em rejeitar a hipótese nula: Há evidências suficientes que a população é normalmente distribuída.')"
   ]
  },
  {
   "attachments": {},
   "cell_type": "markdown",
   "metadata": {},
   "source": [
    "### QQplot"
   ]
  },
  {
   "cell_type": "code",
   "execution_count": 51,
   "metadata": {},
   "outputs": [
    {
     "data": {
      "image/png": "[encoded data removed]",
      "text/plain": [
       "<Figure size 640x480 with 1 Axes>"
      ]
     },
     "metadata": {},
     "output_type": "display_data"
    }
   ],
   "source": [
    "data_points = np.random.normal(0, 1, 100)\n",
    "\n",
    "sm.qqplot(data_points, fit=True, line = '45')\n",
    "py.show()"
   ]
  },
  {
   "cell_type": "markdown",
   "metadata": {},
   "source": [
    "1. Premissa de Normalidade Satisfeita\n",
    "2. Premissa de Variância Satisfeita\n",
    "3. Premissa de Independência Satisfeita"
   ]
  },
  {
   "attachments": {},
   "cell_type": "markdown",
   "metadata": {},
   "source": [
    "## Kruskal-Wallis test - Para violação das premissas do Chi-Squared"
   ]
  },
  {
   "cell_type": "code",
   "execution_count": 52,
   "metadata": {},
   "outputs": [
    {
     "name": "stdout",
     "output_type": "stream",
     "text": [
      "P-value: 0.11876377341727391\n"
     ]
    }
   ],
   "source": [
    "#HO: Mediana das populações são iguais\n",
    "#HA: Mediana das populações não são iguais\n",
    "statistic, p_value = kruskal(ciclico, linear, piramide)\n",
    "print(f'P-value: {p_value}')"
   ]
  },
  {
   "cell_type": "code",
   "execution_count": 53,
   "metadata": {},
   "outputs": [
    {
     "name": "stdout",
     "output_type": "stream",
     "text": [
      "Falha em rejeitar a hipótese nula: Há evidências suficientes que a mediana das populações são iguais.\n"
     ]
    }
   ],
   "source": [
    "if p_value < 0.05:\n",
    "    print('Rejeita a hipótese nula: Mediana das populações não são iguais')\n",
    "else:\n",
    "    print('Falha em rejeitar a hipótese nula: Há evidências suficientes que a mediana das populações são iguais.')"
   ]
  }
 ],
 "metadata": {
  "kernelspec": {
   "display_name": "Python 3",
   "language": "python",
   "name": "python3"
  },
  "language_info": {
   "codemirror_mode": {
    "name": "ipython",
    "version": 3
   },
   "file_extension": ".py",
   "mimetype": "text/x-python",
   "name": "python",
   "nbconvert_exporter": "python",
   "pygments_lexer": "ipython3",
   "version": "3.10.7"
  },
  "orig_nbformat": 4,
  "vscode": {
   "interpreter": {
    "hash": "374e06b39145fa51438958d5bbbc4afb5910da55a4d06b4c382d25f6ee36033c"
   }
  }
 },
 "nbformat": 4,
 "nbformat_minor": 2
}
