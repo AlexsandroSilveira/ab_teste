{
 "cells": [
  {
   "cell_type": "markdown",
   "metadata": {},
   "source": [
    "# 0.1 Imports"
   ]
  },
  {
   "cell_type": "code",
   "execution_count": 1,
   "metadata": {},
   "outputs": [],
   "source": [
    "import pandas as pd\n",
    "import numpy as np\n",
    "import seaborn as sns\n",
    "import matplotlib.pyplot as plt\n",
    "from scipy import stats\n",
    "from statsmodels.stats import api as sms"
   ]
  },
  {
   "cell_type": "code",
   "execution_count": 2,
   "metadata": {},
   "outputs": [],
   "source": [
    "df = pd.read_csv('ab_testing.csv')"
   ]
  },
  {
   "cell_type": "code",
   "execution_count": 3,
   "metadata": {},
   "outputs": [
    {
     "data": {
      "text/html": [
       "<div>\n",
       "<style scoped>\n",
       "    .dataframe tbody tr th:only-of-type {\n",
       "        vertical-align: middle;\n",
       "    }\n",
       "\n",
       "    .dataframe tbody tr th {\n",
       "        vertical-align: top;\n",
       "    }\n",
       "\n",
       "    .dataframe thead th {\n",
       "        text-align: right;\n",
       "    }\n",
       "</style>\n",
       "<table border=\"1\" class=\"dataframe\">\n",
       "  <thead>\n",
       "    <tr style=\"text-align: right;\">\n",
       "      <th></th>\n",
       "      <th>uid</th>\n",
       "      <th>country</th>\n",
       "      <th>gender</th>\n",
       "      <th>spent</th>\n",
       "      <th>purchases</th>\n",
       "      <th>date</th>\n",
       "      <th>group</th>\n",
       "      <th>device</th>\n",
       "    </tr>\n",
       "  </thead>\n",
       "  <tbody>\n",
       "    <tr>\n",
       "      <th>0</th>\n",
       "      <td>11115722</td>\n",
       "      <td>MEX</td>\n",
       "      <td>F</td>\n",
       "      <td>1595</td>\n",
       "      <td>5</td>\n",
       "      <td>2016-03-08</td>\n",
       "      <td>GRP B</td>\n",
       "      <td>I</td>\n",
       "    </tr>\n",
       "    <tr>\n",
       "      <th>1</th>\n",
       "      <td>11122053</td>\n",
       "      <td>USA</td>\n",
       "      <td>M</td>\n",
       "      <td>498</td>\n",
       "      <td>2</td>\n",
       "      <td>2017-07-14</td>\n",
       "      <td>GRP B</td>\n",
       "      <td>I</td>\n",
       "    </tr>\n",
       "    <tr>\n",
       "      <th>2</th>\n",
       "      <td>11128688</td>\n",
       "      <td>USA</td>\n",
       "      <td>F</td>\n",
       "      <td>2394</td>\n",
       "      <td>6</td>\n",
       "      <td>2017-09-17</td>\n",
       "      <td>GRP A</td>\n",
       "      <td>I</td>\n",
       "    </tr>\n",
       "    <tr>\n",
       "      <th>3</th>\n",
       "      <td>11130578</td>\n",
       "      <td>USA</td>\n",
       "      <td>F</td>\n",
       "      <td>1197</td>\n",
       "      <td>3</td>\n",
       "      <td>2017-11-30</td>\n",
       "      <td>GRP A</td>\n",
       "      <td>I</td>\n",
       "    </tr>\n",
       "    <tr>\n",
       "      <th>4</th>\n",
       "      <td>11130759</td>\n",
       "      <td>ESP</td>\n",
       "      <td>M</td>\n",
       "      <td>1297</td>\n",
       "      <td>3</td>\n",
       "      <td>2018-01-10</td>\n",
       "      <td>GRP B</td>\n",
       "      <td>A</td>\n",
       "    </tr>\n",
       "  </tbody>\n",
       "</table>\n",
       "</div>"
      ],
      "text/plain": [
       "        uid country gender  spent  purchases        date  group device\n",
       "0  11115722     MEX      F   1595          5  2016-03-08  GRP B      I\n",
       "1  11122053     USA      M    498          2  2017-07-14  GRP B      I\n",
       "2  11128688     USA      F   2394          6  2017-09-17  GRP A      I\n",
       "3  11130578     USA      F   1197          3  2017-11-30  GRP A      I\n",
       "4  11130759     ESP      M   1297          3  2018-01-10  GRP B      A"
      ]
     },
     "execution_count": 3,
     "metadata": {},
     "output_type": "execute_result"
    }
   ],
   "source": [
    "df.head()"
   ]
  },
  {
   "attachments": {},
   "cell_type": "markdown",
   "metadata": {},
   "source": [
    "# 1.0 Planejamento"
   ]
  },
  {
   "attachments": {},
   "cell_type": "markdown",
   "metadata": {},
   "source": [
    "## 1.1 Design de Experimentos."
   ]
  },
  {
   "cell_type": "code",
   "execution_count": 4,
   "metadata": {},
   "outputs": [],
   "source": [
    "#Problema: Existe a forma de pagamento convencional e a empresea implementou uma nova foma de pagamento onde é possível realizar o preenchimento automático dos dados de cartão de crédito.\n",
    "\n",
    "# Objetivo: Definir se os clientes gastam mais com preenchimento automático da página de checkout do que com o preenchimento manual.\n",
    "# Métrica: GMV (Gross Margin Revenue) médio\n",
    "\n",
    "# Group A = Preencimento automático\n",
    "# Group B = Preenchimento manual"
   ]
  },
  {
   "attachments": {},
   "cell_type": "markdown",
   "metadata": {},
   "source": [
    "## 1.2 Formulação de Hipóteses"
   ]
  },
  {
   "cell_type": "code",
   "execution_count": 5,
   "metadata": {},
   "outputs": [],
   "source": [
    "# H0: avg GMV A == avg GMV B \n",
    "# H0: avg GMV A <> avg GMV B"
   ]
  },
  {
   "cell_type": "markdown",
   "metadata": {},
   "source": [
    "# 2.0 Testes"
   ]
  },
  {
   "cell_type": "markdown",
   "metadata": {},
   "source": [
    "## 2.1 Geral"
   ]
  },
  {
   "attachments": {},
   "cell_type": "markdown",
   "metadata": {},
   "source": [
    "### 2.1.1 Parâmetros do Experimento"
   ]
  },
  {
   "cell_type": "code",
   "execution_count": 6,
   "metadata": {},
   "outputs": [],
   "source": [
    "# nível de confiança\n",
    "confidence = 0.95\n",
    "\n",
    "# nível de significancia\n",
    "significance = 0.05\n",
    "\n",
    "# poder estatístico\n",
    "power = 0.8"
   ]
  },
  {
   "cell_type": "code",
   "execution_count": 7,
   "metadata": {},
   "outputs": [
    {
     "data": {
      "text/plain": [
       "mean    1883.453349\n",
       "std     1363.921546\n",
       "Name: spent, dtype: float64"
      ]
     },
     "execution_count": 7,
     "metadata": {},
     "output_type": "execute_result"
    }
   ],
   "source": [
    "# valor de init_metric e std_mestric\n",
    "df['spent'].agg(['mean', 'std'])"
   ]
  },
  {
   "attachments": {},
   "cell_type": "markdown",
   "metadata": {},
   "source": [
    "### 2.1.2 Tamanho da Amostra"
   ]
  },
  {
   "cell_type": "code",
   "execution_count": 8,
   "metadata": {},
   "outputs": [
    {
     "name": "stdout",
     "output_type": "stream",
     "text": [
      "O tamanho total da amostra é de 6588\n",
      "O tamanho da amostra do grupo de controle é de 3294\n",
      "O tamanho da amostra do grupo de tratamento é de 3294\n"
     ]
    }
   ],
   "source": [
    "init_metric = 1883.453349 #métrica atual grupo A\n",
    "end_metric = init_metric * (1 + 0.05) #métrica a alcançar grupo B\n",
    "std_metric = 1363.921546\n",
    "\n",
    "effect_size =(end_metric - init_metric) / std_metric\n",
    "\n",
    "sample_n = sms.tt_ind_solve_power(\n",
    "                effect_size = effect_size, \n",
    "                alpha = significance, \n",
    "                power = power)\n",
    "sample_n = np.round(sample_n).astype(int)\n",
    "\n",
    "print(f'O tamanho total da amostra é de {2*sample_n}')\n",
    "print(f'O tamanho da amostra do grupo de controle é de {sample_n}')\n",
    "print(f'O tamanho da amostra do grupo de tratamento é de {sample_n}')"
   ]
  },
  {
   "attachments": {},
   "cell_type": "markdown",
   "metadata": {},
   "source": [
    "### 2.1.3 Análise descritiva dos dados"
   ]
  },
  {
   "attachments": {},
   "cell_type": "markdown",
   "metadata": {},
   "source": [
    "#### 2.1.3.1 Tamanho do dataset"
   ]
  },
  {
   "cell_type": "code",
   "execution_count": 9,
   "metadata": {},
   "outputs": [
    {
     "name": "stdout",
     "output_type": "stream",
     "text": [
      "Número de linhas: 45883\n",
      "Número de colunas: 8\n"
     ]
    }
   ],
   "source": [
    "print(f'Número de linhas: {df.shape[0]}')\n",
    "print(f'Número de colunas: {df.shape[1]}')"
   ]
  },
  {
   "attachments": {},
   "cell_type": "markdown",
   "metadata": {},
   "source": [
    "#### 2.1.3.2 Verificação de NA"
   ]
  },
  {
   "cell_type": "code",
   "execution_count": 10,
   "metadata": {},
   "outputs": [
    {
     "data": {
      "text/plain": [
       "uid          0\n",
       "country      0\n",
       "gender       0\n",
       "spent        0\n",
       "purchases    0\n",
       "date         0\n",
       "group        0\n",
       "device       0\n",
       "dtype: int64"
      ]
     },
     "execution_count": 10,
     "metadata": {},
     "output_type": "execute_result"
    }
   ],
   "source": [
    "df.isna().sum()"
   ]
  },
  {
   "attachments": {},
   "cell_type": "markdown",
   "metadata": {},
   "source": [
    "#### 2.1.3.3 Verificação da unidade experimental\n"
   ]
  },
  {
   "cell_type": "code",
   "execution_count": 11,
   "metadata": {},
   "outputs": [
    {
     "data": {
      "text/html": [
       "<div>\n",
       "<style scoped>\n",
       "    .dataframe tbody tr th:only-of-type {\n",
       "        vertical-align: middle;\n",
       "    }\n",
       "\n",
       "    .dataframe tbody tr th {\n",
       "        vertical-align: top;\n",
       "    }\n",
       "\n",
       "    .dataframe thead th {\n",
       "        text-align: right;\n",
       "    }\n",
       "</style>\n",
       "<table border=\"1\" class=\"dataframe\">\n",
       "  <thead>\n",
       "    <tr style=\"text-align: right;\">\n",
       "      <th></th>\n",
       "      <th>uid</th>\n",
       "      <th>group</th>\n",
       "    </tr>\n",
       "  </thead>\n",
       "  <tbody>\n",
       "  </tbody>\n",
       "</table>\n",
       "</div>"
      ],
      "text/plain": [
       "Empty DataFrame\n",
       "Columns: [uid, group]\n",
       "Index: []"
      ]
     },
     "execution_count": 11,
     "metadata": {},
     "output_type": "execute_result"
    }
   ],
   "source": [
    "df[['uid', 'group']].groupby('uid').count().reset_index().query( 'group > 1')"
   ]
  },
  {
   "attachments": {},
   "cell_type": "markdown",
   "metadata": {},
   "source": [
    "#### 2.1.3.4 Homogeinidade dos grupos"
   ]
  },
  {
   "cell_type": "code",
   "execution_count": 12,
   "metadata": {},
   "outputs": [
    {
     "data": {
      "text/html": [
       "<div>\n",
       "<style scoped>\n",
       "    .dataframe tbody tr th:only-of-type {\n",
       "        vertical-align: middle;\n",
       "    }\n",
       "\n",
       "    .dataframe tbody tr th {\n",
       "        vertical-align: top;\n",
       "    }\n",
       "\n",
       "    .dataframe thead th {\n",
       "        text-align: right;\n",
       "    }\n",
       "</style>\n",
       "<table border=\"1\" class=\"dataframe\">\n",
       "  <thead>\n",
       "    <tr style=\"text-align: right;\">\n",
       "      <th></th>\n",
       "      <th></th>\n",
       "      <th>uid</th>\n",
       "    </tr>\n",
       "    <tr>\n",
       "      <th>group</th>\n",
       "      <th>gender</th>\n",
       "      <th></th>\n",
       "    </tr>\n",
       "  </thead>\n",
       "  <tbody>\n",
       "    <tr>\n",
       "      <th rowspan=\"2\" valign=\"top\">GRP A</th>\n",
       "      <th>F</th>\n",
       "      <td>11371</td>\n",
       "    </tr>\n",
       "    <tr>\n",
       "      <th>M</th>\n",
       "      <td>11638</td>\n",
       "    </tr>\n",
       "    <tr>\n",
       "      <th rowspan=\"2\" valign=\"top\">GRP B</th>\n",
       "      <th>F</th>\n",
       "      <td>11396</td>\n",
       "    </tr>\n",
       "    <tr>\n",
       "      <th>M</th>\n",
       "      <td>11478</td>\n",
       "    </tr>\n",
       "  </tbody>\n",
       "</table>\n",
       "</div>"
      ],
      "text/plain": [
       "                uid\n",
       "group gender       \n",
       "GRP A F       11371\n",
       "      M       11638\n",
       "GRP B F       11396\n",
       "      M       11478"
      ]
     },
     "execution_count": 12,
     "metadata": {},
     "output_type": "execute_result"
    }
   ],
   "source": [
    "# gender\n",
    "df[['uid', 'group', 'gender']].groupby(['group', 'gender']).count()"
   ]
  },
  {
   "cell_type": "code",
   "execution_count": 13,
   "metadata": {},
   "outputs": [
    {
     "data": {
      "text/html": [
       "<div>\n",
       "<style scoped>\n",
       "    .dataframe tbody tr th:only-of-type {\n",
       "        vertical-align: middle;\n",
       "    }\n",
       "\n",
       "    .dataframe tbody tr th {\n",
       "        vertical-align: top;\n",
       "    }\n",
       "\n",
       "    .dataframe thead th {\n",
       "        text-align: right;\n",
       "    }\n",
       "</style>\n",
       "<table border=\"1\" class=\"dataframe\">\n",
       "  <thead>\n",
       "    <tr style=\"text-align: right;\">\n",
       "      <th></th>\n",
       "      <th></th>\n",
       "      <th>uid</th>\n",
       "    </tr>\n",
       "    <tr>\n",
       "      <th>group</th>\n",
       "      <th>device</th>\n",
       "      <th></th>\n",
       "    </tr>\n",
       "  </thead>\n",
       "  <tbody>\n",
       "    <tr>\n",
       "      <th rowspan=\"2\" valign=\"top\">GRP A</th>\n",
       "      <th>A</th>\n",
       "      <td>11487</td>\n",
       "    </tr>\n",
       "    <tr>\n",
       "      <th>I</th>\n",
       "      <td>11522</td>\n",
       "    </tr>\n",
       "    <tr>\n",
       "      <th rowspan=\"2\" valign=\"top\">GRP B</th>\n",
       "      <th>A</th>\n",
       "      <td>11495</td>\n",
       "    </tr>\n",
       "    <tr>\n",
       "      <th>I</th>\n",
       "      <td>11379</td>\n",
       "    </tr>\n",
       "  </tbody>\n",
       "</table>\n",
       "</div>"
      ],
      "text/plain": [
       "                uid\n",
       "group device       \n",
       "GRP A A       11487\n",
       "      I       11522\n",
       "GRP B A       11495\n",
       "      I       11379"
      ]
     },
     "execution_count": 13,
     "metadata": {},
     "output_type": "execute_result"
    }
   ],
   "source": [
    "# device\n",
    "df[['uid', 'group', 'device']].groupby(['group', 'device']).count()"
   ]
  },
  {
   "cell_type": "code",
   "execution_count": 14,
   "metadata": {},
   "outputs": [
    {
     "data": {
      "text/html": [
       "<div>\n",
       "<style scoped>\n",
       "    .dataframe tbody tr th:only-of-type {\n",
       "        vertical-align: middle;\n",
       "    }\n",
       "\n",
       "    .dataframe tbody tr th {\n",
       "        vertical-align: top;\n",
       "    }\n",
       "\n",
       "    .dataframe thead tr th {\n",
       "        text-align: left;\n",
       "    }\n",
       "\n",
       "    .dataframe thead tr:last-of-type th {\n",
       "        text-align: right;\n",
       "    }\n",
       "</style>\n",
       "<table border=\"1\" class=\"dataframe\">\n",
       "  <thead>\n",
       "    <tr>\n",
       "      <th></th>\n",
       "      <th>country</th>\n",
       "      <th colspan=\"4\" halign=\"left\">spent</th>\n",
       "      <th colspan=\"4\" halign=\"left\">purchases</th>\n",
       "    </tr>\n",
       "    <tr>\n",
       "      <th></th>\n",
       "      <th>count</th>\n",
       "      <th>min</th>\n",
       "      <th>max</th>\n",
       "      <th>mean</th>\n",
       "      <th>std</th>\n",
       "      <th>min</th>\n",
       "      <th>max</th>\n",
       "      <th>mean</th>\n",
       "      <th>std</th>\n",
       "    </tr>\n",
       "    <tr>\n",
       "      <th>group</th>\n",
       "      <th></th>\n",
       "      <th></th>\n",
       "      <th></th>\n",
       "      <th></th>\n",
       "      <th></th>\n",
       "      <th></th>\n",
       "      <th></th>\n",
       "      <th></th>\n",
       "      <th></th>\n",
       "    </tr>\n",
       "  </thead>\n",
       "  <tbody>\n",
       "    <tr>\n",
       "      <th>GRP A</th>\n",
       "      <td>23009</td>\n",
       "      <td>99</td>\n",
       "      <td>11176</td>\n",
       "      <td>1880.504281</td>\n",
       "      <td>1368.402763</td>\n",
       "      <td>1</td>\n",
       "      <td>25</td>\n",
       "      <td>4.536355</td>\n",
       "      <td>3.110742</td>\n",
       "    </tr>\n",
       "    <tr>\n",
       "      <th>GRP B</th>\n",
       "      <td>22874</td>\n",
       "      <td>99</td>\n",
       "      <td>12170</td>\n",
       "      <td>1886.419822</td>\n",
       "      <td>1359.422437</td>\n",
       "      <td>1</td>\n",
       "      <td>30</td>\n",
       "      <td>4.552461</td>\n",
       "      <td>3.094142</td>\n",
       "    </tr>\n",
       "  </tbody>\n",
       "</table>\n",
       "</div>"
      ],
      "text/plain": [
       "      country spent                                  purchases                \\\n",
       "        count   min    max         mean          std       min max      mean   \n",
       "group                                                                          \n",
       "GRP A   23009    99  11176  1880.504281  1368.402763         1  25  4.536355   \n",
       "GRP B   22874    99  12170  1886.419822  1359.422437         1  30  4.552461   \n",
       "\n",
       "                 \n",
       "            std  \n",
       "group            \n",
       "GRP A  3.110742  \n",
       "GRP B  3.094142  "
      ]
     },
     "execution_count": 14,
     "metadata": {},
     "output_type": "execute_result"
    }
   ],
   "source": [
    "# country/spent/purchases\n",
    "df.groupby('group').agg( {'country': 'count',\n",
    "                           'spent': ['min', 'max', 'mean', 'std'],\n",
    "                           'purchases': ['min', 'max', 'mean', 'std']\n",
    "\n",
    "})"
   ]
  },
  {
   "attachments": {},
   "cell_type": "markdown",
   "metadata": {},
   "source": [
    "##### 2.1.3.4.1 Homogeinidade geral entre os grupos"
   ]
  },
  {
   "cell_type": "code",
   "execution_count": 15,
   "metadata": {},
   "outputs": [
    {
     "data": {
      "image/png": "[encoded data removed]",
      "text/plain": [
       "<Figure size 640x480 with 1 Axes>"
      ]
     },
     "metadata": {},
     "output_type": "display_data"
    }
   ],
   "source": [
    "df.loc[df['group'] == 'GRP A', 'purchases'].hist(bins=20);\n",
    "df.loc[df['group'] == 'GRP B', 'purchases'].hist(bins=20);"
   ]
  },
  {
   "cell_type": "code",
   "execution_count": 16,
   "metadata": {},
   "outputs": [
    {
     "data": {
      "image/png": "[encoded data removed]",
      "text/plain": [
       "<Figure size 640x480 with 1 Axes>"
      ]
     },
     "metadata": {},
     "output_type": "display_data"
    }
   ],
   "source": [
    "df.loc[df['group'] == 'GRP B', 'purchases'].hist(bins=20);\n",
    "df.loc[df['group'] == 'GRP A', 'purchases'].hist(bins=20);"
   ]
  },
  {
   "cell_type": "code",
   "execution_count": 17,
   "metadata": {},
   "outputs": [
    {
     "data": {
      "text/html": [
       "<div>\n",
       "<style scoped>\n",
       "    .dataframe tbody tr th:only-of-type {\n",
       "        vertical-align: middle;\n",
       "    }\n",
       "\n",
       "    .dataframe tbody tr th {\n",
       "        vertical-align: top;\n",
       "    }\n",
       "\n",
       "    .dataframe thead th {\n",
       "        text-align: right;\n",
       "    }\n",
       "</style>\n",
       "<table border=\"1\" class=\"dataframe\">\n",
       "  <thead>\n",
       "    <tr style=\"text-align: right;\">\n",
       "      <th></th>\n",
       "      <th>uid</th>\n",
       "    </tr>\n",
       "    <tr>\n",
       "      <th>group</th>\n",
       "      <th></th>\n",
       "    </tr>\n",
       "  </thead>\n",
       "  <tbody>\n",
       "    <tr>\n",
       "      <th>GRP A</th>\n",
       "      <td>23009</td>\n",
       "    </tr>\n",
       "    <tr>\n",
       "      <th>GRP B</th>\n",
       "      <td>22874</td>\n",
       "    </tr>\n",
       "  </tbody>\n",
       "</table>\n",
       "</div>"
      ],
      "text/plain": [
       "         uid\n",
       "group       \n",
       "GRP A  23009\n",
       "GRP B  22874"
      ]
     },
     "execution_count": 17,
     "metadata": {},
     "output_type": "execute_result"
    }
   ],
   "source": [
    "df[['uid', 'group']].groupby('group').count()"
   ]
  },
  {
   "cell_type": "code",
   "execution_count": 18,
   "metadata": {},
   "outputs": [
    {
     "data": {
      "text/plain": [
       "<AxesSubplot:xlabel='device', ylabel='spent'>"
      ]
     },
     "execution_count": 18,
     "metadata": {},
     "output_type": "execute_result"
    },
    {
     "data": {
      "image/png": "[encoded data removed]",
      "text/plain": [
       "<Figure size 2000x1500 with 6 Axes>"
      ]
     },
     "metadata": {},
     "output_type": "display_data"
    }
   ],
   "source": [
    "plt.figure(figsize=(20, 15))\n",
    "plt.subplot(2,3,1)\n",
    "sns.boxplot(x=df['group'], y=df['purchases'])\n",
    "plt.subplot(2,3,2)\n",
    "sns.boxplot(x=df['group'], y=df['spent'])\n",
    "plt.subplot(2,3,3)\n",
    "sns.boxplot(x=df['gender'], y=df['purchases'], hue=df['group'])\n",
    "plt.subplot(2,3,4)\n",
    "sns.boxplot(x=df['gender'], y=df['spent'], hue=df['group'])\n",
    "plt.subplot(2,3,5)\n",
    "sns.boxplot(x=df['gender'], y=df['purchases'], hue=df['group'])\n",
    "plt.subplot(2,3,6)\n",
    "sns.boxplot(x=df['device'], y=df['spent'], hue=df['group'])\n",
    "\n"
   ]
  },
  {
   "cell_type": "code",
   "execution_count": 19,
   "metadata": {},
   "outputs": [
    {
     "data": {
      "text/plain": [
       "<AxesSubplot:xlabel='country', ylabel='spent'>"
      ]
     },
     "execution_count": 19,
     "metadata": {},
     "output_type": "execute_result"
    },
    {
     "data": {
      "image/png": "[encoded data removed]",
      "text/plain": [
       "<Figure size 2000x1500 with 2 Axes>"
      ]
     },
     "metadata": {},
     "output_type": "display_data"
    }
   ],
   "source": [
    "plt.figure(figsize=(20, 15))\n",
    "plt.subplot(2,1,1)\n",
    "sns.boxplot(x=df['country'], y=df['purchases'], hue=df['group'])\n",
    "plt.subplot(2,1,2)\n",
    "sns.boxplot(x=df['country'], y=df['spent'], hue=df['group'])"
   ]
  },
  {
   "attachments": {},
   "cell_type": "markdown",
   "metadata": {},
   "source": [
    "### 2.1.4 Teste de hipóteses"
   ]
  },
  {
   "attachments": {},
   "cell_type": "markdown",
   "metadata": {},
   "source": [
    "#### 2.1.4.1 Grupos"
   ]
  },
  {
   "cell_type": "code",
   "execution_count": 20,
   "metadata": {},
   "outputs": [],
   "source": [
    "sample_A = df.loc[df['group'] == 'GRP A', 'spent'].sample(n=sample_n, random_state = 42)\n",
    "sample_B = df.loc[df['group'] == 'GRP B', 'spent'].sample(n=sample_n, random_state = 42)"
   ]
  },
  {
   "attachments": {},
   "cell_type": "markdown",
   "metadata": {},
   "source": [
    "#### 2.1.4.2 Métricas"
   ]
  },
  {
   "cell_type": "code",
   "execution_count": 21,
   "metadata": {},
   "outputs": [
    {
     "name": "stdout",
     "output_type": "stream",
     "text": [
      "Média da amostra do grupo A: 1878.01 +/- 1346.7\n",
      "Média da amostra do grupo B: 1899.16 +/- 1348.41\n"
     ]
    }
   ],
   "source": [
    "sample_A_mean = np.round(sample_A.mean(), 2)\n",
    "sample_A_std = np.round(sample_A.std(), 2)\n",
    "sample_B_mean = np.round(sample_B.mean(), 2)\n",
    "sample_B_std = np.round(sample_B.std(), 2)\n",
    "\n",
    "print(f'Média da amostra do grupo A: {sample_A_mean} +/- {sample_A_std}')\n",
    "print(f'Média da amostra do grupo B: {sample_B_mean} +/- {sample_B_std}')"
   ]
  },
  {
   "attachments": {},
   "cell_type": "markdown",
   "metadata": {},
   "source": [
    "### 2.1.5 Inferência Estatística"
   ]
  },
  {
   "cell_type": "code",
   "execution_count": 22,
   "metadata": {},
   "outputs": [
    {
     "name": "stdout",
     "output_type": "stream",
     "text": [
      "0.5240747499077292\n"
     ]
    }
   ],
   "source": [
    "t_test, p_value = stats.ttest_ind( sample_A, sample_B)\n",
    "print(p_value)"
   ]
  },
  {
   "attachments": {},
   "cell_type": "markdown",
   "metadata": {},
   "source": [
    "### 2.1.6 Conclusão"
   ]
  },
  {
   "cell_type": "code",
   "execution_count": 23,
   "metadata": {},
   "outputs": [
    {
     "name": "stdout",
     "output_type": "stream",
     "text": [
      "Falha em rejeitar a hipótese nula: Não temos evidências para dizer que o preenchimento automático trouxe mudança\n"
     ]
    }
   ],
   "source": [
    "if p_value < significance:\n",
    "    print('Rejeita a hipótese nula: O preenchimento automático deu resultado')\n",
    "else:\n",
    "    print('Falha em rejeitar a hipótese nula: Não temos evidências para dizer que o preenchimento automático trouxe mudança')"
   ]
  },
  {
   "attachments": {},
   "cell_type": "markdown",
   "metadata": {},
   "source": [
    "## 2.2 Brasil"
   ]
  },
  {
   "cell_type": "code",
   "execution_count": 24,
   "metadata": {},
   "outputs": [
    {
     "data": {
      "text/html": [
       "<div>\n",
       "<style scoped>\n",
       "    .dataframe tbody tr th:only-of-type {\n",
       "        vertical-align: middle;\n",
       "    }\n",
       "\n",
       "    .dataframe tbody tr th {\n",
       "        vertical-align: top;\n",
       "    }\n",
       "\n",
       "    .dataframe thead th {\n",
       "        text-align: right;\n",
       "    }\n",
       "</style>\n",
       "<table border=\"1\" class=\"dataframe\">\n",
       "  <thead>\n",
       "    <tr style=\"text-align: right;\">\n",
       "      <th></th>\n",
       "      <th>uid</th>\n",
       "      <th>country</th>\n",
       "      <th>gender</th>\n",
       "      <th>spent</th>\n",
       "      <th>purchases</th>\n",
       "      <th>date</th>\n",
       "      <th>group</th>\n",
       "      <th>device</th>\n",
       "    </tr>\n",
       "  </thead>\n",
       "  <tbody>\n",
       "    <tr>\n",
       "      <th>12</th>\n",
       "      <td>11143138</td>\n",
       "      <td>BRA</td>\n",
       "      <td>M</td>\n",
       "      <td>2592</td>\n",
       "      <td>8</td>\n",
       "      <td>2015-05-20</td>\n",
       "      <td>GRP B</td>\n",
       "      <td>A</td>\n",
       "    </tr>\n",
       "    <tr>\n",
       "      <th>15</th>\n",
       "      <td>11148343</td>\n",
       "      <td>BRA</td>\n",
       "      <td>M</td>\n",
       "      <td>299</td>\n",
       "      <td>1</td>\n",
       "      <td>2016-09-04</td>\n",
       "      <td>GRP B</td>\n",
       "      <td>A</td>\n",
       "    </tr>\n",
       "    <tr>\n",
       "      <th>31</th>\n",
       "      <td>11172970</td>\n",
       "      <td>BRA</td>\n",
       "      <td>M</td>\n",
       "      <td>1797</td>\n",
       "      <td>3</td>\n",
       "      <td>2017-07-05</td>\n",
       "      <td>GRP B</td>\n",
       "      <td>I</td>\n",
       "    </tr>\n",
       "    <tr>\n",
       "      <th>36</th>\n",
       "      <td>11177332</td>\n",
       "      <td>BRA</td>\n",
       "      <td>M</td>\n",
       "      <td>1994</td>\n",
       "      <td>6</td>\n",
       "      <td>2017-01-06</td>\n",
       "      <td>GRP B</td>\n",
       "      <td>I</td>\n",
       "    </tr>\n",
       "    <tr>\n",
       "      <th>37</th>\n",
       "      <td>11179295</td>\n",
       "      <td>BRA</td>\n",
       "      <td>M</td>\n",
       "      <td>1198</td>\n",
       "      <td>2</td>\n",
       "      <td>2017-12-19</td>\n",
       "      <td>GRP B</td>\n",
       "      <td>A</td>\n",
       "    </tr>\n",
       "  </tbody>\n",
       "</table>\n",
       "</div>"
      ],
      "text/plain": [
       "         uid country gender  spent  purchases        date  group device\n",
       "12  11143138     BRA      M   2592          8  2015-05-20  GRP B      A\n",
       "15  11148343     BRA      M    299          1  2016-09-04  GRP B      A\n",
       "31  11172970     BRA      M   1797          3  2017-07-05  GRP B      I\n",
       "36  11177332     BRA      M   1994          6  2017-01-06  GRP B      I\n",
       "37  11179295     BRA      M   1198          2  2017-12-19  GRP B      A"
      ]
     },
     "execution_count": 24,
     "metadata": {},
     "output_type": "execute_result"
    }
   ],
   "source": [
    "df_bra = df.loc[df['country'] == 'BRA', :]\n",
    "df_bra.head()"
   ]
  },
  {
   "attachments": {},
   "cell_type": "markdown",
   "metadata": {},
   "source": [
    "### 2.2.1 Parâmetros do Experimento"
   ]
  },
  {
   "cell_type": "code",
   "execution_count": 25,
   "metadata": {},
   "outputs": [],
   "source": [
    "# nível de confiança\n",
    "confidence_bra = 0.97\n",
    "\n",
    "# nível de significancia\n",
    "significance_bra = 0.03\n",
    "\n",
    "# poder estatístico\n",
    "power_bra = 0.8"
   ]
  },
  {
   "cell_type": "code",
   "execution_count": 26,
   "metadata": {},
   "outputs": [
    {
     "data": {
      "text/plain": [
       "mean    1902.860251\n",
       "std     1398.886279\n",
       "Name: spent, dtype: float64"
      ]
     },
     "execution_count": 26,
     "metadata": {},
     "output_type": "execute_result"
    }
   ],
   "source": [
    "# valor de init_metric e std_mestric\n",
    "df_bra['spent'].agg(['mean', 'std'])"
   ]
  },
  {
   "attachments": {},
   "cell_type": "markdown",
   "metadata": {},
   "source": [
    "### 2.2.2 Tamanho da Amostra"
   ]
  },
  {
   "cell_type": "code",
   "execution_count": 27,
   "metadata": {},
   "outputs": [
    {
     "name": "stdout",
     "output_type": "stream",
     "text": [
      "O tamanho total da amostra é de 7846\n",
      "O tamanho da amostra do grupo de controle é de 3923\n",
      "O tamanho da amostra do grupo de tratamento é de 3923\n"
     ]
    }
   ],
   "source": [
    "init_metric_bra = 1902.860251 #métrica atual grupo A\n",
    "end_metric_bra = init_metric_bra * (1 + 0.05) #métrica a alcançar grupo B\n",
    "std_metric_bra = 1398.886279\n",
    "\n",
    "effect_size_bra =(end_metric_bra - init_metric_bra ) / std_metric_bra\n",
    "\n",
    "sample_n_bra = sms.tt_ind_solve_power(\n",
    "                effect_size = effect_size_bra, \n",
    "                alpha = significance_bra, \n",
    "                power = power_bra)\n",
    "sample_n_bra = np.round(sample_n_bra).astype(int)\n",
    "\n",
    "print(f'O tamanho total da amostra é de {2*sample_n_bra}')\n",
    "print(f'O tamanho da amostra do grupo de controle é de {sample_n_bra}')\n",
    "print(f'O tamanho da amostra do grupo de tratamento é de {sample_n_bra}')"
   ]
  },
  {
   "attachments": {},
   "cell_type": "markdown",
   "metadata": {},
   "source": [
    "### 2.2.3 Análise descritiva dos dados"
   ]
  },
  {
   "attachments": {},
   "cell_type": "markdown",
   "metadata": {},
   "source": [
    "#### 2.2.3.1 Tamanho do dataset"
   ]
  },
  {
   "cell_type": "code",
   "execution_count": 28,
   "metadata": {},
   "outputs": [
    {
     "name": "stdout",
     "output_type": "stream",
     "text": [
      "Número de colunas: 8\n",
      "Número de linhas: 9009\n"
     ]
    }
   ],
   "source": [
    "print(f'Número de colunas: {df_bra.shape[1]}')\n",
    "print(f'Número de linhas: {df_bra.shape[0]}')"
   ]
  },
  {
   "attachments": {},
   "cell_type": "markdown",
   "metadata": {},
   "source": [
    "#### 2.2.3.2 Homogeinidade dos grupos"
   ]
  },
  {
   "cell_type": "code",
   "execution_count": 29,
   "metadata": {},
   "outputs": [
    {
     "data": {
      "text/html": [
       "<div>\n",
       "<style scoped>\n",
       "    .dataframe tbody tr th:only-of-type {\n",
       "        vertical-align: middle;\n",
       "    }\n",
       "\n",
       "    .dataframe tbody tr th {\n",
       "        vertical-align: top;\n",
       "    }\n",
       "\n",
       "    .dataframe thead th {\n",
       "        text-align: right;\n",
       "    }\n",
       "</style>\n",
       "<table border=\"1\" class=\"dataframe\">\n",
       "  <thead>\n",
       "    <tr style=\"text-align: right;\">\n",
       "      <th></th>\n",
       "      <th></th>\n",
       "      <th>uid</th>\n",
       "    </tr>\n",
       "    <tr>\n",
       "      <th>group</th>\n",
       "      <th>gender</th>\n",
       "      <th></th>\n",
       "    </tr>\n",
       "  </thead>\n",
       "  <tbody>\n",
       "    <tr>\n",
       "      <th rowspan=\"2\" valign=\"top\">GRP A</th>\n",
       "      <th>F</th>\n",
       "      <td>2213</td>\n",
       "    </tr>\n",
       "    <tr>\n",
       "      <th>M</th>\n",
       "      <td>2305</td>\n",
       "    </tr>\n",
       "    <tr>\n",
       "      <th rowspan=\"2\" valign=\"top\">GRP B</th>\n",
       "      <th>F</th>\n",
       "      <td>2208</td>\n",
       "    </tr>\n",
       "    <tr>\n",
       "      <th>M</th>\n",
       "      <td>2283</td>\n",
       "    </tr>\n",
       "  </tbody>\n",
       "</table>\n",
       "</div>"
      ],
      "text/plain": [
       "               uid\n",
       "group gender      \n",
       "GRP A F       2213\n",
       "      M       2305\n",
       "GRP B F       2208\n",
       "      M       2283"
      ]
     },
     "execution_count": 29,
     "metadata": {},
     "output_type": "execute_result"
    }
   ],
   "source": [
    "# gender\n",
    "df_bra[['uid', 'group', 'gender']].groupby(['group', 'gender']).count()"
   ]
  },
  {
   "cell_type": "code",
   "execution_count": 30,
   "metadata": {},
   "outputs": [
    {
     "data": {
      "text/html": [
       "<div>\n",
       "<style scoped>\n",
       "    .dataframe tbody tr th:only-of-type {\n",
       "        vertical-align: middle;\n",
       "    }\n",
       "\n",
       "    .dataframe tbody tr th {\n",
       "        vertical-align: top;\n",
       "    }\n",
       "\n",
       "    .dataframe thead th {\n",
       "        text-align: right;\n",
       "    }\n",
       "</style>\n",
       "<table border=\"1\" class=\"dataframe\">\n",
       "  <thead>\n",
       "    <tr style=\"text-align: right;\">\n",
       "      <th></th>\n",
       "      <th></th>\n",
       "      <th>uid</th>\n",
       "    </tr>\n",
       "    <tr>\n",
       "      <th>group</th>\n",
       "      <th>device</th>\n",
       "      <th></th>\n",
       "    </tr>\n",
       "  </thead>\n",
       "  <tbody>\n",
       "    <tr>\n",
       "      <th rowspan=\"2\" valign=\"top\">GRP A</th>\n",
       "      <th>A</th>\n",
       "      <td>2208</td>\n",
       "    </tr>\n",
       "    <tr>\n",
       "      <th>I</th>\n",
       "      <td>2310</td>\n",
       "    </tr>\n",
       "    <tr>\n",
       "      <th rowspan=\"2\" valign=\"top\">GRP B</th>\n",
       "      <th>A</th>\n",
       "      <td>2284</td>\n",
       "    </tr>\n",
       "    <tr>\n",
       "      <th>I</th>\n",
       "      <td>2207</td>\n",
       "    </tr>\n",
       "  </tbody>\n",
       "</table>\n",
       "</div>"
      ],
      "text/plain": [
       "               uid\n",
       "group device      \n",
       "GRP A A       2208\n",
       "      I       2310\n",
       "GRP B A       2284\n",
       "      I       2207"
      ]
     },
     "execution_count": 30,
     "metadata": {},
     "output_type": "execute_result"
    }
   ],
   "source": [
    "# device\n",
    "df_bra[['uid', 'group', 'device']].groupby(['group', 'device']).count()"
   ]
  },
  {
   "cell_type": "code",
   "execution_count": 31,
   "metadata": {},
   "outputs": [
    {
     "data": {
      "text/html": [
       "<div>\n",
       "<style scoped>\n",
       "    .dataframe tbody tr th:only-of-type {\n",
       "        vertical-align: middle;\n",
       "    }\n",
       "\n",
       "    .dataframe tbody tr th {\n",
       "        vertical-align: top;\n",
       "    }\n",
       "\n",
       "    .dataframe thead tr th {\n",
       "        text-align: left;\n",
       "    }\n",
       "\n",
       "    .dataframe thead tr:last-of-type th {\n",
       "        text-align: right;\n",
       "    }\n",
       "</style>\n",
       "<table border=\"1\" class=\"dataframe\">\n",
       "  <thead>\n",
       "    <tr>\n",
       "      <th></th>\n",
       "      <th>country</th>\n",
       "      <th colspan=\"4\" halign=\"left\">spent</th>\n",
       "      <th colspan=\"4\" halign=\"left\">purchases</th>\n",
       "    </tr>\n",
       "    <tr>\n",
       "      <th></th>\n",
       "      <th>count</th>\n",
       "      <th>min</th>\n",
       "      <th>max</th>\n",
       "      <th>mean</th>\n",
       "      <th>std</th>\n",
       "      <th>min</th>\n",
       "      <th>max</th>\n",
       "      <th>mean</th>\n",
       "      <th>std</th>\n",
       "    </tr>\n",
       "    <tr>\n",
       "      <th>group</th>\n",
       "      <th></th>\n",
       "      <th></th>\n",
       "      <th></th>\n",
       "      <th></th>\n",
       "      <th></th>\n",
       "      <th></th>\n",
       "      <th></th>\n",
       "      <th></th>\n",
       "      <th></th>\n",
       "    </tr>\n",
       "  </thead>\n",
       "  <tbody>\n",
       "    <tr>\n",
       "      <th>GRP A</th>\n",
       "      <td>4518</td>\n",
       "      <td>99</td>\n",
       "      <td>10480</td>\n",
       "      <td>1899.792165</td>\n",
       "      <td>1413.074052</td>\n",
       "      <td>1</td>\n",
       "      <td>24</td>\n",
       "      <td>4.568172</td>\n",
       "      <td>3.170057</td>\n",
       "    </tr>\n",
       "    <tr>\n",
       "      <th>GRP B</th>\n",
       "      <td>4491</td>\n",
       "      <td>99</td>\n",
       "      <td>10478</td>\n",
       "      <td>1905.946782</td>\n",
       "      <td>1384.617019</td>\n",
       "      <td>1</td>\n",
       "      <td>23</td>\n",
       "      <td>4.585393</td>\n",
       "      <td>3.132202</td>\n",
       "    </tr>\n",
       "  </tbody>\n",
       "</table>\n",
       "</div>"
      ],
      "text/plain": [
       "      country spent                                  purchases                \\\n",
       "        count   min    max         mean          std       min max      mean   \n",
       "group                                                                          \n",
       "GRP A    4518    99  10480  1899.792165  1413.074052         1  24  4.568172   \n",
       "GRP B    4491    99  10478  1905.946782  1384.617019         1  23  4.585393   \n",
       "\n",
       "                 \n",
       "            std  \n",
       "group            \n",
       "GRP A  3.170057  \n",
       "GRP B  3.132202  "
      ]
     },
     "execution_count": 31,
     "metadata": {},
     "output_type": "execute_result"
    }
   ],
   "source": [
    "# country/spent/purchases\n",
    "df_bra.groupby('group').agg( {'country': 'count',\n",
    "                           'spent': ['min', 'max', 'mean', 'std'],\n",
    "                           'purchases': ['min', 'max', 'mean', 'std']\n",
    "\n",
    "})"
   ]
  },
  {
   "cell_type": "code",
   "execution_count": 32,
   "metadata": {},
   "outputs": [
    {
     "data": {
      "image/png": "[encoded data removed]",
      "text/plain": [
       "<Figure size 640x480 with 1 Axes>"
      ]
     },
     "metadata": {},
     "output_type": "display_data"
    }
   ],
   "source": [
    "# homogeinidade geral dos grupos\n",
    "df_bra.loc[df_bra['group'] == 'GRP A', 'purchases'].hist(bins=20);\n",
    "df_bra.loc[df_bra['group'] == 'GRP B', 'purchases'].hist(bins=20);"
   ]
  },
  {
   "cell_type": "code",
   "execution_count": 33,
   "metadata": {},
   "outputs": [
    {
     "data": {
      "image/png": "[encoded data removed]",
      "text/plain": [
       "<Figure size 640x480 with 1 Axes>"
      ]
     },
     "metadata": {},
     "output_type": "display_data"
    }
   ],
   "source": [
    "df_bra.loc[df_bra['group'] == 'GRP B', 'purchases'].hist(bins=20);\n",
    "df_bra.loc[df_bra['group'] == 'GRP A', 'purchases'].hist(bins=20);"
   ]
  },
  {
   "cell_type": "code",
   "execution_count": 34,
   "metadata": {},
   "outputs": [
    {
     "data": {
      "text/html": [
       "<div>\n",
       "<style scoped>\n",
       "    .dataframe tbody tr th:only-of-type {\n",
       "        vertical-align: middle;\n",
       "    }\n",
       "\n",
       "    .dataframe tbody tr th {\n",
       "        vertical-align: top;\n",
       "    }\n",
       "\n",
       "    .dataframe thead th {\n",
       "        text-align: right;\n",
       "    }\n",
       "</style>\n",
       "<table border=\"1\" class=\"dataframe\">\n",
       "  <thead>\n",
       "    <tr style=\"text-align: right;\">\n",
       "      <th></th>\n",
       "      <th>uid</th>\n",
       "    </tr>\n",
       "    <tr>\n",
       "      <th>group</th>\n",
       "      <th></th>\n",
       "    </tr>\n",
       "  </thead>\n",
       "  <tbody>\n",
       "    <tr>\n",
       "      <th>GRP A</th>\n",
       "      <td>4518</td>\n",
       "    </tr>\n",
       "    <tr>\n",
       "      <th>GRP B</th>\n",
       "      <td>4491</td>\n",
       "    </tr>\n",
       "  </tbody>\n",
       "</table>\n",
       "</div>"
      ],
      "text/plain": [
       "        uid\n",
       "group      \n",
       "GRP A  4518\n",
       "GRP B  4491"
      ]
     },
     "execution_count": 34,
     "metadata": {},
     "output_type": "execute_result"
    }
   ],
   "source": [
    "df_bra[['uid', 'group']].groupby('group').count()"
   ]
  },
  {
   "attachments": {},
   "cell_type": "markdown",
   "metadata": {},
   "source": [
    "### 2.2.4 Teste de hipóteses"
   ]
  },
  {
   "attachments": {},
   "cell_type": "markdown",
   "metadata": {},
   "source": [
    "#### 2.2.4.1 Grupos"
   ]
  },
  {
   "cell_type": "code",
   "execution_count": 35,
   "metadata": {},
   "outputs": [],
   "source": [
    "sample_A_bra = df_bra.loc[df_bra['group'] == 'GRP A', 'spent'].sample(n=sample_n_bra, random_state = 42)\n",
    "sample_B_bra = df_bra.loc[df_bra['group'] == 'GRP B', 'spent'].sample(n=sample_n_bra, random_state = 42)"
   ]
  },
  {
   "attachments": {},
   "cell_type": "markdown",
   "metadata": {},
   "source": [
    "#### 2.2.4.1 Métricas"
   ]
  },
  {
   "cell_type": "code",
   "execution_count": 36,
   "metadata": {},
   "outputs": [
    {
     "name": "stdout",
     "output_type": "stream",
     "text": [
      "Média da amostra do grupo A: 1900.68 +/- 1405.98\n",
      "Média da amostra do grupo A: 1903.85 +/- 1387.21\n"
     ]
    }
   ],
   "source": [
    "sample_A_bra_mean = np.round(sample_A_bra.mean(), 2)\n",
    "sample_A_bra_std = np.round(sample_A_bra.std(), 2)\n",
    "sample_B_bra_mean = np.round(sample_B_bra.mean(), 2)\n",
    "sample_B_bra_std = np.round(sample_B_bra.std(), 2)\n",
    "\n",
    "print(f'Média da amostra do grupo A: {sample_A_bra_mean} +/- {sample_A_bra_std}')\n",
    "print(f'Média da amostra do grupo A: {sample_B_bra_mean} +/- {sample_B_bra_std}')"
   ]
  },
  {
   "attachments": {},
   "cell_type": "markdown",
   "metadata": {},
   "source": [
    "### 2.2.5 Inferência Estatística"
   ]
  },
  {
   "cell_type": "code",
   "execution_count": 37,
   "metadata": {},
   "outputs": [
    {
     "name": "stdout",
     "output_type": "stream",
     "text": [
      "0.9198913157613525\n"
     ]
    }
   ],
   "source": [
    "t_test_bra, p_value_bra = stats.ttest_ind( sample_A_bra, sample_B_bra)\n",
    "print(p_value_bra)"
   ]
  },
  {
   "attachments": {},
   "cell_type": "markdown",
   "metadata": {},
   "source": [
    "### 2.2.6 Conclusão"
   ]
  },
  {
   "cell_type": "code",
   "execution_count": 38,
   "metadata": {},
   "outputs": [
    {
     "name": "stdout",
     "output_type": "stream",
     "text": [
      "Falha em rejeitar a hipótese nula: Não temos evidências para dizer que o preenchimento automático trouxe mudança\n"
     ]
    }
   ],
   "source": [
    "if p_value_bra < significance_bra:\n",
    "    print('Rejeita a hipótese nula: O preenchimento automático deu resultado')\n",
    "else:\n",
    "    print('Falha em rejeitar a hipótese nula: Não temos evidências para dizer que o preenchimento automático trouxe mudança')\n"
   ]
  },
  {
   "attachments": {},
   "cell_type": "markdown",
   "metadata": {},
   "source": [
    "## 2.3 México"
   ]
  },
  {
   "cell_type": "code",
   "execution_count": 39,
   "metadata": {},
   "outputs": [
    {
     "data": {
      "text/html": [
       "<div>\n",
       "<style scoped>\n",
       "    .dataframe tbody tr th:only-of-type {\n",
       "        vertical-align: middle;\n",
       "    }\n",
       "\n",
       "    .dataframe tbody tr th {\n",
       "        vertical-align: top;\n",
       "    }\n",
       "\n",
       "    .dataframe thead th {\n",
       "        text-align: right;\n",
       "    }\n",
       "</style>\n",
       "<table border=\"1\" class=\"dataframe\">\n",
       "  <thead>\n",
       "    <tr style=\"text-align: right;\">\n",
       "      <th></th>\n",
       "      <th>uid</th>\n",
       "      <th>country</th>\n",
       "      <th>gender</th>\n",
       "      <th>spent</th>\n",
       "      <th>purchases</th>\n",
       "      <th>date</th>\n",
       "      <th>group</th>\n",
       "      <th>device</th>\n",
       "    </tr>\n",
       "  </thead>\n",
       "  <tbody>\n",
       "    <tr>\n",
       "      <th>0</th>\n",
       "      <td>11115722</td>\n",
       "      <td>MEX</td>\n",
       "      <td>F</td>\n",
       "      <td>1595</td>\n",
       "      <td>5</td>\n",
       "      <td>2016-03-08</td>\n",
       "      <td>GRP B</td>\n",
       "      <td>I</td>\n",
       "    </tr>\n",
       "    <tr>\n",
       "      <th>13</th>\n",
       "      <td>11146038</td>\n",
       "      <td>MEX</td>\n",
       "      <td>M</td>\n",
       "      <td>1795</td>\n",
       "      <td>5</td>\n",
       "      <td>2016-01-05</td>\n",
       "      <td>GRP A</td>\n",
       "      <td>A</td>\n",
       "    </tr>\n",
       "    <tr>\n",
       "      <th>18</th>\n",
       "      <td>11154067</td>\n",
       "      <td>MEX</td>\n",
       "      <td>F</td>\n",
       "      <td>1096</td>\n",
       "      <td>4</td>\n",
       "      <td>2017-08-03</td>\n",
       "      <td>GRP A</td>\n",
       "      <td>A</td>\n",
       "    </tr>\n",
       "    <tr>\n",
       "      <th>33</th>\n",
       "      <td>11174686</td>\n",
       "      <td>MEX</td>\n",
       "      <td>F</td>\n",
       "      <td>3293</td>\n",
       "      <td>7</td>\n",
       "      <td>2017-10-02</td>\n",
       "      <td>GRP A</td>\n",
       "      <td>I</td>\n",
       "    </tr>\n",
       "    <tr>\n",
       "      <th>67</th>\n",
       "      <td>11229291</td>\n",
       "      <td>MEX</td>\n",
       "      <td>M</td>\n",
       "      <td>1198</td>\n",
       "      <td>2</td>\n",
       "      <td>2016-12-23</td>\n",
       "      <td>GRP B</td>\n",
       "      <td>I</td>\n",
       "    </tr>\n",
       "  </tbody>\n",
       "</table>\n",
       "</div>"
      ],
      "text/plain": [
       "         uid country gender  spent  purchases        date  group device\n",
       "0   11115722     MEX      F   1595          5  2016-03-08  GRP B      I\n",
       "13  11146038     MEX      M   1795          5  2016-01-05  GRP A      A\n",
       "18  11154067     MEX      F   1096          4  2017-08-03  GRP A      A\n",
       "33  11174686     MEX      F   3293          7  2017-10-02  GRP A      I\n",
       "67  11229291     MEX      M   1198          2  2016-12-23  GRP B      I"
      ]
     },
     "execution_count": 39,
     "metadata": {},
     "output_type": "execute_result"
    }
   ],
   "source": [
    "df_mex = df.loc[df['country'] == 'MEX', :]\n",
    "df_mex.head()"
   ]
  },
  {
   "attachments": {},
   "cell_type": "markdown",
   "metadata": {},
   "source": [
    "### 2.3.1 Parâmetros do Experimento"
   ]
  },
  {
   "cell_type": "code",
   "execution_count": 40,
   "metadata": {},
   "outputs": [],
   "source": [
    "# nível de confiança\n",
    "confidence_mex = 0.90\n",
    "\n",
    "# nível de significancia\n",
    "significance_mex = 0.1\n",
    "\n",
    "# poder estatístico\n",
    "power_mex = 0.80"
   ]
  },
  {
   "cell_type": "code",
   "execution_count": 41,
   "metadata": {},
   "outputs": [
    {
     "data": {
      "text/plain": [
       "mean    1893.150507\n",
       "std     1355.476662\n",
       "Name: spent, dtype: float64"
      ]
     },
     "execution_count": 41,
     "metadata": {},
     "output_type": "execute_result"
    }
   ],
   "source": [
    "# valor de init_metric e std_mestric\n",
    "df_mex['spent'].agg(['mean', 'std'])"
   ]
  },
  {
   "attachments": {},
   "cell_type": "markdown",
   "metadata": {},
   "source": [
    "### 2.3.2 Tamanho da Amostra"
   ]
  },
  {
   "cell_type": "code",
   "execution_count": 42,
   "metadata": {},
   "outputs": [
    {
     "name": "stdout",
     "output_type": "stream",
     "text": [
      "O tamanho total da amostra é de 5072\n",
      "O tamanho da amostra do grupo de controle é de 2536\n",
      "O tamanho da amostra do grupo de tratamento é de 2536\n"
     ]
    }
   ],
   "source": [
    "init_metric_mex = 1893.150507 #métrica atual grupo A\n",
    "end_metric_mex = init_metric_mex * (1 + 0.05) #métrica a alcançar grupo B\n",
    "std_metric_mex = 1355.476662\n",
    "\n",
    "effect_size_mex =(end_metric_mex - init_metric_mex) / std_metric_mex\n",
    "\n",
    "sample_n_mex = sms.tt_ind_solve_power(\n",
    "                effect_size = effect_size_mex, \n",
    "                alpha = significance_mex, \n",
    "                power = power_mex)\n",
    "sample_n_mex = np.round(sample_n_mex).astype(int)\n",
    "\n",
    "print(f'O tamanho total da amostra é de {2*sample_n_mex}')\n",
    "print(f'O tamanho da amostra do grupo de controle é de {sample_n_mex}')\n",
    "print(f'O tamanho da amostra do grupo de tratamento é de {sample_n_mex}')"
   ]
  },
  {
   "attachments": {},
   "cell_type": "markdown",
   "metadata": {},
   "source": [
    "### 2.3.3 Análise descritiva dos dados"
   ]
  },
  {
   "attachments": {},
   "cell_type": "markdown",
   "metadata": {},
   "source": [
    "#### 2.3.3.1 Tamanho do dataset"
   ]
  },
  {
   "cell_type": "code",
   "execution_count": 43,
   "metadata": {},
   "outputs": [
    {
     "name": "stdout",
     "output_type": "stream",
     "text": [
      "Número de colunas: 8\n",
      "Número de linhas: 5528\n"
     ]
    }
   ],
   "source": [
    "print(f'Número de colunas: {df_mex.shape[1]}')\n",
    "print(f'Número de linhas: {df_mex.shape[0]}')"
   ]
  },
  {
   "attachments": {},
   "cell_type": "markdown",
   "metadata": {},
   "source": [
    "#### 2.3.3.2 Homogeinidade dos grupos"
   ]
  },
  {
   "cell_type": "code",
   "execution_count": 44,
   "metadata": {},
   "outputs": [
    {
     "data": {
      "text/html": [
       "<div>\n",
       "<style scoped>\n",
       "    .dataframe tbody tr th:only-of-type {\n",
       "        vertical-align: middle;\n",
       "    }\n",
       "\n",
       "    .dataframe tbody tr th {\n",
       "        vertical-align: top;\n",
       "    }\n",
       "\n",
       "    .dataframe thead th {\n",
       "        text-align: right;\n",
       "    }\n",
       "</style>\n",
       "<table border=\"1\" class=\"dataframe\">\n",
       "  <thead>\n",
       "    <tr style=\"text-align: right;\">\n",
       "      <th></th>\n",
       "      <th></th>\n",
       "      <th>uid</th>\n",
       "    </tr>\n",
       "    <tr>\n",
       "      <th>group</th>\n",
       "      <th>gender</th>\n",
       "      <th></th>\n",
       "    </tr>\n",
       "  </thead>\n",
       "  <tbody>\n",
       "    <tr>\n",
       "      <th rowspan=\"2\" valign=\"top\">GRP A</th>\n",
       "      <th>F</th>\n",
       "      <td>1404</td>\n",
       "    </tr>\n",
       "    <tr>\n",
       "      <th>M</th>\n",
       "      <td>1482</td>\n",
       "    </tr>\n",
       "    <tr>\n",
       "      <th rowspan=\"2\" valign=\"top\">GRP B</th>\n",
       "      <th>F</th>\n",
       "      <td>1318</td>\n",
       "    </tr>\n",
       "    <tr>\n",
       "      <th>M</th>\n",
       "      <td>1324</td>\n",
       "    </tr>\n",
       "  </tbody>\n",
       "</table>\n",
       "</div>"
      ],
      "text/plain": [
       "               uid\n",
       "group gender      \n",
       "GRP A F       1404\n",
       "      M       1482\n",
       "GRP B F       1318\n",
       "      M       1324"
      ]
     },
     "execution_count": 44,
     "metadata": {},
     "output_type": "execute_result"
    }
   ],
   "source": [
    "# gender\n",
    "df_mex[['uid', 'group', 'gender']].groupby(['group', 'gender']).count()"
   ]
  },
  {
   "cell_type": "code",
   "execution_count": 45,
   "metadata": {},
   "outputs": [
    {
     "data": {
      "text/html": [
       "<div>\n",
       "<style scoped>\n",
       "    .dataframe tbody tr th:only-of-type {\n",
       "        vertical-align: middle;\n",
       "    }\n",
       "\n",
       "    .dataframe tbody tr th {\n",
       "        vertical-align: top;\n",
       "    }\n",
       "\n",
       "    .dataframe thead th {\n",
       "        text-align: right;\n",
       "    }\n",
       "</style>\n",
       "<table border=\"1\" class=\"dataframe\">\n",
       "  <thead>\n",
       "    <tr style=\"text-align: right;\">\n",
       "      <th></th>\n",
       "      <th></th>\n",
       "      <th>uid</th>\n",
       "    </tr>\n",
       "    <tr>\n",
       "      <th>group</th>\n",
       "      <th>device</th>\n",
       "      <th></th>\n",
       "    </tr>\n",
       "  </thead>\n",
       "  <tbody>\n",
       "    <tr>\n",
       "      <th rowspan=\"2\" valign=\"top\">GRP A</th>\n",
       "      <th>A</th>\n",
       "      <td>1451</td>\n",
       "    </tr>\n",
       "    <tr>\n",
       "      <th>I</th>\n",
       "      <td>1435</td>\n",
       "    </tr>\n",
       "    <tr>\n",
       "      <th rowspan=\"2\" valign=\"top\">GRP B</th>\n",
       "      <th>A</th>\n",
       "      <td>1287</td>\n",
       "    </tr>\n",
       "    <tr>\n",
       "      <th>I</th>\n",
       "      <td>1355</td>\n",
       "    </tr>\n",
       "  </tbody>\n",
       "</table>\n",
       "</div>"
      ],
      "text/plain": [
       "               uid\n",
       "group device      \n",
       "GRP A A       1451\n",
       "      I       1435\n",
       "GRP B A       1287\n",
       "      I       1355"
      ]
     },
     "execution_count": 45,
     "metadata": {},
     "output_type": "execute_result"
    }
   ],
   "source": [
    "# device\n",
    "df_mex[['uid', 'group', 'device']].groupby(['group', 'device']).count()"
   ]
  },
  {
   "cell_type": "code",
   "execution_count": 46,
   "metadata": {},
   "outputs": [
    {
     "data": {
      "text/html": [
       "<div>\n",
       "<style scoped>\n",
       "    .dataframe tbody tr th:only-of-type {\n",
       "        vertical-align: middle;\n",
       "    }\n",
       "\n",
       "    .dataframe tbody tr th {\n",
       "        vertical-align: top;\n",
       "    }\n",
       "\n",
       "    .dataframe thead tr th {\n",
       "        text-align: left;\n",
       "    }\n",
       "\n",
       "    .dataframe thead tr:last-of-type th {\n",
       "        text-align: right;\n",
       "    }\n",
       "</style>\n",
       "<table border=\"1\" class=\"dataframe\">\n",
       "  <thead>\n",
       "    <tr>\n",
       "      <th></th>\n",
       "      <th>country</th>\n",
       "      <th colspan=\"4\" halign=\"left\">spent</th>\n",
       "      <th colspan=\"4\" halign=\"left\">purchases</th>\n",
       "    </tr>\n",
       "    <tr>\n",
       "      <th></th>\n",
       "      <th>count</th>\n",
       "      <th>min</th>\n",
       "      <th>max</th>\n",
       "      <th>mean</th>\n",
       "      <th>std</th>\n",
       "      <th>min</th>\n",
       "      <th>max</th>\n",
       "      <th>mean</th>\n",
       "      <th>std</th>\n",
       "    </tr>\n",
       "    <tr>\n",
       "      <th>group</th>\n",
       "      <th></th>\n",
       "      <th></th>\n",
       "      <th></th>\n",
       "      <th></th>\n",
       "      <th></th>\n",
       "      <th></th>\n",
       "      <th></th>\n",
       "      <th></th>\n",
       "      <th></th>\n",
       "    </tr>\n",
       "  </thead>\n",
       "  <tbody>\n",
       "    <tr>\n",
       "      <th>GRP A</th>\n",
       "      <td>2886</td>\n",
       "      <td>99</td>\n",
       "      <td>9677</td>\n",
       "      <td>1902.705821</td>\n",
       "      <td>1361.369586</td>\n",
       "      <td>1</td>\n",
       "      <td>23</td>\n",
       "      <td>4.570686</td>\n",
       "      <td>3.085218</td>\n",
       "    </tr>\n",
       "    <tr>\n",
       "      <th>GRP B</th>\n",
       "      <td>2642</td>\n",
       "      <td>99</td>\n",
       "      <td>9877</td>\n",
       "      <td>1882.712718</td>\n",
       "      <td>1349.190339</td>\n",
       "      <td>1</td>\n",
       "      <td>23</td>\n",
       "      <td>4.531794</td>\n",
       "      <td>3.057435</td>\n",
       "    </tr>\n",
       "  </tbody>\n",
       "</table>\n",
       "</div>"
      ],
      "text/plain": [
       "      country spent                                 purchases                \\\n",
       "        count   min   max         mean          std       min max      mean   \n",
       "group                                                                         \n",
       "GRP A    2886    99  9677  1902.705821  1361.369586         1  23  4.570686   \n",
       "GRP B    2642    99  9877  1882.712718  1349.190339         1  23  4.531794   \n",
       "\n",
       "                 \n",
       "            std  \n",
       "group            \n",
       "GRP A  3.085218  \n",
       "GRP B  3.057435  "
      ]
     },
     "execution_count": 46,
     "metadata": {},
     "output_type": "execute_result"
    }
   ],
   "source": [
    "# country/spent/purchases\n",
    "df_mex.groupby('group').agg( {'country': 'count',\n",
    "                           'spent': ['min', 'max', 'mean', 'std'],\n",
    "                           'purchases': ['min', 'max', 'mean', 'std']\n",
    "\n",
    "})"
   ]
  },
  {
   "cell_type": "code",
   "execution_count": 47,
   "metadata": {},
   "outputs": [
    {
     "data": {
      "image/png": "[encoded data removed]",
      "text/plain": [
       "<Figure size 640x480 with 1 Axes>"
      ]
     },
     "metadata": {},
     "output_type": "display_data"
    }
   ],
   "source": [
    "# homogeinidade geral dos grupos\n",
    "df_mex.loc[df_mex['group'] == 'GRP A', 'purchases'].hist(bins=20);\n",
    "df_mex.loc[df_mex['group'] == 'GRP B', 'purchases'].hist(bins=20);"
   ]
  },
  {
   "cell_type": "code",
   "execution_count": 48,
   "metadata": {},
   "outputs": [
    {
     "data": {
      "image/png": "[encoded data removed]",
      "text/plain": [
       "<Figure size 640x480 with 1 Axes>"
      ]
     },
     "metadata": {},
     "output_type": "display_data"
    }
   ],
   "source": [
    "df_mex.loc[df_mex['group'] == 'GRP B', 'purchases'].hist(bins=20);\n",
    "df_mex.loc[df_mex['group'] == 'GRP A', 'purchases'].hist(bins=20);"
   ]
  },
  {
   "cell_type": "code",
   "execution_count": 49,
   "metadata": {},
   "outputs": [
    {
     "data": {
      "text/html": [
       "<div>\n",
       "<style scoped>\n",
       "    .dataframe tbody tr th:only-of-type {\n",
       "        vertical-align: middle;\n",
       "    }\n",
       "\n",
       "    .dataframe tbody tr th {\n",
       "        vertical-align: top;\n",
       "    }\n",
       "\n",
       "    .dataframe thead th {\n",
       "        text-align: right;\n",
       "    }\n",
       "</style>\n",
       "<table border=\"1\" class=\"dataframe\">\n",
       "  <thead>\n",
       "    <tr style=\"text-align: right;\">\n",
       "      <th></th>\n",
       "      <th>uid</th>\n",
       "    </tr>\n",
       "    <tr>\n",
       "      <th>group</th>\n",
       "      <th></th>\n",
       "    </tr>\n",
       "  </thead>\n",
       "  <tbody>\n",
       "    <tr>\n",
       "      <th>GRP A</th>\n",
       "      <td>2886</td>\n",
       "    </tr>\n",
       "    <tr>\n",
       "      <th>GRP B</th>\n",
       "      <td>2642</td>\n",
       "    </tr>\n",
       "  </tbody>\n",
       "</table>\n",
       "</div>"
      ],
      "text/plain": [
       "        uid\n",
       "group      \n",
       "GRP A  2886\n",
       "GRP B  2642"
      ]
     },
     "execution_count": 49,
     "metadata": {},
     "output_type": "execute_result"
    }
   ],
   "source": [
    "df_mex[['uid', 'group']].groupby('group').count()"
   ]
  },
  {
   "attachments": {},
   "cell_type": "markdown",
   "metadata": {},
   "source": [
    "### 2.3.4 Teste de hipóteses"
   ]
  },
  {
   "attachments": {},
   "cell_type": "markdown",
   "metadata": {},
   "source": [
    "#### 2.3.4.1 Grupos"
   ]
  },
  {
   "cell_type": "code",
   "execution_count": 50,
   "metadata": {},
   "outputs": [],
   "source": [
    "sample_A_mex = df_mex.loc[df_mex['group'] == 'GRP A', 'spent'].sample(n=sample_n_mex, random_state = 42)\n",
    "sample_B_mex = df_mex.loc[df_mex['group'] == 'GRP B', 'spent'].sample(n=sample_n_mex, random_state = 42)"
   ]
  },
  {
   "attachments": {},
   "cell_type": "markdown",
   "metadata": {},
   "source": [
    "#### 2.3.4.1 Métricas"
   ]
  },
  {
   "cell_type": "code",
   "execution_count": 51,
   "metadata": {},
   "outputs": [
    {
     "name": "stdout",
     "output_type": "stream",
     "text": [
      "Média da amostra do grupo A: 1902.6 +/- 1375.83\n",
      "Média da amostra do grupo A: 1878.88 +/- 1358.2\n"
     ]
    }
   ],
   "source": [
    "sample_A_mex_mean = np.round(sample_A_mex.mean(), 2)\n",
    "sample_A_mex_std = np.round(sample_A_mex.std(), 2)\n",
    "sample_B_mex_mean = np.round(sample_B_mex.mean(), 2)\n",
    "sample_B_mex_std = np.round(sample_B_mex.std(), 2)\n",
    "\n",
    "print(f'Média da amostra do grupo A: {sample_A_mex_mean} +/- {sample_A_mex_std}')\n",
    "print(f'Média da amostra do grupo A: {sample_B_mex_mean} +/- {sample_B_mex_std}')"
   ]
  },
  {
   "attachments": {},
   "cell_type": "markdown",
   "metadata": {},
   "source": [
    "### 2.3.5 Inferência Estatística"
   ]
  },
  {
   "cell_type": "code",
   "execution_count": 52,
   "metadata": {},
   "outputs": [
    {
     "name": "stdout",
     "output_type": "stream",
     "text": [
      "0.5365311538406528\n"
     ]
    }
   ],
   "source": [
    "t_test_mex, p_value_mex = stats.ttest_ind( sample_A_mex, sample_B_mex)\n",
    "print(p_value_mex)"
   ]
  },
  {
   "attachments": {},
   "cell_type": "markdown",
   "metadata": {},
   "source": [
    "### 2.3.6 Conclusão"
   ]
  },
  {
   "cell_type": "code",
   "execution_count": 53,
   "metadata": {},
   "outputs": [
    {
     "name": "stdout",
     "output_type": "stream",
     "text": [
      "Falha em rejeitar a hipótese nula: Não temos evidências para dizer que o preenchimento automático trouxe mudança\n"
     ]
    }
   ],
   "source": [
    "if p_value_mex < significance_mex:\n",
    "    print('Rejeita a hipótese nula: O preenchimento automático deu resultado')\n",
    "else:\n",
    "    print('Falha em rejeitar a hipótese nula: Não temos evidências para dizer que o preenchimento automático trouxe mudança')\n"
   ]
  },
  {
   "attachments": {},
   "cell_type": "markdown",
   "metadata": {},
   "source": [
    "## 2.4 USA "
   ]
  },
  {
   "cell_type": "code",
   "execution_count": 54,
   "metadata": {},
   "outputs": [
    {
     "data": {
      "text/html": [
       "<div>\n",
       "<style scoped>\n",
       "    .dataframe tbody tr th:only-of-type {\n",
       "        vertical-align: middle;\n",
       "    }\n",
       "\n",
       "    .dataframe tbody tr th {\n",
       "        vertical-align: top;\n",
       "    }\n",
       "\n",
       "    .dataframe thead th {\n",
       "        text-align: right;\n",
       "    }\n",
       "</style>\n",
       "<table border=\"1\" class=\"dataframe\">\n",
       "  <thead>\n",
       "    <tr style=\"text-align: right;\">\n",
       "      <th></th>\n",
       "      <th>uid</th>\n",
       "      <th>country</th>\n",
       "      <th>gender</th>\n",
       "      <th>spent</th>\n",
       "      <th>purchases</th>\n",
       "      <th>date</th>\n",
       "      <th>group</th>\n",
       "      <th>device</th>\n",
       "    </tr>\n",
       "  </thead>\n",
       "  <tbody>\n",
       "    <tr>\n",
       "      <th>1</th>\n",
       "      <td>11122053</td>\n",
       "      <td>USA</td>\n",
       "      <td>M</td>\n",
       "      <td>498</td>\n",
       "      <td>2</td>\n",
       "      <td>2017-07-14</td>\n",
       "      <td>GRP B</td>\n",
       "      <td>I</td>\n",
       "    </tr>\n",
       "    <tr>\n",
       "      <th>2</th>\n",
       "      <td>11128688</td>\n",
       "      <td>USA</td>\n",
       "      <td>F</td>\n",
       "      <td>2394</td>\n",
       "      <td>6</td>\n",
       "      <td>2017-09-17</td>\n",
       "      <td>GRP A</td>\n",
       "      <td>I</td>\n",
       "    </tr>\n",
       "    <tr>\n",
       "      <th>3</th>\n",
       "      <td>11130578</td>\n",
       "      <td>USA</td>\n",
       "      <td>F</td>\n",
       "      <td>1197</td>\n",
       "      <td>3</td>\n",
       "      <td>2017-11-30</td>\n",
       "      <td>GRP A</td>\n",
       "      <td>I</td>\n",
       "    </tr>\n",
       "    <tr>\n",
       "      <th>5</th>\n",
       "      <td>11131070</td>\n",
       "      <td>USA</td>\n",
       "      <td>M</td>\n",
       "      <td>1796</td>\n",
       "      <td>4</td>\n",
       "      <td>2016-08-08</td>\n",
       "      <td>GRP B</td>\n",
       "      <td>I</td>\n",
       "    </tr>\n",
       "    <tr>\n",
       "      <th>8</th>\n",
       "      <td>11132813</td>\n",
       "      <td>USA</td>\n",
       "      <td>M</td>\n",
       "      <td>698</td>\n",
       "      <td>2</td>\n",
       "      <td>2017-07-27</td>\n",
       "      <td>GRP A</td>\n",
       "      <td>I</td>\n",
       "    </tr>\n",
       "  </tbody>\n",
       "</table>\n",
       "</div>"
      ],
      "text/plain": [
       "        uid country gender  spent  purchases        date  group device\n",
       "1  11122053     USA      M    498          2  2017-07-14  GRP B      I\n",
       "2  11128688     USA      F   2394          6  2017-09-17  GRP A      I\n",
       "3  11130578     USA      F   1197          3  2017-11-30  GRP A      I\n",
       "5  11131070     USA      M   1796          4  2016-08-08  GRP B      I\n",
       "8  11132813     USA      M    698          2  2017-07-27  GRP A      I"
      ]
     },
     "execution_count": 54,
     "metadata": {},
     "output_type": "execute_result"
    }
   ],
   "source": [
    "df_usa = df.loc[df['country'] == 'USA', :]\n",
    "df_usa.head()"
   ]
  },
  {
   "attachments": {},
   "cell_type": "markdown",
   "metadata": {},
   "source": [
    "### 2.4.1 Parâmetros do Experimento"
   ]
  },
  {
   "cell_type": "code",
   "execution_count": 55,
   "metadata": {},
   "outputs": [],
   "source": [
    "# nível de confiança\n",
    "confidence_usa = 0.99\n",
    "\n",
    "# nível de significancia\n",
    "significance_usa = 0.01\n",
    "\n",
    "# poder estatístico\n",
    "power_usa = 0.8"
   ]
  },
  {
   "cell_type": "code",
   "execution_count": 56,
   "metadata": {},
   "outputs": [
    {
     "data": {
      "text/plain": [
       "mean    1876.435491\n",
       "std     1358.231569\n",
       "Name: spent, dtype: float64"
      ]
     },
     "execution_count": 56,
     "metadata": {},
     "output_type": "execute_result"
    }
   ],
   "source": [
    "# valor de init_metric e std_mestric\n",
    "df_usa['spent'].agg(['mean', 'std'])"
   ]
  },
  {
   "attachments": {},
   "cell_type": "markdown",
   "metadata": {},
   "source": [
    "### 2.4.2 Tamanho da Amostra"
   ]
  },
  {
   "cell_type": "code",
   "execution_count": 57,
   "metadata": {},
   "outputs": [
    {
     "name": "stdout",
     "output_type": "stream",
     "text": [
      "O tamanho total da amostra é de 9794\n",
      "O tamanho da amostra do grupo de controle é de 4897\n",
      "O tamanho da amostra do grupo de tratamento é de 4897\n"
     ]
    }
   ],
   "source": [
    "init_metric_usa = 1876.435491 #métrica atual grupo A\n",
    "end_metric_usa = init_metric_usa * (1 + 0.05) #métrica a alcançar grupo B\n",
    "std_metric_usa = 1358.231569\n",
    "\n",
    "effect_size_usa = (end_metric_usa - init_metric_usa) / std_metric_usa\n",
    "\n",
    "sample_n_usa = sms.tt_ind_solve_power(\n",
    "                effect_size = effect_size_usa, \n",
    "                alpha = significance_usa, \n",
    "                power = power_usa)\n",
    "sample_n_usa = np.round(sample_n_usa).astype(int)\n",
    "\n",
    "print(f'O tamanho total da amostra é de {2*sample_n_usa}')\n",
    "print(f'O tamanho da amostra do grupo de controle é de {sample_n_usa}')\n",
    "print(f'O tamanho da amostra do grupo de tratamento é de {sample_n_usa}')"
   ]
  },
  {
   "attachments": {},
   "cell_type": "markdown",
   "metadata": {},
   "source": [
    "### 2.4.3 Análise descritiva dos dados"
   ]
  },
  {
   "attachments": {},
   "cell_type": "markdown",
   "metadata": {},
   "source": [
    "#### 2.4.3.1 Tamanho do dataset"
   ]
  },
  {
   "cell_type": "code",
   "execution_count": 58,
   "metadata": {},
   "outputs": [
    {
     "name": "stdout",
     "output_type": "stream",
     "text": [
      "Número de colunas: 8\n",
      "Número de linhas: 13998\n"
     ]
    }
   ],
   "source": [
    "print(f'Número de colunas: {df_usa.shape[1]}')\n",
    "print(f'Número de linhas: {df_usa.shape[0]}')"
   ]
  },
  {
   "attachments": {},
   "cell_type": "markdown",
   "metadata": {},
   "source": [
    "#### 2.4.3.2 Homogeinidade dos grupos"
   ]
  },
  {
   "cell_type": "code",
   "execution_count": 59,
   "metadata": {},
   "outputs": [
    {
     "data": {
      "text/html": [
       "<div>\n",
       "<style scoped>\n",
       "    .dataframe tbody tr th:only-of-type {\n",
       "        vertical-align: middle;\n",
       "    }\n",
       "\n",
       "    .dataframe tbody tr th {\n",
       "        vertical-align: top;\n",
       "    }\n",
       "\n",
       "    .dataframe thead th {\n",
       "        text-align: right;\n",
       "    }\n",
       "</style>\n",
       "<table border=\"1\" class=\"dataframe\">\n",
       "  <thead>\n",
       "    <tr style=\"text-align: right;\">\n",
       "      <th></th>\n",
       "      <th></th>\n",
       "      <th>uid</th>\n",
       "    </tr>\n",
       "    <tr>\n",
       "      <th>group</th>\n",
       "      <th>gender</th>\n",
       "      <th></th>\n",
       "    </tr>\n",
       "  </thead>\n",
       "  <tbody>\n",
       "    <tr>\n",
       "      <th rowspan=\"2\" valign=\"top\">GRP A</th>\n",
       "      <th>F</th>\n",
       "      <td>3441</td>\n",
       "    </tr>\n",
       "    <tr>\n",
       "      <th>M</th>\n",
       "      <td>3486</td>\n",
       "    </tr>\n",
       "    <tr>\n",
       "      <th rowspan=\"2\" valign=\"top\">GRP B</th>\n",
       "      <th>F</th>\n",
       "      <td>3477</td>\n",
       "    </tr>\n",
       "    <tr>\n",
       "      <th>M</th>\n",
       "      <td>3594</td>\n",
       "    </tr>\n",
       "  </tbody>\n",
       "</table>\n",
       "</div>"
      ],
      "text/plain": [
       "               uid\n",
       "group gender      \n",
       "GRP A F       3441\n",
       "      M       3486\n",
       "GRP B F       3477\n",
       "      M       3594"
      ]
     },
     "execution_count": 59,
     "metadata": {},
     "output_type": "execute_result"
    }
   ],
   "source": [
    "# gender\n",
    "df_usa[['uid', 'group', 'gender']].groupby(['group', 'gender']).count()"
   ]
  },
  {
   "cell_type": "code",
   "execution_count": 60,
   "metadata": {},
   "outputs": [
    {
     "data": {
      "text/html": [
       "<div>\n",
       "<style scoped>\n",
       "    .dataframe tbody tr th:only-of-type {\n",
       "        vertical-align: middle;\n",
       "    }\n",
       "\n",
       "    .dataframe tbody tr th {\n",
       "        vertical-align: top;\n",
       "    }\n",
       "\n",
       "    .dataframe thead th {\n",
       "        text-align: right;\n",
       "    }\n",
       "</style>\n",
       "<table border=\"1\" class=\"dataframe\">\n",
       "  <thead>\n",
       "    <tr style=\"text-align: right;\">\n",
       "      <th></th>\n",
       "      <th></th>\n",
       "      <th>uid</th>\n",
       "    </tr>\n",
       "    <tr>\n",
       "      <th>group</th>\n",
       "      <th>device</th>\n",
       "      <th></th>\n",
       "    </tr>\n",
       "  </thead>\n",
       "  <tbody>\n",
       "    <tr>\n",
       "      <th rowspan=\"2\" valign=\"top\">GRP A</th>\n",
       "      <th>A</th>\n",
       "      <td>3501</td>\n",
       "    </tr>\n",
       "    <tr>\n",
       "      <th>I</th>\n",
       "      <td>3426</td>\n",
       "    </tr>\n",
       "    <tr>\n",
       "      <th rowspan=\"2\" valign=\"top\">GRP B</th>\n",
       "      <th>A</th>\n",
       "      <td>3540</td>\n",
       "    </tr>\n",
       "    <tr>\n",
       "      <th>I</th>\n",
       "      <td>3531</td>\n",
       "    </tr>\n",
       "  </tbody>\n",
       "</table>\n",
       "</div>"
      ],
      "text/plain": [
       "               uid\n",
       "group device      \n",
       "GRP A A       3501\n",
       "      I       3426\n",
       "GRP B A       3540\n",
       "      I       3531"
      ]
     },
     "execution_count": 60,
     "metadata": {},
     "output_type": "execute_result"
    }
   ],
   "source": [
    "# device\n",
    "df_usa[['uid', 'group', 'device']].groupby(['group', 'device']).count()"
   ]
  },
  {
   "cell_type": "code",
   "execution_count": 61,
   "metadata": {},
   "outputs": [
    {
     "data": {
      "text/html": [
       "<div>\n",
       "<style scoped>\n",
       "    .dataframe tbody tr th:only-of-type {\n",
       "        vertical-align: middle;\n",
       "    }\n",
       "\n",
       "    .dataframe tbody tr th {\n",
       "        vertical-align: top;\n",
       "    }\n",
       "\n",
       "    .dataframe thead tr th {\n",
       "        text-align: left;\n",
       "    }\n",
       "\n",
       "    .dataframe thead tr:last-of-type th {\n",
       "        text-align: right;\n",
       "    }\n",
       "</style>\n",
       "<table border=\"1\" class=\"dataframe\">\n",
       "  <thead>\n",
       "    <tr>\n",
       "      <th></th>\n",
       "      <th>country</th>\n",
       "      <th colspan=\"4\" halign=\"left\">spent</th>\n",
       "      <th colspan=\"4\" halign=\"left\">purchases</th>\n",
       "    </tr>\n",
       "    <tr>\n",
       "      <th></th>\n",
       "      <th>count</th>\n",
       "      <th>min</th>\n",
       "      <th>max</th>\n",
       "      <th>mean</th>\n",
       "      <th>std</th>\n",
       "      <th>min</th>\n",
       "      <th>max</th>\n",
       "      <th>mean</th>\n",
       "      <th>std</th>\n",
       "    </tr>\n",
       "    <tr>\n",
       "      <th>group</th>\n",
       "      <th></th>\n",
       "      <th></th>\n",
       "      <th></th>\n",
       "      <th></th>\n",
       "      <th></th>\n",
       "      <th></th>\n",
       "      <th></th>\n",
       "      <th></th>\n",
       "      <th></th>\n",
       "    </tr>\n",
       "  </thead>\n",
       "  <tbody>\n",
       "    <tr>\n",
       "      <th>GRP A</th>\n",
       "      <td>6927</td>\n",
       "      <td>99</td>\n",
       "      <td>10675</td>\n",
       "      <td>1888.376065</td>\n",
       "      <td>1367.939102</td>\n",
       "      <td>1</td>\n",
       "      <td>25</td>\n",
       "      <td>4.564602</td>\n",
       "      <td>3.112318</td>\n",
       "    </tr>\n",
       "    <tr>\n",
       "      <th>GRP B</th>\n",
       "      <td>7071</td>\n",
       "      <td>99</td>\n",
       "      <td>12170</td>\n",
       "      <td>1864.738085</td>\n",
       "      <td>1348.648216</td>\n",
       "      <td>1</td>\n",
       "      <td>30</td>\n",
       "      <td>4.502475</td>\n",
       "      <td>3.079928</td>\n",
       "    </tr>\n",
       "  </tbody>\n",
       "</table>\n",
       "</div>"
      ],
      "text/plain": [
       "      country spent                                  purchases                \\\n",
       "        count   min    max         mean          std       min max      mean   \n",
       "group                                                                          \n",
       "GRP A    6927    99  10675  1888.376065  1367.939102         1  25  4.564602   \n",
       "GRP B    7071    99  12170  1864.738085  1348.648216         1  30  4.502475   \n",
       "\n",
       "                 \n",
       "            std  \n",
       "group            \n",
       "GRP A  3.112318  \n",
       "GRP B  3.079928  "
      ]
     },
     "execution_count": 61,
     "metadata": {},
     "output_type": "execute_result"
    }
   ],
   "source": [
    "# country/spent/purchases\n",
    "df_usa.groupby('group').agg( {'country': 'count',\n",
    "                           'spent': ['min', 'max', 'mean', 'std'],\n",
    "                           'purchases': ['min', 'max', 'mean', 'std']\n",
    "\n",
    "})"
   ]
  },
  {
   "cell_type": "code",
   "execution_count": 62,
   "metadata": {},
   "outputs": [
    {
     "data": {
      "image/png": "[encoded data removed]",
      "text/plain": [
       "<Figure size 640x480 with 1 Axes>"
      ]
     },
     "metadata": {},
     "output_type": "display_data"
    }
   ],
   "source": [
    "# homogeinidade geral dos grupos\n",
    "df_usa.loc[df_usa['group'] == 'GRP A', 'purchases'].hist(bins=20);\n",
    "df_usa.loc[df_usa['group'] == 'GRP B', 'purchases'].hist(bins=20);"
   ]
  },
  {
   "cell_type": "code",
   "execution_count": 63,
   "metadata": {},
   "outputs": [
    {
     "data": {
      "image/png": "[encoded data removed]",
      "text/plain": [
       "<Figure size 640x480 with 1 Axes>"
      ]
     },
     "metadata": {},
     "output_type": "display_data"
    }
   ],
   "source": [
    "df_usa.loc[df_usa['group'] == 'GRP B', 'purchases'].hist(bins=20);\n",
    "df_usa.loc[df_usa['group'] == 'GRP A', 'purchases'].hist(bins=20);"
   ]
  },
  {
   "cell_type": "code",
   "execution_count": 64,
   "metadata": {},
   "outputs": [
    {
     "data": {
      "text/html": [
       "<div>\n",
       "<style scoped>\n",
       "    .dataframe tbody tr th:only-of-type {\n",
       "        vertical-align: middle;\n",
       "    }\n",
       "\n",
       "    .dataframe tbody tr th {\n",
       "        vertical-align: top;\n",
       "    }\n",
       "\n",
       "    .dataframe thead th {\n",
       "        text-align: right;\n",
       "    }\n",
       "</style>\n",
       "<table border=\"1\" class=\"dataframe\">\n",
       "  <thead>\n",
       "    <tr style=\"text-align: right;\">\n",
       "      <th></th>\n",
       "      <th>uid</th>\n",
       "    </tr>\n",
       "    <tr>\n",
       "      <th>group</th>\n",
       "      <th></th>\n",
       "    </tr>\n",
       "  </thead>\n",
       "  <tbody>\n",
       "    <tr>\n",
       "      <th>GRP A</th>\n",
       "      <td>6927</td>\n",
       "    </tr>\n",
       "    <tr>\n",
       "      <th>GRP B</th>\n",
       "      <td>7071</td>\n",
       "    </tr>\n",
       "  </tbody>\n",
       "</table>\n",
       "</div>"
      ],
      "text/plain": [
       "        uid\n",
       "group      \n",
       "GRP A  6927\n",
       "GRP B  7071"
      ]
     },
     "execution_count": 64,
     "metadata": {},
     "output_type": "execute_result"
    }
   ],
   "source": [
    "df_usa[['uid', 'group']].groupby('group').count()"
   ]
  },
  {
   "attachments": {},
   "cell_type": "markdown",
   "metadata": {},
   "source": [
    "### 2.4.4 Teste de hipóteses"
   ]
  },
  {
   "attachments": {},
   "cell_type": "markdown",
   "metadata": {},
   "source": [
    "#### 2.4.4.1 Grupos"
   ]
  },
  {
   "cell_type": "code",
   "execution_count": 65,
   "metadata": {},
   "outputs": [],
   "source": [
    "sample_A_usa = df_usa.loc[df_usa['group'] == 'GRP A', 'spent'].sample(n=sample_n_usa, random_state = 42)\n",
    "sample_B_usa = df_usa.loc[df_usa['group'] == 'GRP B', 'spent'].sample(n=sample_n_usa, random_state = 42)"
   ]
  },
  {
   "attachments": {},
   "cell_type": "markdown",
   "metadata": {},
   "source": [
    "#### 2.4.4.1 Métricas"
   ]
  },
  {
   "cell_type": "code",
   "execution_count": 66,
   "metadata": {},
   "outputs": [
    {
     "name": "stdout",
     "output_type": "stream",
     "text": [
      "Média da amostra do grupo A: 1889.51 +/- 1375.28\n",
      "Média da amostra do grupo A: 1860.95 +/- 1361.11\n"
     ]
    }
   ],
   "source": [
    "sample_A_usa_mean = np.round(sample_A_usa.mean(), 2)\n",
    "sample_A_usa_std = np.round(sample_A_usa.std(), 2)\n",
    "sample_B_usa_mean = np.round(sample_B_usa.mean(), 2)\n",
    "sample_B_usa_std = np.round(sample_B_usa.std(), 2)\n",
    "\n",
    "print(f'Média da amostra do grupo A: {sample_A_usa_mean} +/- {sample_A_usa_std}')\n",
    "print(f'Média da amostra do grupo A: {sample_B_usa_mean} +/- {sample_B_usa_std}')"
   ]
  },
  {
   "attachments": {},
   "cell_type": "markdown",
   "metadata": {},
   "source": [
    "### 2.4.5 Inferência Estatística"
   ]
  },
  {
   "cell_type": "code",
   "execution_count": 67,
   "metadata": {},
   "outputs": [
    {
     "name": "stdout",
     "output_type": "stream",
     "text": [
      "0.3016930721958253\n"
     ]
    }
   ],
   "source": [
    "t_test_usa, p_value_usa = stats.ttest_ind( sample_A_usa, sample_B_usa)\n",
    "print(p_value_usa)"
   ]
  },
  {
   "attachments": {},
   "cell_type": "markdown",
   "metadata": {},
   "source": [
    "### 2.4.5 Conclusão"
   ]
  },
  {
   "cell_type": "code",
   "execution_count": 68,
   "metadata": {},
   "outputs": [
    {
     "name": "stdout",
     "output_type": "stream",
     "text": [
      "Falha em rejeitar a hipótese nula: Não temos evidências para dizer que o preenchimento automático trouxe mudança\n"
     ]
    }
   ],
   "source": [
    "if p_value_usa < significance_usa:\n",
    "    print('Rejeita a hipótese nula: O preenchimento automático deu resultado')\n",
    "else:\n",
    "    print('Falha em rejeitar a hipótese nula: Não temos evidências para dizer que o preenchimento automático trouxe mudança')\n"
   ]
  },
  {
   "attachments": {},
   "cell_type": "markdown",
   "metadata": {},
   "source": [
    "## 2.5 Espanha"
   ]
  },
  {
   "cell_type": "code",
   "execution_count": 69,
   "metadata": {},
   "outputs": [
    {
     "data": {
      "text/html": [
       "<div>\n",
       "<style scoped>\n",
       "    .dataframe tbody tr th:only-of-type {\n",
       "        vertical-align: middle;\n",
       "    }\n",
       "\n",
       "    .dataframe tbody tr th {\n",
       "        vertical-align: top;\n",
       "    }\n",
       "\n",
       "    .dataframe thead th {\n",
       "        text-align: right;\n",
       "    }\n",
       "</style>\n",
       "<table border=\"1\" class=\"dataframe\">\n",
       "  <thead>\n",
       "    <tr style=\"text-align: right;\">\n",
       "      <th></th>\n",
       "      <th>uid</th>\n",
       "      <th>country</th>\n",
       "      <th>gender</th>\n",
       "      <th>spent</th>\n",
       "      <th>purchases</th>\n",
       "      <th>date</th>\n",
       "      <th>group</th>\n",
       "      <th>device</th>\n",
       "    </tr>\n",
       "  </thead>\n",
       "  <tbody>\n",
       "    <tr>\n",
       "      <th>4</th>\n",
       "      <td>11130759</td>\n",
       "      <td>ESP</td>\n",
       "      <td>M</td>\n",
       "      <td>1297</td>\n",
       "      <td>3</td>\n",
       "      <td>2018-01-10</td>\n",
       "      <td>GRP B</td>\n",
       "      <td>A</td>\n",
       "    </tr>\n",
       "    <tr>\n",
       "      <th>17</th>\n",
       "      <td>11149952</td>\n",
       "      <td>ESP</td>\n",
       "      <td>M</td>\n",
       "      <td>398</td>\n",
       "      <td>2</td>\n",
       "      <td>2017-02-02</td>\n",
       "      <td>GRP A</td>\n",
       "      <td>A</td>\n",
       "    </tr>\n",
       "    <tr>\n",
       "      <th>40</th>\n",
       "      <td>11183968</td>\n",
       "      <td>ESP</td>\n",
       "      <td>M</td>\n",
       "      <td>996</td>\n",
       "      <td>4</td>\n",
       "      <td>2016-04-01</td>\n",
       "      <td>GRP A</td>\n",
       "      <td>A</td>\n",
       "    </tr>\n",
       "    <tr>\n",
       "      <th>45</th>\n",
       "      <td>11193748</td>\n",
       "      <td>ESP</td>\n",
       "      <td>M</td>\n",
       "      <td>299</td>\n",
       "      <td>1</td>\n",
       "      <td>2016-10-11</td>\n",
       "      <td>GRP A</td>\n",
       "      <td>A</td>\n",
       "    </tr>\n",
       "    <tr>\n",
       "      <th>47</th>\n",
       "      <td>11199766</td>\n",
       "      <td>ESP</td>\n",
       "      <td>F</td>\n",
       "      <td>199</td>\n",
       "      <td>1</td>\n",
       "      <td>2017-05-04</td>\n",
       "      <td>GRP A</td>\n",
       "      <td>A</td>\n",
       "    </tr>\n",
       "  </tbody>\n",
       "</table>\n",
       "</div>"
      ],
      "text/plain": [
       "         uid country gender  spent  purchases        date  group device\n",
       "4   11130759     ESP      M   1297          3  2018-01-10  GRP B      A\n",
       "17  11149952     ESP      M    398          2  2017-02-02  GRP A      A\n",
       "40  11183968     ESP      M    996          4  2016-04-01  GRP A      A\n",
       "45  11193748     ESP      M    299          1  2016-10-11  GRP A      A\n",
       "47  11199766     ESP      F    199          1  2017-05-04  GRP A      A"
      ]
     },
     "execution_count": 69,
     "metadata": {},
     "output_type": "execute_result"
    }
   ],
   "source": [
    "df_esp = df.loc[df['country'] == 'ESP', :]\n",
    "df_esp.head()"
   ]
  },
  {
   "attachments": {},
   "cell_type": "markdown",
   "metadata": {},
   "source": [
    "### 2.5.1 Parâmetros do Experimento"
   ]
  },
  {
   "cell_type": "code",
   "execution_count": 70,
   "metadata": {},
   "outputs": [],
   "source": [
    "# nível de confiança\n",
    "confidence_esp = 0.9\n",
    "\n",
    "# nível de significancia\n",
    "significance_esp = 0.1\n",
    "\n",
    "# poder estatístico\n",
    "power_esp = 0.8"
   ]
  },
  {
   "cell_type": "code",
   "execution_count": 71,
   "metadata": {},
   "outputs": [
    {
     "data": {
      "text/plain": [
       "mean    1874.184592\n",
       "std     1305.259136\n",
       "Name: spent, dtype: float64"
      ]
     },
     "execution_count": 71,
     "metadata": {},
     "output_type": "execute_result"
    }
   ],
   "source": [
    "# valor de init_metric e std_mestric\n",
    "df_esp['spent'].agg(['mean', 'std'])"
   ]
  },
  {
   "attachments": {},
   "cell_type": "markdown",
   "metadata": {},
   "source": [
    "### 2.5.2 Tamanho da Amostra"
   ]
  },
  {
   "cell_type": "code",
   "execution_count": 72,
   "metadata": {},
   "outputs": [
    {
     "name": "stdout",
     "output_type": "stream",
     "text": [
      "O tamanho total da amostra é de 4800\n",
      "O tamanho da amostra do grupo de controle é de 2400\n",
      "O tamanho da amostra do grupo de tratamento é de 2400\n"
     ]
    }
   ],
   "source": [
    "init_metric_esp = 1874.184592 #métrica atual grupo A\n",
    "end_metric_esp = init_metric_esp * (1 + 0.05) #métrica a alcançar grupo B\n",
    "std_metric_esp = 1305.259136\n",
    "\n",
    "effect_size_esp =(end_metric_esp - init_metric_esp) / std_metric_esp\n",
    "\n",
    "sample_n_esp = sms.tt_ind_solve_power(\n",
    "                effect_size = effect_size_esp, \n",
    "                alpha = significance_esp, \n",
    "                power = power_esp)\n",
    "sample_n_esp = np.round(sample_n_esp).astype(int)\n",
    "\n",
    "print(f'O tamanho total da amostra é de {2*sample_n_esp}')\n",
    "print(f'O tamanho da amostra do grupo de controle é de {sample_n_esp}')\n",
    "print(f'O tamanho da amostra do grupo de tratamento é de {sample_n_esp}')"
   ]
  },
  {
   "attachments": {},
   "cell_type": "markdown",
   "metadata": {},
   "source": [
    "### 2.5.3 Análise descritiva dos dados"
   ]
  },
  {
   "attachments": {},
   "cell_type": "markdown",
   "metadata": {},
   "source": [
    "#### 2.5.3.1 Tamanho do dataset"
   ]
  },
  {
   "cell_type": "code",
   "execution_count": 73,
   "metadata": {},
   "outputs": [
    {
     "name": "stdout",
     "output_type": "stream",
     "text": [
      "Número de colunas: 8\n",
      "Número de linhas: 1934\n"
     ]
    }
   ],
   "source": [
    "print(f'Número de colunas: {df_esp.shape[1]}')\n",
    "print(f'Número de linhas: {df_esp.shape[0]}')"
   ]
  },
  {
   "attachments": {},
   "cell_type": "markdown",
   "metadata": {},
   "source": [
    "## Não há dados os suficiente para fazer o teste"
   ]
  },
  {
   "attachments": {},
   "cell_type": "markdown",
   "metadata": {},
   "source": [
    "#### 2.5.3.2 Homogeinidade dos grupos"
   ]
  },
  {
   "cell_type": "code",
   "execution_count": null,
   "metadata": {},
   "outputs": [],
   "source": [
    "# gender\n",
    "df_esp[['uid', 'group', 'gender']].groupby(['group', 'gender']).count()"
   ]
  },
  {
   "cell_type": "code",
   "execution_count": null,
   "metadata": {},
   "outputs": [],
   "source": [
    "# device\n",
    "df_esp[['uid', 'group', 'device']].groupby(['group', 'device']).count()"
   ]
  },
  {
   "cell_type": "code",
   "execution_count": null,
   "metadata": {},
   "outputs": [],
   "source": [
    "# country/spent/purchases\n",
    "df_esp.groupby('group').agg( {'country': 'count',\n",
    "                           'spent': ['min', 'max', 'mean', 'std'],\n",
    "                           'purchases': ['min', 'max', 'mean', 'std']\n",
    "\n",
    "})"
   ]
  },
  {
   "cell_type": "code",
   "execution_count": null,
   "metadata": {},
   "outputs": [],
   "source": [
    "# homogeinidade geral dos grupos\n",
    "df_esp.loc[df_esp['group'] == 'GRP A', 'purchases'].hist(bins=20);\n",
    "df_esp.loc[df_esp['group'] == 'GRP B', 'purchases'].hist(bins=20);"
   ]
  },
  {
   "cell_type": "code",
   "execution_count": null,
   "metadata": {},
   "outputs": [],
   "source": [
    "df_esp.loc[df_esp['group'] == 'GRP B', 'purchases'].hist(bins=20);\n",
    "df_esp.loc[df_esp['group'] == 'GRP A', 'purchases'].hist(bins=20);"
   ]
  },
  {
   "cell_type": "code",
   "execution_count": null,
   "metadata": {},
   "outputs": [],
   "source": [
    "df_esp[['uid', 'group']].groupby('group').count()"
   ]
  },
  {
   "attachments": {},
   "cell_type": "markdown",
   "metadata": {},
   "source": [
    "### 2.5.4 Teste de hipóteses"
   ]
  },
  {
   "attachments": {},
   "cell_type": "markdown",
   "metadata": {},
   "source": [
    "#### 2.5.4.1 Grupos"
   ]
  },
  {
   "cell_type": "code",
   "execution_count": null,
   "metadata": {},
   "outputs": [],
   "source": [
    "sample_A_esp = df_esp.loc[df_esp['group'] == 'GRP A', 'spent'].sample(n=sample_n, random_state = 42)\n",
    "sample_B_esp = df_esp.loc[df_esp['group'] == 'GRP B', 'spent'].sample(n=sample_n, random_state = 42)"
   ]
  },
  {
   "attachments": {},
   "cell_type": "markdown",
   "metadata": {},
   "source": [
    "#### 2.5.4.1 Métricas"
   ]
  },
  {
   "cell_type": "code",
   "execution_count": null,
   "metadata": {},
   "outputs": [],
   "source": [
    "sample_A_esp_mean = np.round(sample_A_esp.mean(), 2)\n",
    "sample_A_esp_std = np.round(sample_A_esp.std(), 2)\n",
    "sample_B_esp_mean = np.round(sample_B_esp.mean(), 2)\n",
    "sample_B_esp_std = np.round(sample_B_esp.std(), 2)\n",
    "\n",
    "print(f'Média da amostra do grupo A: {sample_A_esp_mean} +/- {sample_A_esp_std}')\n",
    "print(f'Média da amostra do grupo A: {sample_B_esp_mean} +/- {sample_B_esp_std}')"
   ]
  },
  {
   "attachments": {},
   "cell_type": "markdown",
   "metadata": {},
   "source": [
    "### 2.5.5 Inferência Estatística"
   ]
  },
  {
   "cell_type": "code",
   "execution_count": null,
   "metadata": {},
   "outputs": [],
   "source": [
    "t_test, p_value = stats.ttest_ind( sample_A_esp, sample_B_esp)\n",
    "print(p_value)"
   ]
  },
  {
   "attachments": {},
   "cell_type": "markdown",
   "metadata": {},
   "source": [
    "### 2.5.5 Conclusão"
   ]
  },
  {
   "cell_type": "code",
   "execution_count": null,
   "metadata": {},
   "outputs": [],
   "source": [
    "if p_value < significance:\n",
    "    print('Rejeita a hipótese nula: O preenchimento automático deu resultado')\n",
    "else:\n",
    "    print('Falha em rejeitar a hipótese nula: Não temos evidências para dizer que o preenchimento automático trouxe mudança')\n"
   ]
  },
  {
   "attachments": {},
   "cell_type": "markdown",
   "metadata": {},
   "source": [
    "## 2.6 Grã Bretanha"
   ]
  },
  {
   "cell_type": "code",
   "execution_count": 74,
   "metadata": {},
   "outputs": [
    {
     "data": {
      "text/html": [
       "<div>\n",
       "<style scoped>\n",
       "    .dataframe tbody tr th:only-of-type {\n",
       "        vertical-align: middle;\n",
       "    }\n",
       "\n",
       "    .dataframe tbody tr th {\n",
       "        vertical-align: top;\n",
       "    }\n",
       "\n",
       "    .dataframe thead th {\n",
       "        text-align: right;\n",
       "    }\n",
       "</style>\n",
       "<table border=\"1\" class=\"dataframe\">\n",
       "  <thead>\n",
       "    <tr style=\"text-align: right;\">\n",
       "      <th></th>\n",
       "      <th>uid</th>\n",
       "      <th>country</th>\n",
       "      <th>gender</th>\n",
       "      <th>spent</th>\n",
       "      <th>purchases</th>\n",
       "      <th>date</th>\n",
       "      <th>group</th>\n",
       "      <th>device</th>\n",
       "    </tr>\n",
       "  </thead>\n",
       "  <tbody>\n",
       "    <tr>\n",
       "      <th>6</th>\n",
       "      <td>11131381</td>\n",
       "      <td>GBR</td>\n",
       "      <td>F</td>\n",
       "      <td>2296</td>\n",
       "      <td>4</td>\n",
       "      <td>2017-05-21</td>\n",
       "      <td>GRP B</td>\n",
       "      <td>A</td>\n",
       "    </tr>\n",
       "    <tr>\n",
       "      <th>43</th>\n",
       "      <td>11189834</td>\n",
       "      <td>GBR</td>\n",
       "      <td>F</td>\n",
       "      <td>499</td>\n",
       "      <td>1</td>\n",
       "      <td>2017-12-24</td>\n",
       "      <td>GRP B</td>\n",
       "      <td>I</td>\n",
       "    </tr>\n",
       "    <tr>\n",
       "      <th>69</th>\n",
       "      <td>11232570</td>\n",
       "      <td>GBR</td>\n",
       "      <td>F</td>\n",
       "      <td>4989</td>\n",
       "      <td>11</td>\n",
       "      <td>2016-07-09</td>\n",
       "      <td>GRP A</td>\n",
       "      <td>A</td>\n",
       "    </tr>\n",
       "    <tr>\n",
       "      <th>80</th>\n",
       "      <td>11252904</td>\n",
       "      <td>GBR</td>\n",
       "      <td>F</td>\n",
       "      <td>2196</td>\n",
       "      <td>4</td>\n",
       "      <td>2015-06-12</td>\n",
       "      <td>GRP A</td>\n",
       "      <td>I</td>\n",
       "    </tr>\n",
       "    <tr>\n",
       "      <th>95</th>\n",
       "      <td>11284044</td>\n",
       "      <td>GBR</td>\n",
       "      <td>F</td>\n",
       "      <td>1696</td>\n",
       "      <td>4</td>\n",
       "      <td>2017-07-07</td>\n",
       "      <td>GRP B</td>\n",
       "      <td>I</td>\n",
       "    </tr>\n",
       "  </tbody>\n",
       "</table>\n",
       "</div>"
      ],
      "text/plain": [
       "         uid country gender  spent  purchases        date  group device\n",
       "6   11131381     GBR      F   2296          4  2017-05-21  GRP B      A\n",
       "43  11189834     GBR      F    499          1  2017-12-24  GRP B      I\n",
       "69  11232570     GBR      F   4989         11  2016-07-09  GRP A      A\n",
       "80  11252904     GBR      F   2196          4  2015-06-12  GRP A      I\n",
       "95  11284044     GBR      F   1696          4  2017-07-07  GRP B      I"
      ]
     },
     "execution_count": 74,
     "metadata": {},
     "output_type": "execute_result"
    }
   ],
   "source": [
    "df_gbr = df.loc[df['country'] == 'GBR', :]\n",
    "df_gbr.head()"
   ]
  },
  {
   "attachments": {},
   "cell_type": "markdown",
   "metadata": {},
   "source": [
    "### 2.6.1 Parâmetros do Experimento"
   ]
  },
  {
   "cell_type": "code",
   "execution_count": 75,
   "metadata": {},
   "outputs": [],
   "source": [
    "# nível de confiança\n",
    "confidence_gbr = 0.9\n",
    "\n",
    "# nível de significancia\n",
    "significance_gbr = 0.1\n",
    "# poder estatístico\n",
    "power_gbr = 0.8"
   ]
  },
  {
   "cell_type": "code",
   "execution_count": 76,
   "metadata": {},
   "outputs": [
    {
     "data": {
      "text/plain": [
       "mean    1854.829121\n",
       "std     1333.372631\n",
       "Name: spent, dtype: float64"
      ]
     },
     "execution_count": 76,
     "metadata": {},
     "output_type": "execute_result"
    }
   ],
   "source": [
    "# valor de init_metric e std_mestric\n",
    "df_gbr['spent'].agg(['mean', 'std'])"
   ]
  },
  {
   "attachments": {},
   "cell_type": "markdown",
   "metadata": {},
   "source": [
    "### 2.6.2 Tamanho da Amostra"
   ]
  },
  {
   "cell_type": "code",
   "execution_count": 77,
   "metadata": {},
   "outputs": [
    {
     "name": "stdout",
     "output_type": "stream",
     "text": [
      "O tamanho total da amostra é de 5114\n",
      "O tamanho da amostra do grupo de controle é de 2557\n",
      "O tamanho da amostra do grupo de tratamento é de 2557\n"
     ]
    }
   ],
   "source": [
    "init_metric_gbr = 1854.829121 #métrica atual grupo A\n",
    "end_metric_gbr = init_metric_gbr * (1 + 0.05) #métrica a alcançar grupo B\n",
    "std_metric_gbr = 1333.372631\n",
    "\n",
    "effect_size_gbr = (end_metric_gbr - init_metric_gbr) / std_metric_gbr\n",
    "\n",
    "sample_n_gbr = sms.tt_ind_solve_power(\n",
    "                effect_size = effect_size_gbr, \n",
    "                alpha = significance_gbr, \n",
    "                power = power_gbr)\n",
    "sample_n_gbr = np.round(sample_n_gbr).astype(int)\n",
    "\n",
    "print(f'O tamanho total da amostra é de {2*sample_n_gbr}')\n",
    "print(f'O tamanho da amostra do grupo de controle é de {sample_n_gbr}')\n",
    "print(f'O tamanho da amostra do grupo de tratamento é de {sample_n_gbr}')"
   ]
  },
  {
   "attachments": {},
   "cell_type": "markdown",
   "metadata": {},
   "source": [
    "### 2.6.3 Análise descritiva dos dados"
   ]
  },
  {
   "attachments": {},
   "cell_type": "markdown",
   "metadata": {},
   "source": [
    "#### 2.6.3.1 Tamanho do dataset"
   ]
  },
  {
   "cell_type": "code",
   "execution_count": 78,
   "metadata": {},
   "outputs": [
    {
     "name": "stdout",
     "output_type": "stream",
     "text": [
      "Número de colunas: 8\n",
      "Número de linhas: 2809\n"
     ]
    }
   ],
   "source": [
    "print(f'Número de colunas: {df_gbr.shape[1]}')\n",
    "print(f'Número de linhas: {df_gbr.shape[0]}')"
   ]
  },
  {
   "attachments": {},
   "cell_type": "markdown",
   "metadata": {},
   "source": [
    "## Não há dados os suficiente para fazer o teste"
   ]
  },
  {
   "attachments": {},
   "cell_type": "markdown",
   "metadata": {},
   "source": [
    "#### 2.6.3.2 Homogeinidade dos grupos"
   ]
  },
  {
   "cell_type": "code",
   "execution_count": null,
   "metadata": {},
   "outputs": [],
   "source": [
    "# gender\n",
    "df_gbr[['uid', 'group', 'gender']].groupby(['group', 'gender']).count()"
   ]
  },
  {
   "cell_type": "code",
   "execution_count": null,
   "metadata": {},
   "outputs": [],
   "source": [
    "# device\n",
    "df_gbr[['uid', 'group', 'device']].groupby(['group', 'device']).count()"
   ]
  },
  {
   "cell_type": "code",
   "execution_count": null,
   "metadata": {},
   "outputs": [],
   "source": [
    "# country/spent/purchases\n",
    "df_gbr.groupby('group').agg( {'country': 'count',\n",
    "                           'spent': ['min', 'max', 'mean', 'std'],\n",
    "                           'purchases': ['min', 'max', 'mean', 'std']\n",
    "\n",
    "})"
   ]
  },
  {
   "cell_type": "code",
   "execution_count": null,
   "metadata": {},
   "outputs": [],
   "source": [
    "# homogeinidade geral dos grupos\n",
    "df_gbr.loc[df_gbr['group'] == 'GRP A', 'purchases'].hist(bins=20);\n",
    "df_gbr.loc[df_gbr['group'] == 'GRP B', 'purchases'].hist(bins=20);"
   ]
  },
  {
   "cell_type": "code",
   "execution_count": null,
   "metadata": {},
   "outputs": [],
   "source": [
    "df_gbr.loc[df_gbr['group'] == 'GRP B', 'purchases'].hist(bins=20);\n",
    "df_gbr.loc[df_gbr['group'] == 'GRP A', 'purchases'].hist(bins=20);"
   ]
  },
  {
   "cell_type": "code",
   "execution_count": null,
   "metadata": {},
   "outputs": [],
   "source": [
    "df_gbr[['uid', 'group']].groupby('group').count()"
   ]
  },
  {
   "attachments": {},
   "cell_type": "markdown",
   "metadata": {},
   "source": [
    "### 2.6.4 Teste de hipóteses"
   ]
  },
  {
   "attachments": {},
   "cell_type": "markdown",
   "metadata": {},
   "source": [
    "#### 2.6.4.1 Grupos"
   ]
  },
  {
   "cell_type": "code",
   "execution_count": null,
   "metadata": {},
   "outputs": [],
   "source": [
    "sample_A_gbr = df_gbr.loc[df_gbr['group'] == 'GRP A', 'spent'].sample(n=sample_n, random_state = 42)\n",
    "sample_B_gbr = df_gbr.loc[df_gbr['group'] == 'GRP B', 'spent'].sample(n=sample_n, random_state = 42)"
   ]
  },
  {
   "attachments": {},
   "cell_type": "markdown",
   "metadata": {},
   "source": [
    "#### 2.6.4.1 Métricas"
   ]
  },
  {
   "cell_type": "code",
   "execution_count": null,
   "metadata": {},
   "outputs": [],
   "source": [
    "sample_A_gbr_mean = np.round(sample_A_gbr.mean(), 2)\n",
    "sample_A_gbr_std = np.round(sample_A_gbr.std(), 2)\n",
    "sample_B_gbr_mean = np.round(sample_B_gbr.mean(), 2)\n",
    "sample_B_gbr_std = np.round(sample_B_gbr.std(), 2)\n",
    "\n",
    "print(f'Média da amostra do grupo A: {sample_A_gbr_mean} +/- {sample_A_gbr_std}')\n",
    "print(f'Média da amostra do grupo A: {sample_B_gbr_mean} +/- {sample_B_gbr_std}')"
   ]
  },
  {
   "attachments": {},
   "cell_type": "markdown",
   "metadata": {},
   "source": [
    "### 2.6.5 Inferência Estatística"
   ]
  },
  {
   "cell_type": "code",
   "execution_count": null,
   "metadata": {},
   "outputs": [],
   "source": [
    "t_test, p_value = stats.ttest_ind( sample_A_gbr, sample_B_gbr)\n",
    "print(p_value)"
   ]
  },
  {
   "attachments": {},
   "cell_type": "markdown",
   "metadata": {},
   "source": [
    "### 2.6.5 Conclusão"
   ]
  },
  {
   "cell_type": "code",
   "execution_count": null,
   "metadata": {},
   "outputs": [],
   "source": [
    "if p_value < significance:\n",
    "    print('Rejeita a hipótese nula: O preenchimento automático deu resultado')\n",
    "else:\n",
    "    print('Falha em rejeitar a hipótese nula: Não temos evidências para dizer que o preenchimento automático trouxe mudança')\n"
   ]
  },
  {
   "attachments": {},
   "cell_type": "markdown",
   "metadata": {},
   "source": [
    "## 2.7 Turquia"
   ]
  },
  {
   "cell_type": "code",
   "execution_count": 79,
   "metadata": {},
   "outputs": [
    {
     "data": {
      "text/html": [
       "<div>\n",
       "<style scoped>\n",
       "    .dataframe tbody tr th:only-of-type {\n",
       "        vertical-align: middle;\n",
       "    }\n",
       "\n",
       "    .dataframe tbody tr th {\n",
       "        vertical-align: top;\n",
       "    }\n",
       "\n",
       "    .dataframe thead th {\n",
       "        text-align: right;\n",
       "    }\n",
       "</style>\n",
       "<table border=\"1\" class=\"dataframe\">\n",
       "  <thead>\n",
       "    <tr style=\"text-align: right;\">\n",
       "      <th></th>\n",
       "      <th>uid</th>\n",
       "      <th>country</th>\n",
       "      <th>gender</th>\n",
       "      <th>spent</th>\n",
       "      <th>purchases</th>\n",
       "      <th>date</th>\n",
       "      <th>group</th>\n",
       "      <th>device</th>\n",
       "    </tr>\n",
       "  </thead>\n",
       "  <tbody>\n",
       "    <tr>\n",
       "      <th>7</th>\n",
       "      <td>11131664</td>\n",
       "      <td>TUR</td>\n",
       "      <td>M</td>\n",
       "      <td>2293</td>\n",
       "      <td>7</td>\n",
       "      <td>2017-12-20</td>\n",
       "      <td>GRP B</td>\n",
       "      <td>I</td>\n",
       "    </tr>\n",
       "    <tr>\n",
       "      <th>11</th>\n",
       "      <td>11140660</td>\n",
       "      <td>TUR</td>\n",
       "      <td>M</td>\n",
       "      <td>4790</td>\n",
       "      <td>10</td>\n",
       "      <td>2015-05-27</td>\n",
       "      <td>GRP B</td>\n",
       "      <td>A</td>\n",
       "    </tr>\n",
       "    <tr>\n",
       "      <th>42</th>\n",
       "      <td>11188872</td>\n",
       "      <td>TUR</td>\n",
       "      <td>M</td>\n",
       "      <td>4590</td>\n",
       "      <td>10</td>\n",
       "      <td>2018-01-01</td>\n",
       "      <td>GRP A</td>\n",
       "      <td>I</td>\n",
       "    </tr>\n",
       "    <tr>\n",
       "      <th>50</th>\n",
       "      <td>11207802</td>\n",
       "      <td>TUR</td>\n",
       "      <td>F</td>\n",
       "      <td>1397</td>\n",
       "      <td>3</td>\n",
       "      <td>2015-01-30</td>\n",
       "      <td>GRP A</td>\n",
       "      <td>I</td>\n",
       "    </tr>\n",
       "    <tr>\n",
       "      <th>64</th>\n",
       "      <td>11225482</td>\n",
       "      <td>TUR</td>\n",
       "      <td>M</td>\n",
       "      <td>3392</td>\n",
       "      <td>8</td>\n",
       "      <td>2017-10-11</td>\n",
       "      <td>GRP A</td>\n",
       "      <td>A</td>\n",
       "    </tr>\n",
       "  </tbody>\n",
       "</table>\n",
       "</div>"
      ],
      "text/plain": [
       "         uid country gender  spent  purchases        date  group device\n",
       "7   11131664     TUR      M   2293          7  2017-12-20  GRP B      I\n",
       "11  11140660     TUR      M   4790         10  2015-05-27  GRP B      A\n",
       "42  11188872     TUR      M   4590         10  2018-01-01  GRP A      I\n",
       "50  11207802     TUR      F   1397          3  2015-01-30  GRP A      I\n",
       "64  11225482     TUR      M   3392          8  2017-10-11  GRP A      A"
      ]
     },
     "execution_count": 79,
     "metadata": {},
     "output_type": "execute_result"
    }
   ],
   "source": [
    "df_tur = df.loc[df['country'] == 'TUR', :]\n",
    "df_tur.head()"
   ]
  },
  {
   "attachments": {},
   "cell_type": "markdown",
   "metadata": {},
   "source": [
    "### 2.7.1 Parâmetros do Experimento"
   ]
  },
  {
   "cell_type": "code",
   "execution_count": 80,
   "metadata": {},
   "outputs": [],
   "source": [
    "# nível de confiança\n",
    "confidence_tur = 0.9\n",
    "\n",
    "# nível de significancia\n",
    "significance_tur = 0.1\n",
    "\n",
    "# poder estatístico\n",
    "power_tur = 0.8"
   ]
  },
  {
   "cell_type": "code",
   "execution_count": 81,
   "metadata": {},
   "outputs": [
    {
     "data": {
      "text/plain": [
       "mean    1878.886062\n",
       "std     1374.405730\n",
       "Name: spent, dtype: float64"
      ]
     },
     "execution_count": 81,
     "metadata": {},
     "output_type": "execute_result"
    }
   ],
   "source": [
    "# valor de init_metric e std_mestric\n",
    "df_tur['spent'].agg(['mean', 'std'])"
   ]
  },
  {
   "attachments": {},
   "cell_type": "markdown",
   "metadata": {},
   "source": [
    "### 2.7.2 Tamanho da Amostra"
   ]
  },
  {
   "cell_type": "code",
   "execution_count": 82,
   "metadata": {},
   "outputs": [
    {
     "name": "stdout",
     "output_type": "stream",
     "text": [
      "O tamanho total da amostra é de 5294\n",
      "O tamanho da amostra do grupo de controle é de 2647\n",
      "O tamanho da amostra do grupo de tratamento é de 2647\n"
     ]
    }
   ],
   "source": [
    "init_metric_tur = 1878.886062 #métrica atual grupo A\n",
    "end_metric_tur = init_metric_tur * (1 + 0.05) #métrica a alcançar grupo B\n",
    "std_metric_tur = 1374.405730\n",
    "\n",
    "effect_size_tur = (end_metric_tur - init_metric_tur) / std_metric_tur\n",
    "\n",
    "sample_n_tur = sms.tt_ind_solve_power(\n",
    "                effect_size = effect_size_tur, \n",
    "                alpha = significance_tur, \n",
    "                power = power_tur)\n",
    "sample_n_tur = np.round(sample_n_tur).astype(int)\n",
    "\n",
    "print(f'O tamanho total da amostra é de {2*sample_n_tur}')\n",
    "print(f'O tamanho da amostra do grupo de controle é de {sample_n_tur}')\n",
    "print(f'O tamanho da amostra do grupo de tratamento é de {sample_n_tur}')"
   ]
  },
  {
   "attachments": {},
   "cell_type": "markdown",
   "metadata": {},
   "source": [
    "### 2.7.3 Análise descritiva dos dados"
   ]
  },
  {
   "attachments": {},
   "cell_type": "markdown",
   "metadata": {},
   "source": [
    "#### 2.7.3.1 Tamanho do dataset"
   ]
  },
  {
   "cell_type": "code",
   "execution_count": 83,
   "metadata": {},
   "outputs": [
    {
     "name": "stdout",
     "output_type": "stream",
     "text": [
      "Número de colunas: 8\n",
      "Número de linhas: 3537\n"
     ]
    }
   ],
   "source": [
    "print(f'Número de colunas: {df_tur.shape[1]}')\n",
    "print(f'Número de linhas: {df_tur.shape[0]}')"
   ]
  },
  {
   "cell_type": "markdown",
   "metadata": {},
   "source": [
    "## Não há dados os suficiente para fazer o teste"
   ]
  },
  {
   "attachments": {},
   "cell_type": "markdown",
   "metadata": {},
   "source": [
    "#### 2.7.3.2 Homogeinidade dos grupos"
   ]
  },
  {
   "cell_type": "code",
   "execution_count": null,
   "metadata": {},
   "outputs": [],
   "source": [
    "# gender\n",
    "df_tur[['uid', 'group', 'gender']].groupby(['group', 'gender']).count()"
   ]
  },
  {
   "cell_type": "code",
   "execution_count": null,
   "metadata": {},
   "outputs": [],
   "source": [
    "# device\n",
    "df_tur[['uid', 'group', 'device']].groupby(['group', 'device']).count()"
   ]
  },
  {
   "cell_type": "code",
   "execution_count": null,
   "metadata": {},
   "outputs": [],
   "source": [
    "# country/spent/purchases\n",
    "df_tur.groupby('group').agg( {'country': 'count',\n",
    "                           'spent': ['min', 'max', 'mean', 'std'],\n",
    "                           'purchases': ['min', 'max', 'mean', 'std']\n",
    "\n",
    "})"
   ]
  },
  {
   "cell_type": "code",
   "execution_count": null,
   "metadata": {},
   "outputs": [],
   "source": [
    "# homogeinidade geral dos grupos\n",
    "df_tur.loc[df_tur['group'] == 'GRP A', 'purchases'].hist(bins=20);\n",
    "df_tur.loc[df_tur['group'] == 'GRP B', 'purchases'].hist(bins=20);"
   ]
  },
  {
   "cell_type": "code",
   "execution_count": null,
   "metadata": {},
   "outputs": [],
   "source": [
    "df_tur.loc[df_tur['group'] == 'GRP B', 'purchases'].hist(bins=20);\n",
    "df_tur.loc[df_tur['group'] == 'GRP A', 'purchases'].hist(bins=20);"
   ]
  },
  {
   "cell_type": "code",
   "execution_count": null,
   "metadata": {},
   "outputs": [],
   "source": [
    "df_tur[['uid', 'group']].groupby('group').count()"
   ]
  },
  {
   "attachments": {},
   "cell_type": "markdown",
   "metadata": {},
   "source": [
    "### 2.7.4 Teste de hipóteses"
   ]
  },
  {
   "attachments": {},
   "cell_type": "markdown",
   "metadata": {},
   "source": [
    "#### 2.7.4.1 Grupos"
   ]
  },
  {
   "cell_type": "code",
   "execution_count": null,
   "metadata": {},
   "outputs": [],
   "source": [
    "sample_A_tur = df_tur.loc[df_tur['group'] == 'GRP A', 'spent'].sample(n=sample_n, random_state = 42)\n",
    "sample_B_tur = df_tur.loc[df_tur['group'] == 'GRP B', 'spent'].sample(n=sample_n, random_state = 42)"
   ]
  },
  {
   "attachments": {},
   "cell_type": "markdown",
   "metadata": {},
   "source": [
    "#### 2.7.4.1 Métricas"
   ]
  },
  {
   "cell_type": "code",
   "execution_count": null,
   "metadata": {},
   "outputs": [],
   "source": [
    "sample_A_tur_mean = np.round(sample_A_tur.mean(), 2)\n",
    "sample_A_tur_std = np.round(sample_A_tur.std(), 2)\n",
    "sample_B_tur_mean = np.round(sample_B_tur.mean(), 2)\n",
    "sample_B_tur_std = np.round(sample_B_tur.std(), 2)\n",
    "\n",
    "print(f'Média da amostra do grupo A: {sample_A_tur_mean} +/- {sample_A_tur_std}')\n",
    "print(f'Média da amostra do grupo A: {sample_B_tur_mean} +/- {sample_B_tur_std}')"
   ]
  },
  {
   "attachments": {},
   "cell_type": "markdown",
   "metadata": {},
   "source": [
    "### 2.7.5 Inferência Estatística"
   ]
  },
  {
   "cell_type": "code",
   "execution_count": null,
   "metadata": {},
   "outputs": [],
   "source": [
    "t_test, p_value = stats.ttest_ind( sample_A_tur, sample_B_tur)\n",
    "print(p_value)"
   ]
  },
  {
   "attachments": {},
   "cell_type": "markdown",
   "metadata": {},
   "source": [
    "### 2.7.5 Conclusão"
   ]
  },
  {
   "cell_type": "code",
   "execution_count": null,
   "metadata": {},
   "outputs": [],
   "source": [
    "if p_value < significance:\n",
    "    print('Rejeita a hipótese nula: O preenchimento automático deu resultado')\n",
    "else:\n",
    "    print('Falha em rejeitar a hipótese nula: Não temos evidências para dizer que o preenchimento automático trouxe mudança')\n"
   ]
  },
  {
   "attachments": {},
   "cell_type": "markdown",
   "metadata": {},
   "source": [
    "## 2.8 Alemanha"
   ]
  },
  {
   "cell_type": "code",
   "execution_count": 84,
   "metadata": {},
   "outputs": [
    {
     "data": {
      "text/html": [
       "<div>\n",
       "<style scoped>\n",
       "    .dataframe tbody tr th:only-of-type {\n",
       "        vertical-align: middle;\n",
       "    }\n",
       "\n",
       "    .dataframe tbody tr th {\n",
       "        vertical-align: top;\n",
       "    }\n",
       "\n",
       "    .dataframe thead th {\n",
       "        text-align: right;\n",
       "    }\n",
       "</style>\n",
       "<table border=\"1\" class=\"dataframe\">\n",
       "  <thead>\n",
       "    <tr style=\"text-align: right;\">\n",
       "      <th></th>\n",
       "      <th>uid</th>\n",
       "      <th>country</th>\n",
       "      <th>gender</th>\n",
       "      <th>spent</th>\n",
       "      <th>purchases</th>\n",
       "      <th>date</th>\n",
       "      <th>group</th>\n",
       "      <th>device</th>\n",
       "    </tr>\n",
       "  </thead>\n",
       "  <tbody>\n",
       "    <tr>\n",
       "      <th>9</th>\n",
       "      <td>11134390</td>\n",
       "      <td>DEU</td>\n",
       "      <td>F</td>\n",
       "      <td>498</td>\n",
       "      <td>2</td>\n",
       "      <td>2017-11-16</td>\n",
       "      <td>GRP B</td>\n",
       "      <td>I</td>\n",
       "    </tr>\n",
       "    <tr>\n",
       "      <th>14</th>\n",
       "      <td>11148089</td>\n",
       "      <td>DEU</td>\n",
       "      <td>F</td>\n",
       "      <td>2396</td>\n",
       "      <td>4</td>\n",
       "      <td>2017-05-04</td>\n",
       "      <td>GRP A</td>\n",
       "      <td>A</td>\n",
       "    </tr>\n",
       "    <tr>\n",
       "      <th>16</th>\n",
       "      <td>11149066</td>\n",
       "      <td>DEU</td>\n",
       "      <td>M</td>\n",
       "      <td>2296</td>\n",
       "      <td>4</td>\n",
       "      <td>2016-05-06</td>\n",
       "      <td>GRP B</td>\n",
       "      <td>A</td>\n",
       "    </tr>\n",
       "    <tr>\n",
       "      <th>24</th>\n",
       "      <td>11159247</td>\n",
       "      <td>DEU</td>\n",
       "      <td>M</td>\n",
       "      <td>4391</td>\n",
       "      <td>9</td>\n",
       "      <td>2017-06-09</td>\n",
       "      <td>GRP A</td>\n",
       "      <td>A</td>\n",
       "    </tr>\n",
       "    <tr>\n",
       "      <th>25</th>\n",
       "      <td>11161660</td>\n",
       "      <td>DEU</td>\n",
       "      <td>M</td>\n",
       "      <td>1197</td>\n",
       "      <td>3</td>\n",
       "      <td>2017-05-25</td>\n",
       "      <td>GRP B</td>\n",
       "      <td>I</td>\n",
       "    </tr>\n",
       "  </tbody>\n",
       "</table>\n",
       "</div>"
      ],
      "text/plain": [
       "         uid country gender  spent  purchases        date  group device\n",
       "9   11134390     DEU      F    498          2  2017-11-16  GRP B      I\n",
       "14  11148089     DEU      F   2396          4  2017-05-04  GRP A      A\n",
       "16  11149066     DEU      M   2296          4  2016-05-06  GRP B      A\n",
       "24  11159247     DEU      M   4391          9  2017-06-09  GRP A      A\n",
       "25  11161660     DEU      M   1197          3  2017-05-25  GRP B      I"
      ]
     },
     "execution_count": 84,
     "metadata": {},
     "output_type": "execute_result"
    }
   ],
   "source": [
    "df_ger = df.loc[df['country'] == 'DEU', :]\n",
    "df_ger.head()"
   ]
  },
  {
   "attachments": {},
   "cell_type": "markdown",
   "metadata": {},
   "source": [
    "### 2.8.1 Parâmetros do Experimento"
   ]
  },
  {
   "cell_type": "code",
   "execution_count": 85,
   "metadata": {},
   "outputs": [],
   "source": [
    "# nível de confiança\n",
    "confidence_ger = 0.9\n",
    "\n",
    "# nível de significancia\n",
    "significance_ger = 0.1\n",
    "\n",
    "# poder estatístico\n",
    "power_ger = 0.8"
   ]
  },
  {
   "cell_type": "code",
   "execution_count": 86,
   "metadata": {},
   "outputs": [
    {
     "data": {
      "text/plain": [
       "mean    1872.342262\n",
       "std     1355.766856\n",
       "Name: spent, dtype: float64"
      ]
     },
     "execution_count": 86,
     "metadata": {},
     "output_type": "execute_result"
    }
   ],
   "source": [
    "# valor de init_metric e std_mestric\n",
    "df_ger['spent'].agg(['mean', 'std'])"
   ]
  },
  {
   "attachments": {},
   "cell_type": "markdown",
   "metadata": {},
   "source": [
    "### 2.8.2 Tamanho da Amostra"
   ]
  },
  {
   "cell_type": "code",
   "execution_count": 87,
   "metadata": {},
   "outputs": [
    {
     "name": "stdout",
     "output_type": "stream",
     "text": [
      "O tamanho total da amostra é de 5188\n",
      "O tamanho da amostra do grupo de controle é de 2594\n",
      "O tamanho da amostra do grupo de tratamento é de 2594\n"
     ]
    }
   ],
   "source": [
    "init_metric_ger = 1872.342262 #métrica atual grupo A\n",
    "end_metric_ger = init_metric_ger * (1 + 0.05) #métrica a alcançar grupo B\n",
    "std_metric_ger = 1355.766856\n",
    "\n",
    "effect_size_ger = (end_metric_ger - init_metric_ger) / std_metric_ger\n",
    "\n",
    "sample_n_ger = sms.tt_ind_solve_power(\n",
    "                effect_size = effect_size_ger, \n",
    "                alpha = significance_ger, \n",
    "                power = power_ger)\n",
    "sample_n_ger = np.round(sample_n_ger).astype(int)\n",
    "\n",
    "print(f'O tamanho total da amostra é de {2*sample_n_ger}')\n",
    "print(f'O tamanho da amostra do grupo de controle é de {sample_n_ger}')\n",
    "print(f'O tamanho da amostra do grupo de tratamento é de {sample_n_ger}')"
   ]
  },
  {
   "attachments": {},
   "cell_type": "markdown",
   "metadata": {},
   "source": [
    "### 2.8.3 Análise descritiva dos dados"
   ]
  },
  {
   "attachments": {},
   "cell_type": "markdown",
   "metadata": {},
   "source": [
    "#### 2.8.3.1 Tamanho do dataset"
   ]
  },
  {
   "cell_type": "code",
   "execution_count": 88,
   "metadata": {},
   "outputs": [
    {
     "name": "stdout",
     "output_type": "stream",
     "text": [
      "Número de colunas: 8\n",
      "Número de linhas: 3696\n"
     ]
    }
   ],
   "source": [
    "print(f'Número de colunas: {df_ger.shape[1]}')\n",
    "print(f'Número de linhas: {df_ger.shape[0]}')"
   ]
  },
  {
   "attachments": {},
   "cell_type": "markdown",
   "metadata": {},
   "source": [
    "## Não há dados os suficiente para fazer o teste"
   ]
  },
  {
   "attachments": {},
   "cell_type": "markdown",
   "metadata": {},
   "source": [
    "#### 2.8.3.2 Homogeinidade dos grupos"
   ]
  },
  {
   "cell_type": "code",
   "execution_count": null,
   "metadata": {},
   "outputs": [],
   "source": [
    "# gender\n",
    "df_ger[['uid', 'group', 'gender']].groupby(['group', 'gender']).count()"
   ]
  },
  {
   "cell_type": "code",
   "execution_count": null,
   "metadata": {},
   "outputs": [],
   "source": [
    "# device\n",
    "df_ger[['uid', 'group', 'device']].groupby(['group', 'device']).count()"
   ]
  },
  {
   "cell_type": "code",
   "execution_count": null,
   "metadata": {},
   "outputs": [],
   "source": [
    "# country/spent/purchases\n",
    "df_ger.groupby('group').agg( {'country': 'count',\n",
    "                           'spent': ['min', 'max', 'mean', 'std'],\n",
    "                           'purchases': ['min', 'max', 'mean', 'std']\n",
    "\n",
    "})"
   ]
  },
  {
   "cell_type": "code",
   "execution_count": null,
   "metadata": {},
   "outputs": [],
   "source": [
    "# homogeinidade geral dos grupos\n",
    "df_ger.loc[df_ger['group'] == 'GRP A', 'purchases'].hist(bins=20);\n",
    "df_ger.loc[df_ger['group'] == 'GRP B', 'purchases'].hist(bins=20);"
   ]
  },
  {
   "cell_type": "code",
   "execution_count": null,
   "metadata": {},
   "outputs": [],
   "source": [
    "df_ger.loc[df_ger['group'] == 'GRP B', 'purchases'].hist(bins=20);\n",
    "df_ger.loc[df_ger['group'] == 'GRP A', 'purchases'].hist(bins=20);"
   ]
  },
  {
   "cell_type": "code",
   "execution_count": null,
   "metadata": {},
   "outputs": [],
   "source": [
    "df_ger[['uid', 'group']].groupby('group').count()"
   ]
  },
  {
   "attachments": {},
   "cell_type": "markdown",
   "metadata": {},
   "source": [
    "### 2.8.4 Teste de hipóteses"
   ]
  },
  {
   "attachments": {},
   "cell_type": "markdown",
   "metadata": {},
   "source": [
    "#### 2.8.4.1 Grupos"
   ]
  },
  {
   "cell_type": "code",
   "execution_count": null,
   "metadata": {},
   "outputs": [],
   "source": [
    "sample_A_ger = df_ger.loc[df_ger['group'] == 'GRP A', 'spent'].sample(n=sample_n, random_state = 42)\n",
    "sample_B_ger = df_ger.loc[df_ger['group'] == 'GRP B', 'spent'].sample(n=sample_n, random_state = 42)"
   ]
  },
  {
   "attachments": {},
   "cell_type": "markdown",
   "metadata": {},
   "source": [
    "#### 2.8.4.1 Métricas"
   ]
  },
  {
   "cell_type": "code",
   "execution_count": null,
   "metadata": {},
   "outputs": [],
   "source": [
    "sample_A_ger_mean = np.round(sample_A_ger.mean(), 2)\n",
    "sample_A_ger_std = np.round(sample_A_ger.std(), 2)\n",
    "sample_B_ger_mean = np.round(sample_B_ger.mean(), 2)\n",
    "sample_B_ger_std = np.round(sample_B_ger.std(), 2)\n",
    "\n",
    "print(f'Média da amostra do grupo A: {sample_A_ger_mean} +/- {sample_A_ger_std}')\n",
    "print(f'Média da amostra do grupo A: {sample_B_ger_mean} +/- {sample_B_ger_std}')"
   ]
  },
  {
   "attachments": {},
   "cell_type": "markdown",
   "metadata": {},
   "source": [
    "### 2.8.5 Inferência Estatística"
   ]
  },
  {
   "cell_type": "code",
   "execution_count": null,
   "metadata": {},
   "outputs": [],
   "source": [
    "t_test, p_value = stats.ttest_ind( sample_A_ger, sample_B_ger)\n",
    "print(p_value)"
   ]
  },
  {
   "attachments": {},
   "cell_type": "markdown",
   "metadata": {},
   "source": [
    "### 2.8.5 Conclusão"
   ]
  },
  {
   "cell_type": "code",
   "execution_count": null,
   "metadata": {},
   "outputs": [],
   "source": [
    "if p_value < significance:\n",
    "    print('Rejeita a hipótese nula: O preenchimento automático deu resultado')\n",
    "else:\n",
    "    print('Falha em rejeitar a hipótese nula: Não temos evidências para dizer que o preenchimento automático trouxe mudança')\n"
   ]
  },
  {
   "attachments": {},
   "cell_type": "markdown",
   "metadata": {},
   "source": [
    "## 2.9 França"
   ]
  },
  {
   "cell_type": "code",
   "execution_count": 89,
   "metadata": {},
   "outputs": [
    {
     "data": {
      "text/html": [
       "<div>\n",
       "<style scoped>\n",
       "    .dataframe tbody tr th:only-of-type {\n",
       "        vertical-align: middle;\n",
       "    }\n",
       "\n",
       "    .dataframe tbody tr th {\n",
       "        vertical-align: top;\n",
       "    }\n",
       "\n",
       "    .dataframe thead th {\n",
       "        text-align: right;\n",
       "    }\n",
       "</style>\n",
       "<table border=\"1\" class=\"dataframe\">\n",
       "  <thead>\n",
       "    <tr style=\"text-align: right;\">\n",
       "      <th></th>\n",
       "      <th>uid</th>\n",
       "      <th>country</th>\n",
       "      <th>gender</th>\n",
       "      <th>spent</th>\n",
       "      <th>purchases</th>\n",
       "      <th>date</th>\n",
       "      <th>group</th>\n",
       "      <th>device</th>\n",
       "    </tr>\n",
       "  </thead>\n",
       "  <tbody>\n",
       "    <tr>\n",
       "      <th>20</th>\n",
       "      <td>11154371</td>\n",
       "      <td>FRA</td>\n",
       "      <td>F</td>\n",
       "      <td>1495</td>\n",
       "      <td>5</td>\n",
       "      <td>2015-09-27</td>\n",
       "      <td>GRP B</td>\n",
       "      <td>A</td>\n",
       "    </tr>\n",
       "    <tr>\n",
       "      <th>22</th>\n",
       "      <td>11158482</td>\n",
       "      <td>FRA</td>\n",
       "      <td>F</td>\n",
       "      <td>1696</td>\n",
       "      <td>4</td>\n",
       "      <td>2016-06-28</td>\n",
       "      <td>GRP B</td>\n",
       "      <td>I</td>\n",
       "    </tr>\n",
       "    <tr>\n",
       "      <th>35</th>\n",
       "      <td>11176494</td>\n",
       "      <td>FRA</td>\n",
       "      <td>M</td>\n",
       "      <td>798</td>\n",
       "      <td>2</td>\n",
       "      <td>2017-10-13</td>\n",
       "      <td>GRP A</td>\n",
       "      <td>A</td>\n",
       "    </tr>\n",
       "    <tr>\n",
       "      <th>48</th>\n",
       "      <td>11200044</td>\n",
       "      <td>FRA</td>\n",
       "      <td>F</td>\n",
       "      <td>1895</td>\n",
       "      <td>5</td>\n",
       "      <td>2017-01-30</td>\n",
       "      <td>GRP A</td>\n",
       "      <td>A</td>\n",
       "    </tr>\n",
       "    <tr>\n",
       "      <th>51</th>\n",
       "      <td>11209959</td>\n",
       "      <td>FRA</td>\n",
       "      <td>F</td>\n",
       "      <td>797</td>\n",
       "      <td>3</td>\n",
       "      <td>2017-02-08</td>\n",
       "      <td>GRP A</td>\n",
       "      <td>I</td>\n",
       "    </tr>\n",
       "  </tbody>\n",
       "</table>\n",
       "</div>"
      ],
      "text/plain": [
       "         uid country gender  spent  purchases        date  group device\n",
       "20  11154371     FRA      F   1495          5  2015-09-27  GRP B      A\n",
       "22  11158482     FRA      F   1696          4  2016-06-28  GRP B      I\n",
       "35  11176494     FRA      M    798          2  2017-10-13  GRP A      A\n",
       "48  11200044     FRA      F   1895          5  2017-01-30  GRP A      A\n",
       "51  11209959     FRA      F    797          3  2017-02-08  GRP A      I"
      ]
     },
     "execution_count": 89,
     "metadata": {},
     "output_type": "execute_result"
    }
   ],
   "source": [
    "df_fra = df.loc[df['country'] == 'FRA', :]\n",
    "df_fra.head()"
   ]
  },
  {
   "attachments": {},
   "cell_type": "markdown",
   "metadata": {},
   "source": [
    "### 2.9.1 Parâmetros do Experimento"
   ]
  },
  {
   "cell_type": "code",
   "execution_count": 90,
   "metadata": {},
   "outputs": [],
   "source": [
    "# nível de confiança\n",
    "confidence_fra = 0.9\n",
    "\n",
    "# nível de significancia\n",
    "significance_fra = 0.1\n",
    "\n",
    "# poder estatístico\n",
    "power_fra = 0.8"
   ]
  },
  {
   "cell_type": "code",
   "execution_count": 91,
   "metadata": {},
   "outputs": [
    {
     "data": {
      "text/plain": [
       "mean    1897.000704\n",
       "std     1372.015044\n",
       "Name: spent, dtype: float64"
      ]
     },
     "execution_count": 91,
     "metadata": {},
     "output_type": "execute_result"
    }
   ],
   "source": [
    "# valor de init_metric e std_mestric\n",
    "df_fra['spent'].agg(['mean', 'std'])"
   ]
  },
  {
   "attachments": {},
   "cell_type": "markdown",
   "metadata": {},
   "source": [
    "### 2.2.2 Tamanho da Amostra"
   ]
  },
  {
   "cell_type": "code",
   "execution_count": 92,
   "metadata": {},
   "outputs": [
    {
     "name": "stdout",
     "output_type": "stream",
     "text": [
      "O tamanho total da amostra é de 5176\n",
      "O tamanho da amostra do grupo de controle é de 2588\n",
      "O tamanho da amostra do grupo de tratamento é de 2588\n"
     ]
    }
   ],
   "source": [
    "init_metric_fra = 1897.000704 #métrica atual grupo A\n",
    "end_metric_fra = init_metric_fra * (1 + 0.05) #métrica a alcançar grupo B\n",
    "std_metric_fra = 1372.015044\n",
    "\n",
    "effect_size_fra = (end_metric_fra - init_metric_fra) / std_metric_fra\n",
    "\n",
    "sample_n_fra = sms.tt_ind_solve_power(\n",
    "                effect_size = effect_size_fra, \n",
    "                alpha = significance_fra, \n",
    "                power = power_fra)\n",
    "sample_n_fra = np.round(sample_n_fra).astype(int)\n",
    "\n",
    "print(f'O tamanho total da amostra é de {2*sample_n_fra}')\n",
    "print(f'O tamanho da amostra do grupo de controle é de {sample_n_fra}')\n",
    "print(f'O tamanho da amostra do grupo de tratamento é de {sample_n_fra}')"
   ]
  },
  {
   "attachments": {},
   "cell_type": "markdown",
   "metadata": {},
   "source": [
    "### 2.9.3 Análise descritiva dos dados"
   ]
  },
  {
   "attachments": {},
   "cell_type": "markdown",
   "metadata": {},
   "source": [
    "#### 2.9.3.1 Tamanho do dataset"
   ]
  },
  {
   "cell_type": "code",
   "execution_count": 93,
   "metadata": {},
   "outputs": [
    {
     "name": "stdout",
     "output_type": "stream",
     "text": [
      "Número de colunas: 8\n",
      "Número de linhas: 2842\n"
     ]
    }
   ],
   "source": [
    "print(f'Número de colunas: {df_fra.shape[1]}')\n",
    "print(f'Número de linhas: {df_fra.shape[0]}')"
   ]
  },
  {
   "cell_type": "markdown",
   "metadata": {},
   "source": [
    "## Não há dados os suficiente para fazer o teste"
   ]
  },
  {
   "attachments": {},
   "cell_type": "markdown",
   "metadata": {},
   "source": [
    "#### 2.9.3.2 Homogeinidade dos grupos"
   ]
  },
  {
   "cell_type": "code",
   "execution_count": null,
   "metadata": {},
   "outputs": [],
   "source": [
    "# gender\n",
    "df_fra[['uid', 'group', 'gender']].groupby(['group', 'gender']).count()"
   ]
  },
  {
   "cell_type": "code",
   "execution_count": null,
   "metadata": {},
   "outputs": [],
   "source": [
    "# device\n",
    "df_fra[['uid', 'group', 'device']].groupby(['group', 'device']).count()"
   ]
  },
  {
   "cell_type": "code",
   "execution_count": null,
   "metadata": {},
   "outputs": [],
   "source": [
    "# country/spent/purchases\n",
    "df_fra.groupby('group').agg( {'country': 'count',\n",
    "                           'spent': ['min', 'max', 'mean', 'std'],\n",
    "                           'purchases': ['min', 'max', 'mean', 'std']\n",
    "\n",
    "})"
   ]
  },
  {
   "cell_type": "code",
   "execution_count": null,
   "metadata": {},
   "outputs": [],
   "source": [
    "# homogeinidade geral dos grupos\n",
    "df_fra.loc[df_fra['group'] == 'GRP A', 'purchases'].hist(bins=20);\n",
    "df_fra.loc[df_fra['group'] == 'GRP B', 'purchases'].hist(bins=20);"
   ]
  },
  {
   "cell_type": "code",
   "execution_count": null,
   "metadata": {},
   "outputs": [],
   "source": [
    "df_fra.loc[df_fra['group'] == 'GRP B', 'purchases'].hist(bins=20);\n",
    "df_fra.loc[df_fra['group'] == 'GRP A', 'purchases'].hist(bins=20);"
   ]
  },
  {
   "cell_type": "code",
   "execution_count": null,
   "metadata": {},
   "outputs": [],
   "source": [
    "df_fra[['uid', 'group']].groupby('group').count()"
   ]
  },
  {
   "attachments": {},
   "cell_type": "markdown",
   "metadata": {},
   "source": [
    "### 2.9.4 Teste de hipóteses"
   ]
  },
  {
   "attachments": {},
   "cell_type": "markdown",
   "metadata": {},
   "source": [
    "#### 2.9.4.1 Grupos"
   ]
  },
  {
   "cell_type": "code",
   "execution_count": null,
   "metadata": {},
   "outputs": [],
   "source": [
    "sample_A_fra = df_fra.loc[df_fra['group'] == 'GRP A', 'spent'].sample(n=sample_n, random_state = 42)\n",
    "sample_B_fra = df_fra.loc[df_fra['group'] == 'GRP B', 'spent'].sample(n=sample_n, random_state = 42)"
   ]
  },
  {
   "attachments": {},
   "cell_type": "markdown",
   "metadata": {},
   "source": [
    "#### 2.9.4.1 Métricas"
   ]
  },
  {
   "cell_type": "code",
   "execution_count": null,
   "metadata": {},
   "outputs": [],
   "source": [
    "sample_A_fra_mean = np.round(sample_A_fra.mean(), 2)\n",
    "sample_A_fra_std = np.round(sample_A_fra.std(), 2)\n",
    "sample_B_fra_mean = np.round(sample_B_fra.mean(), 2)\n",
    "sample_B_fra_std = np.round(sample_B_fra.std(), 2)\n",
    "\n",
    "print(f'Média da amostra do grupo A: {sample_A_fra_mean} +/- {sample_A_fra_std}')\n",
    "print(f'Média da amostra do grupo A: {sample_B_fra_mean} +/- {sample_B_fra_std}')"
   ]
  },
  {
   "attachments": {},
   "cell_type": "markdown",
   "metadata": {},
   "source": [
    "### 2.9.5 Inferência Estatística"
   ]
  },
  {
   "cell_type": "code",
   "execution_count": null,
   "metadata": {},
   "outputs": [],
   "source": [
    "t_test, p_value = stats.ttest_ind( sample_A_fra, sample_B_fra)\n",
    "print(p_value)"
   ]
  },
  {
   "attachments": {},
   "cell_type": "markdown",
   "metadata": {},
   "source": [
    "### 2.9.5 Conclusão"
   ]
  },
  {
   "cell_type": "code",
   "execution_count": null,
   "metadata": {},
   "outputs": [],
   "source": [
    "if p_value < significance:\n",
    "    print('Rejeita a hipótese nula: O preenchimento automático deu resultado')\n",
    "else:\n",
    "    print('Falha em rejeitar a hipótese nula: Não temos evidências para dizer que o preenchimento automático trouxe mudança')\n"
   ]
  },
  {
   "attachments": {},
   "cell_type": "markdown",
   "metadata": {},
   "source": [
    "## 2.10 Austrália"
   ]
  },
  {
   "cell_type": "code",
   "execution_count": 94,
   "metadata": {},
   "outputs": [
    {
     "data": {
      "text/html": [
       "<div>\n",
       "<style scoped>\n",
       "    .dataframe tbody tr th:only-of-type {\n",
       "        vertical-align: middle;\n",
       "    }\n",
       "\n",
       "    .dataframe tbody tr th {\n",
       "        vertical-align: top;\n",
       "    }\n",
       "\n",
       "    .dataframe thead th {\n",
       "        text-align: right;\n",
       "    }\n",
       "</style>\n",
       "<table border=\"1\" class=\"dataframe\">\n",
       "  <thead>\n",
       "    <tr style=\"text-align: right;\">\n",
       "      <th></th>\n",
       "      <th>uid</th>\n",
       "      <th>country</th>\n",
       "      <th>gender</th>\n",
       "      <th>spent</th>\n",
       "      <th>purchases</th>\n",
       "      <th>date</th>\n",
       "      <th>group</th>\n",
       "      <th>device</th>\n",
       "    </tr>\n",
       "  </thead>\n",
       "  <tbody>\n",
       "    <tr>\n",
       "      <th>23</th>\n",
       "      <td>11159147</td>\n",
       "      <td>AUS</td>\n",
       "      <td>F</td>\n",
       "      <td>2594</td>\n",
       "      <td>6</td>\n",
       "      <td>2017-02-12</td>\n",
       "      <td>GRP B</td>\n",
       "      <td>A</td>\n",
       "    </tr>\n",
       "    <tr>\n",
       "      <th>74</th>\n",
       "      <td>11243475</td>\n",
       "      <td>AUS</td>\n",
       "      <td>M</td>\n",
       "      <td>599</td>\n",
       "      <td>1</td>\n",
       "      <td>2016-02-25</td>\n",
       "      <td>GRP A</td>\n",
       "      <td>A</td>\n",
       "    </tr>\n",
       "    <tr>\n",
       "      <th>120</th>\n",
       "      <td>11327700</td>\n",
       "      <td>AUS</td>\n",
       "      <td>M</td>\n",
       "      <td>4789</td>\n",
       "      <td>11</td>\n",
       "      <td>2017-06-06</td>\n",
       "      <td>GRP B</td>\n",
       "      <td>I</td>\n",
       "    </tr>\n",
       "    <tr>\n",
       "      <th>267</th>\n",
       "      <td>11618390</td>\n",
       "      <td>AUS</td>\n",
       "      <td>M</td>\n",
       "      <td>1297</td>\n",
       "      <td>3</td>\n",
       "      <td>2016-10-16</td>\n",
       "      <td>GRP A</td>\n",
       "      <td>I</td>\n",
       "    </tr>\n",
       "    <tr>\n",
       "      <th>311</th>\n",
       "      <td>11718784</td>\n",
       "      <td>AUS</td>\n",
       "      <td>F</td>\n",
       "      <td>1096</td>\n",
       "      <td>4</td>\n",
       "      <td>2017-03-13</td>\n",
       "      <td>GRP B</td>\n",
       "      <td>A</td>\n",
       "    </tr>\n",
       "  </tbody>\n",
       "</table>\n",
       "</div>"
      ],
      "text/plain": [
       "          uid country gender  spent  purchases        date  group device\n",
       "23   11159147     AUS      F   2594          6  2017-02-12  GRP B      A\n",
       "74   11243475     AUS      M    599          1  2016-02-25  GRP A      A\n",
       "120  11327700     AUS      M   4789         11  2017-06-06  GRP B      I\n",
       "267  11618390     AUS      M   1297          3  2016-10-16  GRP A      I\n",
       "311  11718784     AUS      F   1096          4  2017-03-13  GRP B      A"
      ]
     },
     "execution_count": 94,
     "metadata": {},
     "output_type": "execute_result"
    }
   ],
   "source": [
    "df_aus = df.loc[df['country'] == 'AUS', :]\n",
    "df_aus.head()"
   ]
  },
  {
   "attachments": {},
   "cell_type": "markdown",
   "metadata": {},
   "source": [
    "### 2.10.1 Parâmetros do Experimento"
   ]
  },
  {
   "cell_type": "code",
   "execution_count": 95,
   "metadata": {},
   "outputs": [],
   "source": [
    "# nível de confiança\n",
    "confidence_aus = 0.9\n",
    "\n",
    "# nível de significancia\n",
    "significance_aus = 0.1\n",
    "\n",
    "# poder estatístico\n",
    "power_aus = 0.8"
   ]
  },
  {
   "cell_type": "code",
   "execution_count": 96,
   "metadata": {},
   "outputs": [
    {
     "data": {
      "text/plain": [
       "mean    1884.737463\n",
       "std     1364.955751\n",
       "Name: spent, dtype: float64"
      ]
     },
     "execution_count": 96,
     "metadata": {},
     "output_type": "execute_result"
    }
   ],
   "source": [
    "# valor de init_metric e std_mestric\n",
    "df_aus['spent'].agg(['mean', 'std'])"
   ]
  },
  {
   "attachments": {},
   "cell_type": "markdown",
   "metadata": {},
   "source": [
    "### 2.10.2 Tamanho da Amostra"
   ]
  },
  {
   "cell_type": "code",
   "execution_count": 97,
   "metadata": {},
   "outputs": [
    {
     "name": "stdout",
     "output_type": "stream",
     "text": [
      "O tamanho total da amostra é de 5190\n",
      "O tamanho da amostra do grupo de controle é de 2595\n",
      "O tamanho da amostra do grupo de tratamento é de 2595\n"
     ]
    }
   ],
   "source": [
    "init_metric_aus = 1884.737463 #métrica atual grupo A\n",
    "end_metric_aus = init_metric_aus * (1 + 0.05) #métrica a alcançar grupo B\n",
    "std_metric_aus = 1364.955751\n",
    "\n",
    "effect_size_aus = (end_metric_aus - init_metric_aus) / std_metric_aus\n",
    "\n",
    "sample_n_aus = sms.tt_ind_solve_power(\n",
    "                effect_size = effect_size_aus, \n",
    "                alpha = significance_aus, \n",
    "                power = power_aus)\n",
    "sample_n_aus = np.round(sample_n_aus).astype(int)\n",
    "\n",
    "print(f'O tamanho total da amostra é de {2*sample_n_aus}')\n",
    "print(f'O tamanho da amostra do grupo de controle é de {sample_n_aus}')\n",
    "print(f'O tamanho da amostra do grupo de tratamento é de {sample_n_aus}')"
   ]
  },
  {
   "attachments": {},
   "cell_type": "markdown",
   "metadata": {},
   "source": [
    "### 2.10.3 Análise descritiva dos dados"
   ]
  },
  {
   "attachments": {},
   "cell_type": "markdown",
   "metadata": {},
   "source": [
    "#### 2.10.3.1 Tamanho do dataset"
   ]
  },
  {
   "cell_type": "code",
   "execution_count": 98,
   "metadata": {},
   "outputs": [
    {
     "name": "stdout",
     "output_type": "stream",
     "text": [
      "Número de colunas: 8\n",
      "Número de linhas: 1017\n"
     ]
    }
   ],
   "source": [
    "print(f'Número de colunas: {df_aus.shape[1]}')\n",
    "print(f'Número de linhas: {df_aus.shape[0]}')"
   ]
  },
  {
   "cell_type": "markdown",
   "metadata": {},
   "source": [
    "## Não há dados os suficiente para fazer o teste"
   ]
  },
  {
   "attachments": {},
   "cell_type": "markdown",
   "metadata": {},
   "source": [
    "#### 2.10.3.2 Homogeinidade dos grupos"
   ]
  },
  {
   "cell_type": "code",
   "execution_count": null,
   "metadata": {},
   "outputs": [],
   "source": [
    "# gender\n",
    "df_aus[['uid', 'group', 'gender']].groupby(['group', 'gender']).count()"
   ]
  },
  {
   "cell_type": "code",
   "execution_count": null,
   "metadata": {},
   "outputs": [],
   "source": [
    "# device\n",
    "df_aus[['uid', 'group', 'device']].groupby(['group', 'device']).count()"
   ]
  },
  {
   "cell_type": "code",
   "execution_count": null,
   "metadata": {},
   "outputs": [],
   "source": [
    "# country/spent/purchases\n",
    "df_aus.groupby('group').agg( {'country': 'count',\n",
    "                           'spent': ['min', 'max', 'mean', 'std'],\n",
    "                           'purchases': ['min', 'max', 'mean', 'std']\n",
    "\n",
    "})"
   ]
  },
  {
   "cell_type": "code",
   "execution_count": null,
   "metadata": {},
   "outputs": [],
   "source": [
    "# homogeinidade geral dos grupos\n",
    "df_aus.loc[df_aus['group'] == 'GRP A', 'purchases'].hist(bins=20);\n",
    "df_aus.loc[df_aus['group'] == 'GRP B', 'purchases'].hist(bins=20);"
   ]
  },
  {
   "cell_type": "code",
   "execution_count": null,
   "metadata": {},
   "outputs": [],
   "source": [
    "df_aus.loc[df_aus['group'] == 'GRP B', 'purchases'].hist(bins=20);\n",
    "df_aus.loc[df_aus['group'] == 'GRP A', 'purchases'].hist(bins=20);"
   ]
  },
  {
   "cell_type": "code",
   "execution_count": null,
   "metadata": {},
   "outputs": [],
   "source": [
    "df_aus[['uid', 'group']].groupby('group').count()"
   ]
  },
  {
   "attachments": {},
   "cell_type": "markdown",
   "metadata": {},
   "source": [
    "### 2.10.4 Teste de hipóteses"
   ]
  },
  {
   "attachments": {},
   "cell_type": "markdown",
   "metadata": {},
   "source": [
    "#### 2.10.4.1 Grupos"
   ]
  },
  {
   "cell_type": "code",
   "execution_count": null,
   "metadata": {},
   "outputs": [],
   "source": [
    "sample_A_aus = df_aus.loc[df_aus['group'] == 'GRP A', 'spent'].sample(n=sample_n, random_state = 42)\n",
    "sample_B_aus = df_aus.loc[df_aus['group'] == 'GRP B', 'spent'].sample(n=sample_n, random_state = 42)"
   ]
  },
  {
   "attachments": {},
   "cell_type": "markdown",
   "metadata": {},
   "source": [
    "#### 2.10.4.1 Métricas"
   ]
  },
  {
   "cell_type": "code",
   "execution_count": null,
   "metadata": {},
   "outputs": [],
   "source": [
    "sample_A_aus_mean = np.round(sample_A_aus.mean(), 2)\n",
    "sample_A_aus_std = np.round(sample_A_aus.std(), 2)\n",
    "sample_B_aus_mean = np.round(sample_B_aus.mean(), 2)\n",
    "sample_B_aus_std = np.round(sample_B_aus.std(), 2)\n",
    "\n",
    "print(f'Média da amostra do grupo A: {sample_A_aus_mean} +/- {sample_A_aus_std}')\n",
    "print(f'Média da amostra do grupo A: {sample_B_aus_mean} +/- {sample_B_aus_std}')"
   ]
  },
  {
   "attachments": {},
   "cell_type": "markdown",
   "metadata": {},
   "source": [
    "### 2.10.5 Inferência Estatística"
   ]
  },
  {
   "cell_type": "code",
   "execution_count": null,
   "metadata": {},
   "outputs": [],
   "source": [
    "t_test, p_value = stats.ttest_ind( sample_A_aus, sample_B_aus)\n",
    "print(p_value)"
   ]
  },
  {
   "attachments": {},
   "cell_type": "markdown",
   "metadata": {},
   "source": [
    "### 2.10.5 Conclusão"
   ]
  },
  {
   "cell_type": "code",
   "execution_count": null,
   "metadata": {},
   "outputs": [],
   "source": [
    "if p_value < significance:\n",
    "    print('Rejeita a hipótese nula: O preenchimento automático deu resultado')\n",
    "else:\n",
    "    print('Falha em rejeitar a hipótese nula: Não temos evidências para dizer que o preenchimento automático trouxe mudança')\n"
   ]
  },
  {
   "attachments": {},
   "cell_type": "markdown",
   "metadata": {},
   "source": [
    "## 2.11 Canadá"
   ]
  },
  {
   "cell_type": "code",
   "execution_count": 99,
   "metadata": {},
   "outputs": [
    {
     "data": {
      "text/html": [
       "<div>\n",
       "<style scoped>\n",
       "    .dataframe tbody tr th:only-of-type {\n",
       "        vertical-align: middle;\n",
       "    }\n",
       "\n",
       "    .dataframe tbody tr th {\n",
       "        vertical-align: top;\n",
       "    }\n",
       "\n",
       "    .dataframe thead th {\n",
       "        text-align: right;\n",
       "    }\n",
       "</style>\n",
       "<table border=\"1\" class=\"dataframe\">\n",
       "  <thead>\n",
       "    <tr style=\"text-align: right;\">\n",
       "      <th></th>\n",
       "      <th>uid</th>\n",
       "      <th>country</th>\n",
       "      <th>gender</th>\n",
       "      <th>spent</th>\n",
       "      <th>purchases</th>\n",
       "      <th>date</th>\n",
       "      <th>group</th>\n",
       "      <th>device</th>\n",
       "    </tr>\n",
       "  </thead>\n",
       "  <tbody>\n",
       "    <tr>\n",
       "      <th>27</th>\n",
       "      <td>11166921</td>\n",
       "      <td>CAN</td>\n",
       "      <td>F</td>\n",
       "      <td>1596</td>\n",
       "      <td>4</td>\n",
       "      <td>2017-04-10</td>\n",
       "      <td>GRP A</td>\n",
       "      <td>I</td>\n",
       "    </tr>\n",
       "    <tr>\n",
       "      <th>29</th>\n",
       "      <td>11169359</td>\n",
       "      <td>CAN</td>\n",
       "      <td>F</td>\n",
       "      <td>1596</td>\n",
       "      <td>4</td>\n",
       "      <td>2017-10-20</td>\n",
       "      <td>GRP B</td>\n",
       "      <td>I</td>\n",
       "    </tr>\n",
       "    <tr>\n",
       "      <th>54</th>\n",
       "      <td>11214941</td>\n",
       "      <td>CAN</td>\n",
       "      <td>M</td>\n",
       "      <td>2395</td>\n",
       "      <td>5</td>\n",
       "      <td>2015-01-06</td>\n",
       "      <td>GRP A</td>\n",
       "      <td>A</td>\n",
       "    </tr>\n",
       "    <tr>\n",
       "      <th>77</th>\n",
       "      <td>11248067</td>\n",
       "      <td>CAN</td>\n",
       "      <td>M</td>\n",
       "      <td>3091</td>\n",
       "      <td>9</td>\n",
       "      <td>2016-07-25</td>\n",
       "      <td>GRP A</td>\n",
       "      <td>A</td>\n",
       "    </tr>\n",
       "    <tr>\n",
       "      <th>133</th>\n",
       "      <td>11355479</td>\n",
       "      <td>CAN</td>\n",
       "      <td>F</td>\n",
       "      <td>3195</td>\n",
       "      <td>5</td>\n",
       "      <td>2017-03-12</td>\n",
       "      <td>GRP A</td>\n",
       "      <td>A</td>\n",
       "    </tr>\n",
       "  </tbody>\n",
       "</table>\n",
       "</div>"
      ],
      "text/plain": [
       "          uid country gender  spent  purchases        date  group device\n",
       "27   11166921     CAN      F   1596          4  2017-04-10  GRP A      I\n",
       "29   11169359     CAN      F   1596          4  2017-10-20  GRP B      I\n",
       "54   11214941     CAN      M   2395          5  2015-01-06  GRP A      A\n",
       "77   11248067     CAN      M   3091          9  2016-07-25  GRP A      A\n",
       "133  11355479     CAN      F   3195          5  2017-03-12  GRP A      A"
      ]
     },
     "execution_count": 99,
     "metadata": {},
     "output_type": "execute_result"
    }
   ],
   "source": [
    "df_can = df.loc[df['country'] == 'CAN', :]\n",
    "df_can.head()"
   ]
  },
  {
   "attachments": {},
   "cell_type": "markdown",
   "metadata": {},
   "source": [
    "### 2.11.1 Parâmetros do Experimento"
   ]
  },
  {
   "cell_type": "code",
   "execution_count": 100,
   "metadata": {},
   "outputs": [],
   "source": [
    "# nível de confiança\n",
    "confidence_can = 0.9\n",
    "\n",
    "# nível de significancia\n",
    "significance_can = 0.1\n",
    "\n",
    "# poder estatístico\n",
    "power_can = 0.8"
   ]
  },
  {
   "cell_type": "code",
   "execution_count": 101,
   "metadata": {},
   "outputs": [
    {
     "data": {
      "text/plain": [
       "mean    1873.894911\n",
       "std     1347.022569\n",
       "Name: spent, dtype: float64"
      ]
     },
     "execution_count": 101,
     "metadata": {},
     "output_type": "execute_result"
    }
   ],
   "source": [
    "# valor de init_metric e std_mestric\n",
    "df_can['spent'].agg(['mean', 'std'])"
   ]
  },
  {
   "attachments": {},
   "cell_type": "markdown",
   "metadata": {},
   "source": [
    "### 2.11.2 Tamanho da Amostra"
   ]
  },
  {
   "cell_type": "code",
   "execution_count": 102,
   "metadata": {},
   "outputs": [
    {
     "name": "stdout",
     "output_type": "stream",
     "text": [
      "O tamanho total da amostra é de 5112\n",
      "O tamanho da amostra do grupo de controle é de 2556\n",
      "O tamanho da amostra do grupo de tratamento é de 2556\n"
     ]
    }
   ],
   "source": [
    "init_metric_can = 1873.894911 #métrica atual grupo A\n",
    "end_metric_can = init_metric_can * (1 + 0.05) #métrica a alcançar grupo B\n",
    "std_metric_can = 1347.022569\n",
    "\n",
    "effect_size_can = (end_metric_can - init_metric_can) / std_metric_can\n",
    "\n",
    "sample_n_can = sms.tt_ind_solve_power(\n",
    "                effect_size = effect_size_can, \n",
    "                alpha = significance_can, \n",
    "                power = power_can)\n",
    "sample_n_can = np.round(sample_n_can).astype(int)\n",
    "\n",
    "print(f'O tamanho total da amostra é de {2*sample_n_can}')\n",
    "print(f'O tamanho da amostra do grupo de controle é de {sample_n_can}')\n",
    "print(f'O tamanho da amostra do grupo de tratamento é de {sample_n_can}')"
   ]
  },
  {
   "attachments": {},
   "cell_type": "markdown",
   "metadata": {},
   "source": [
    "### 2.11.3 Análise descritiva dos dados"
   ]
  },
  {
   "attachments": {},
   "cell_type": "markdown",
   "metadata": {},
   "source": [
    "#### 2.11.3.1 Tamanho do dataset"
   ]
  },
  {
   "cell_type": "code",
   "execution_count": 103,
   "metadata": {},
   "outputs": [
    {
     "name": "stdout",
     "output_type": "stream",
     "text": [
      "Número de colunas: 8\n",
      "Número de linhas: 1513\n"
     ]
    }
   ],
   "source": [
    "print(f'Número de colunas: {df_can.shape[1]}')\n",
    "print(f'Número de linhas: {df_can.shape[0]}')"
   ]
  },
  {
   "cell_type": "markdown",
   "metadata": {},
   "source": [
    "## Não há dados os suficiente para fazer o teste"
   ]
  },
  {
   "attachments": {},
   "cell_type": "markdown",
   "metadata": {},
   "source": [
    "#### 2.11.3.2 Homogeinidade dos grupos"
   ]
  },
  {
   "cell_type": "code",
   "execution_count": null,
   "metadata": {},
   "outputs": [],
   "source": [
    "# gender\n",
    "df_can[['uid', 'group', 'gender']].groupby(['group', 'gender']).count()"
   ]
  },
  {
   "cell_type": "code",
   "execution_count": null,
   "metadata": {},
   "outputs": [],
   "source": [
    "# device\n",
    "df_can[['uid', 'group', 'device']].groupby(['group', 'device']).count()"
   ]
  },
  {
   "cell_type": "code",
   "execution_count": null,
   "metadata": {},
   "outputs": [],
   "source": [
    "# country/spent/purchases\n",
    "df_can.groupby('group').agg( {'country': 'count',\n",
    "                           'spent': ['min', 'max', 'mean', 'std'],\n",
    "                           'purchases': ['min', 'max', 'mean', 'std']\n",
    "\n",
    "})"
   ]
  },
  {
   "cell_type": "code",
   "execution_count": null,
   "metadata": {},
   "outputs": [],
   "source": [
    "# homogeinidade geral dos grupos\n",
    "df_can.loc[df_can['group'] == 'GRP A', 'purchases'].hist(bins=20);\n",
    "df_can.loc[df_can['group'] == 'GRP B', 'purchases'].hist(bins=20);"
   ]
  },
  {
   "cell_type": "code",
   "execution_count": null,
   "metadata": {},
   "outputs": [],
   "source": [
    "df_can.loc[df_can['group'] == 'GRP B', 'purchases'].hist(bins=20);\n",
    "df_can.loc[df_can['group'] == 'GRP A', 'purchases'].hist(bins=20);"
   ]
  },
  {
   "cell_type": "code",
   "execution_count": null,
   "metadata": {},
   "outputs": [],
   "source": [
    "df_can[['uid', 'group']].groupby('group').count()"
   ]
  },
  {
   "attachments": {},
   "cell_type": "markdown",
   "metadata": {},
   "source": [
    "### 2.11.4 Teste de hipóteses"
   ]
  },
  {
   "attachments": {},
   "cell_type": "markdown",
   "metadata": {},
   "source": [
    "#### 2.11.4.1 Grupos"
   ]
  },
  {
   "cell_type": "code",
   "execution_count": null,
   "metadata": {},
   "outputs": [],
   "source": [
    "sample_A_can = df_can.loc[df_can['group'] == 'GRP A', 'spent'].sample(n=sample_n, random_state = 42)\n",
    "sample_B_can = df_can.loc[df_can['group'] == 'GRP B', 'spent'].sample(n=sample_n, random_state = 42)"
   ]
  },
  {
   "attachments": {},
   "cell_type": "markdown",
   "metadata": {},
   "source": [
    "#### 2.11.4.1 Métricas"
   ]
  },
  {
   "cell_type": "code",
   "execution_count": null,
   "metadata": {},
   "outputs": [],
   "source": [
    "sample_A_can_mean = np.round(sample_A_can.mean(), 2)\n",
    "sample_A_can_std = np.round(sample_A_can.std(), 2)\n",
    "sample_B_can_mean = np.round(sample_B_can.mean(), 2)\n",
    "sample_B_can_std = np.round(sample_B_can.std(), 2)\n",
    "\n",
    "print(f'Média da amostra do grupo A: {sample_A_can_mean} +/- {sample_A_can_std}')\n",
    "print(f'Média da amostra do grupo A: {sample_B_can_mean} +/- {sample_B_can_std}')"
   ]
  },
  {
   "attachments": {},
   "cell_type": "markdown",
   "metadata": {},
   "source": [
    "### 2.11.5 Inferência Estatística"
   ]
  },
  {
   "cell_type": "code",
   "execution_count": null,
   "metadata": {},
   "outputs": [],
   "source": [
    "t_test, p_value = stats.ttest_ind( sample_A_can, sample_B_can)\n",
    "print(p_value)"
   ]
  },
  {
   "attachments": {},
   "cell_type": "markdown",
   "metadata": {},
   "source": [
    "### 2.11.5 Conclusão"
   ]
  },
  {
   "cell_type": "code",
   "execution_count": null,
   "metadata": {},
   "outputs": [],
   "source": [
    "if p_value < significance:\n",
    "    print('Rejeita a hipótese nula: O preenchimento automático deu resultado')\n",
    "else:\n",
    "    print('Falha em rejeitar a hipótese nula: Não temos evidências para dizer que o preenchimento automático trouxe mudança')\n"
   ]
  },
  {
   "cell_type": "markdown",
   "metadata": {},
   "source": [
    "# 3.0 Conclusões"
   ]
  },
  {
   "cell_type": "markdown",
   "metadata": {},
   "source": [
    "## 3.1 Geral"
   ]
  },
  {
   "cell_type": "markdown",
   "metadata": {},
   "source": [
    "#### Analisando o agrupamento de todos os dados, ou seja para todos os países avaliados não temos evidências que o preenchimento automático impactou nos gastos feitos pelos clientes"
   ]
  },
  {
   "cell_type": "markdown",
   "metadata": {},
   "source": [
    "## 3.2 Brasil"
   ]
  },
  {
   "cell_type": "markdown",
   "metadata": {},
   "source": [
    "#### Analisando os dados das compras realizadas no Brasil não temos evidências que o preenchimento automático impactou nos gastos feitos pelos clientes"
   ]
  },
  {
   "cell_type": "markdown",
   "metadata": {},
   "source": [
    "## 3.3 México"
   ]
  },
  {
   "cell_type": "markdown",
   "metadata": {},
   "source": [
    "#### Analisando os dados das compras realizadas no México não temos evidências que o preenchimento automático impactou nos gastos feitos pelos clientes. Para podermos termos amostras o suficiente para realizar o teste foi preciso reduzer a confiabilidade na resposta de mudança de comportamento devido ao preenchimento automático."
   ]
  },
  {
   "cell_type": "markdown",
   "metadata": {},
   "source": [
    "## 3.4 USA"
   ]
  },
  {
   "cell_type": "markdown",
   "metadata": {},
   "source": [
    "#### Analisando os dados das compras realizadas no USA não temos evidências que o preenchimento automático impactou nos gastos feitos pelos clientes"
   ]
  },
  {
   "cell_type": "markdown",
   "metadata": {},
   "source": [
    "## 3.5 Espanha"
   ]
  },
  {
   "cell_type": "markdown",
   "metadata": {},
   "source": [
    "#### Não houve amostras o suficiente para a realização do teste"
   ]
  },
  {
   "cell_type": "markdown",
   "metadata": {},
   "source": [
    "## 3.6 Grã Bretanha"
   ]
  },
  {
   "cell_type": "markdown",
   "metadata": {},
   "source": [
    "#### Não houve amostras o suficiente para a realização do teste"
   ]
  },
  {
   "cell_type": "markdown",
   "metadata": {},
   "source": [
    "## 3.7 Turquia"
   ]
  },
  {
   "cell_type": "markdown",
   "metadata": {},
   "source": [
    "#### Não houve amostras o suficiente para a realização do teste"
   ]
  },
  {
   "cell_type": "markdown",
   "metadata": {},
   "source": [
    "## 3.8 Alemanha"
   ]
  },
  {
   "cell_type": "markdown",
   "metadata": {},
   "source": [
    "#### Não houve amostras o suficiente para a realização do teste"
   ]
  },
  {
   "cell_type": "markdown",
   "metadata": {},
   "source": [
    "## 3.9 França"
   ]
  },
  {
   "cell_type": "markdown",
   "metadata": {},
   "source": [
    "#### Não houve amostras o suficiente para a realização do teste"
   ]
  },
  {
   "cell_type": "markdown",
   "metadata": {},
   "source": [
    "## 3.10 Austrália"
   ]
  },
  {
   "cell_type": "markdown",
   "metadata": {},
   "source": [
    "#### Não houve amostras o suficiente para a realização do teste"
   ]
  },
  {
   "cell_type": "markdown",
   "metadata": {},
   "source": [
    "## 3.11 Canadá"
   ]
  },
  {
   "cell_type": "markdown",
   "metadata": {},
   "source": [
    "#### Não houve amostras o suficiente para a realização do teste"
   ]
  }
 ],
 "metadata": {
  "kernelspec": {
   "display_name": "Python 3",
   "language": "python",
   "name": "python3"
  },
  "language_info": {
   "codemirror_mode": {
    "name": "ipython",
    "version": 3
   },
   "file_extension": ".py",
   "mimetype": "text/x-python",
   "name": "python",
   "nbconvert_exporter": "python",
   "pygments_lexer": "ipython3",
   "version": "3.10.7+"
  },
  "orig_nbformat": 4,
  "vscode": {
   "interpreter": {
    "hash": "374e06b39145fa51438958d5bbbc4afb5910da55a4d06b4c382d25f6ee36033c"
   }
  }
 },
 "nbformat": 4,
 "nbformat_minor": 2
}
